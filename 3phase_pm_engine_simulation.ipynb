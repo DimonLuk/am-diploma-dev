{
 "cells": [
  {
   "cell_type": "code",
   "execution_count": 1,
   "id": "43751c03-1997-4f5f-bc51-3a88047bc6e3",
   "metadata": {},
   "outputs": [],
   "source": [
    "%run center_of_mass_calculation.ipynb"
   ]
  },
  {
   "cell_type": "code",
   "execution_count": 2,
   "id": "57fefffb-52da-40a8-84b9-2d8fcccda33d",
   "metadata": {},
   "outputs": [],
   "source": [
    "import numpy as np\n",
    "import matplotlib.pyplot as plt\n",
    "from scipy.integrate import solve_ivp"
   ]
  },
  {
   "cell_type": "code",
   "execution_count": 5,
   "id": "e22750d2-a1fe-43cb-83bf-3040e4cd7107",
   "metadata": {},
   "outputs": [],
   "source": [
    "B = 1\n",
    "N = 50\n",
    "I = 18\n",
    "V = 52\n",
    "mu = 2.08\n",
    "S = 0.015"
   ]
  },
  {
   "cell_type": "code",
   "execution_count": 44,
   "id": "7b5ec3aa-b485-4d92-b420-fcc24aa4dccf",
   "metadata": {},
   "outputs": [],
   "source": [
    "def rotation_matrix(t, omega, i):\n",
    "    return np.array([\n",
    "        [np.cos(omega*t + (np.pi/2) + (2*np.pi*(i-1))/(3)), np.sin(omega*t + (np.pi/2) + (2*np.pi*(i-1))/(3))],\n",
    "        [-np.sin(omega*t + (np.pi/2) + (2*np.pi*(i-1))/(3)), np.cos(omega*t + (np.pi/2) + (2*np.pi*(i-1))/(3))],\n",
    "    ])"
   ]
  },
  {
   "cell_type": "code",
   "execution_count": 45,
   "id": "5a24dcf2-70f1-46fa-8608-002c34bef75c",
   "metadata": {},
   "outputs": [],
   "source": [
    "def delta(omega, t, i):\n",
    "    value = omega*t + np.pi/2 + ((i - 1)*4*np.pi/6)\n",
    "    return ((-np.pi*6 <= value) & (value <= 7*np.pi/6)).astype(int)"
   ]
  },
  {
   "cell_type": "code",
   "execution_count": 46,
   "id": "c6c0e159-ad66-4b8a-ba18-abe4efeb51ee",
   "metadata": {},
   "outputs": [],
   "source": [
    "def torque(t, omega, r, m):\n",
    "    return (-B*N*I*mu*S*(\n",
    "        delta(omega, t, 1)*np.sin(omega*t + np.pi/2)\n",
    "        + delta(omega, t, 2)*np.sin(omega*t + 7*np.pi/6)\n",
    "        + delta(omega, t, 3)*np.sin(omega*t + 11*np.pi/6)\n",
    "    # ) - 10*r[0]*m*(np.cos(omega*t + np.pi/2) + np.cos(omega*t + 7*np.pi/6) + np.cos(omega*t + 11*np.pi/6)))\n",
    "    ) - 10*m*(\n",
    "        (r[0]*np.cos(omega*t + np.pi/2) + r[1]*np.sin(omega*t + np.pi/2))\n",
    "        + (r[0]*np.cos(omega*t + 7*np.pi/6) + r[1]*np.sin(omega*t + 7*np.pi/6))\n",
    "        + (r[0]*np.cos(omega*t + 11*np.pi/6) + r[1]*np.sin(omega*t + 11*np.pi/6))\n",
    "    ))"
   ]
  },
  {
   "cell_type": "code",
   "execution_count": 47,
   "id": "e5fd4d3e-3be7-4071-89ed-deeb318bb8a3",
   "metadata": {},
   "outputs": [],
   "source": [
    "def domega_dt(t, omega, r, m):\n",
    "    r1 = tf.tensordot(tf.constant(rotation_matrix(t, omega, 1), dtype=\"float32\"), r, axes=[[1], [0]])\n",
    "    r2 = tf.tensordot(tf.constant(rotation_matrix(t, omega, 2), dtype=\"float32\"), r, axes=[[1], [0]])\n",
    "    r3 = tf.tensordot(tf.constant(rotation_matrix(t, omega, 3), dtype=\"float32\"), r, axes=[[1], [0]])\n",
    "    r1_dot = tf.reduce_sum(tf.square(r1))\n",
    "    r2_dot = tf.reduce_sum(tf.square(r2))\n",
    "    r3_dot = tf.reduce_sum(tf.square(r3))\n",
    "    return torque(t, omega, r, m)/(m*(r1_dot + r2_dot + r3_dot))"
   ]
  },
  {
   "cell_type": "code",
   "execution_count": 48,
   "id": "183fec7a-25cf-40f3-8fd1-5ff141389545",
   "metadata": {},
   "outputs": [],
   "source": [
    "def evaluate_efficiency(parameters, t, show_plots=False):\n",
    "    r, m = calculate_center_of_mass(parameters)\n",
    "    omega = solve_ivp(domega_dt, [0, 120], np.array([0]), args=tuple([r, m]), t_eval=t).y[0]\n",
    "    \n",
    "    if show_plots:\n",
    "        plt.figure(figsize=(7, 7))\n",
    "        plt.title(\"Залежність моменту обертання двигуна від часу\")\n",
    "        plt.xlabel(\"Час (секунди)\")\n",
    "        plt.ylabel(\"Момент обертання (Н * м)\")\n",
    "        plt.grid()\n",
    "        plt.plot(t, -torque(t, omega, r, m))\n",
    "\n",
    "        plt.figure(figsize=(7, 7))\n",
    "        plt.title(\"Залежність швидкості обертання від часу\")\n",
    "        plt.xlabel(\"Час (секунди)\")\n",
    "        plt.ylabel(\"Швидкість обертання (об./хв)\")\n",
    "        plt.grid()\n",
    "        plt.plot(t, -(omega/2*np.pi)*60)\n",
    "    \n",
    "    power = omega*torque(t, omega, r, m)\n",
    "    efficiency = power / (I * V)\n",
    "    \n",
    "    return tf.reduce_max(efficiency)"
   ]
  },
  {
   "cell_type": "code",
   "execution_count": 49,
   "id": "21f23189-e05c-4b25-a8cd-9a79f4aa6e8f",
   "metadata": {},
   "outputs": [],
   "source": [
    "t = np.linspace(0, 120, 1000)"
   ]
  },
  {
   "cell_type": "code",
   "execution_count": 50,
   "id": "5290502a-601e-4fa2-ba11-f7e562cdcb1e",
   "metadata": {},
   "outputs": [
    {
     "data": {
      "image/png": "[encoded data removed]",
      "text/plain": [
       "<Figure size 504x504 with 1 Axes>"
      ]
     },
     "metadata": {
      "needs_background": "light"
     },
     "output_type": "display_data"
    },
    {
     "data": {
      "image/png": "[encoded data removed]",
      "text/plain": [
       "<Figure size 504x504 with 1 Axes>"
      ]
     },
     "metadata": {
      "needs_background": "light"
     },
     "output_type": "display_data"
    }
   ],
   "source": [
    "# efficiency = evaluate_efficiency(canonical_parameters, t, show_plots=True)"
   ]
  },
  {
   "cell_type": "code",
   "execution_count": 51,
   "id": "e042b9be-eeb5-4e2e-9252-428e179b8dc2",
   "metadata": {},
   "outputs": [
    {
     "data": {
      "text/plain": [
       "<tf.Tensor: shape=(), dtype=float32, numpy=0.5056526>"
      ]
     },
     "execution_count": 51,
     "metadata": {},
     "output_type": "execute_result"
    }
   ],
   "source": [
    "# efficiency"
   ]
  }
 ],
 "metadata": {
  "kernelspec": {
   "display_name": "Python 3 (ipykernel)",
   "language": "python",
   "name": "python3"
  },
  "language_info": {
   "codemirror_mode": {
    "name": "ipython",
    "version": 3
   },
   "file_extension": ".py",
   "mimetype": "text/x-python",
   "name": "python",
   "nbconvert_exporter": "python",
   "pygments_lexer": "ipython3",
   "version": "3.9.13"
  }
 },
 "nbformat": 4,
 "nbformat_minor": 5
}
