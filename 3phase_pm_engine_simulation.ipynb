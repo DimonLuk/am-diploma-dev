{
 "cells": [
  {
   "cell_type": "code",
   "execution_count": 1,
   "id": "43751c03-1997-4f5f-bc51-3a88047bc6e3",
   "metadata": {},
   "outputs": [],
   "source": [
    "%run center_of_mass_calculation.ipynb"
   ]
  },
  {
   "cell_type": "code",
   "execution_count": 2,
   "id": "57fefffb-52da-40a8-84b9-2d8fcccda33d",
   "metadata": {},
   "outputs": [],
   "source": [
    "import numpy as np\n",
    "import matplotlib.pyplot as plt\n",
    "from scipy.integrate import solve_ivp"
   ]
  },
  {
   "cell_type": "code",
   "execution_count": 46,
   "id": "e22750d2-a1fe-43cb-83bf-3040e4cd7107",
   "metadata": {},
   "outputs": [],
   "source": [
    "B = 1\n",
    "N = 50\n",
    "I = 18\n",
    "V = 52\n",
    "mu = 2.08\n",
    "S = 0.015"
   ]
  },
  {
   "cell_type": "code",
   "execution_count": 47,
   "id": "5a24dcf2-70f1-46fa-8608-002c34bef75c",
   "metadata": {},
   "outputs": [],
   "source": [
    "def delta(omega, t, i):\n",
    "    value = omega*t + np.pi/2 + ((i - 1)*4*np.pi/6)\n",
    "    return ((-np.pi*6 <= value) & (value <= 7*np.pi/6)).astype(int)"
   ]
  },
  {
   "cell_type": "code",
   "execution_count": 48,
   "id": "c6c0e159-ad66-4b8a-ba18-abe4efeb51ee",
   "metadata": {},
   "outputs": [],
   "source": [
    "def torque(t, omega, r, m):\n",
    "    return (-B*N*I*mu*S*(\n",
    "        delta(omega, t, 1)*np.sin(omega*t + np.pi/2)\n",
    "        + delta(omega, t, 2)*np.sin(omega*t + 7*np.pi/6)\n",
    "        + delta(omega, t, 3)*np.sin(omega*t + 11*np.pi/6)\n",
    "    # ) - 10*r[0]*m*(np.cos(omega*t + np.pi/2) + np.cos(omega*t + 7*np.pi/6) + np.cos(omega*t + 11*np.pi/6)))\n",
    "    ) - 10*m*(\n",
    "        (r[0]*np.cos(omega*t + np.pi/2) + r[1]*np.sin(omega*t + np.pi/2))\n",
    "        + (r[0]*np.cos(omega*t + 7*np.pi/6) + r[1]*np.sin(omega*t + 7*np.pi/6))\n",
    "        + (r[0]*np.cos(omega*t + 11*np.pi/6) + r[1]*np.sin(omega*t + 11*np.pi/6))\n",
    "    ))"
   ]
  },
  {
   "cell_type": "code",
   "execution_count": 49,
   "id": "e5fd4d3e-3be7-4071-89ed-deeb318bb8a3",
   "metadata": {},
   "outputs": [],
   "source": [
    "def domega_dt(t, omega, r, m):\n",
    "    return torque(t, omega, r, m)/(3*m*(tf.reduce_sum(tf.square(r))))"
   ]
  },
  {
   "cell_type": "code",
   "execution_count": 54,
   "id": "183fec7a-25cf-40f3-8fd1-5ff141389545",
   "metadata": {},
   "outputs": [],
   "source": [
    "def evaluate_efficiency(parameters, t, show_plots=False):\n",
    "    r, m = calculate_center_of_mass(parameters)\n",
    "    omega = solve_ivp(domega_dt, [0, 120], np.array([0]), args=tuple([r, m]), t_eval=t).y[0]\n",
    "    \n",
    "    if show_plots:\n",
    "        plt.figure(figsize=(7, 7))\n",
    "        plt.title(\"Залежність моменту обертання двигуна від часу\")\n",
    "        plt.xlabel(\"Час (секунди)\")\n",
    "        plt.ylabel(\"Момент обертання (Н * м)\")\n",
    "        plt.grid()\n",
    "        plt.plot(t, -torque(t, omega, r, m))\n",
    "\n",
    "        plt.figure(figsize=(7, 7))\n",
    "        plt.title(\"Залежність швидкості обертання від часу\")\n",
    "        plt.xlabel(\"Час (секунди)\")\n",
    "        plt.ylabel(\"Швидкість обертання (об./хв)\")\n",
    "        plt.grid()\n",
    "        plt.plot(t, -(omega/2*np.pi)*60)\n",
    "    \n",
    "    power = omega*torque(t, omega, r, m)\n",
    "    efficiency = power / (I * V)\n",
    "    \n",
    "    return tf.reduce_max(efficiency)"
   ]
  },
  {
   "cell_type": "code",
   "execution_count": 51,
   "id": "21f23189-e05c-4b25-a8cd-9a79f4aa6e8f",
   "metadata": {},
   "outputs": [],
   "source": [
    "t = np.linspace(0, 120, 1000)"
   ]
  },
  {
   "cell_type": "code",
   "execution_count": 52,
   "id": "5290502a-601e-4fa2-ba11-f7e562cdcb1e",
   "metadata": {},
   "outputs": [],
   "source": [
    "efficiency = evaluate_efficiency(canonical_parameters, t)"
   ]
  },
  {
   "cell_type": "code",
   "execution_count": 53,
   "id": "1add317d-0666-479b-a6ad-664f78e4f3df",
   "metadata": {},
   "outputs": [
    {
     "data": {
      "text/plain": [
       "<tf.Tensor: shape=(), dtype=float32, numpy=0.51934665>"
      ]
     },
     "execution_count": 53,
     "metadata": {},
     "output_type": "execute_result"
    }
   ],
   "source": [
    "efficiency"
   ]
  },
  {
   "cell_type": "code",
   "execution_count": null,
   "id": "83b93626-c007-4ece-8c92-540b25dc4971",
   "metadata": {},
   "outputs": [],
   "source": []
  }
 ],
 "metadata": {
  "kernelspec": {
   "display_name": "Python 3 (ipykernel)",
   "language": "python",
   "name": "python3"
  },
  "language_info": {
   "codemirror_mode": {
    "name": "ipython",
    "version": 3
   },
   "file_extension": ".py",
   "mimetype": "text/x-python",
   "name": "python",
   "nbconvert_exporter": "python",
   "pygments_lexer": "ipython3",
   "version": "3.9.13"
  }
 },
 "nbformat": 4,
 "nbformat_minor": 5
}
