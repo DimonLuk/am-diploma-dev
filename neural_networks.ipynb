{
 "cells": [
  {
   "cell_type": "code",
   "execution_count": 1,
   "id": "b1b3bb11-fc06-4550-9ace-5188c3a78199",
   "metadata": {},
   "outputs": [
    {
     "data": {
      "image/png": "[encoded data removed]",
      "text/plain": [
       "<Figure size 792x576 with 1 Axes>"
      ]
     },
     "metadata": {
      "needs_background": "light"
     },
     "output_type": "display_data"
    }
   ],
   "source": [
    "%run center_of_mass_calculation.ipynb"
   ]
  },
  {
   "cell_type": "code",
   "execution_count": 2,
   "id": "bb88468c-b1b1-49f5-9029-dab66a866109",
   "metadata": {},
   "outputs": [
    {
     "data": {
      "image/png": "[encoded data removed]",
      "text/plain": [
       "<Figure size 792x576 with 1 Axes>"
      ]
     },
     "metadata": {
      "needs_background": "light"
     },
     "output_type": "display_data"
    }
   ],
   "source": [
    "%run 3phase_pm_engine_simulation.ipynb"
   ]
  },
  {
   "cell_type": "code",
   "execution_count": 3,
   "id": "e7d9b64c-b0d4-4841-a384-8df3cf9d5894",
   "metadata": {},
   "outputs": [],
   "source": [
    "import tensorflow as tf\n",
    "import pandas as pd\n",
    "from sklearn.model_selection import train_test_split\n",
    "import math\n",
    "from tensorflow.keras import backend as K"
   ]
  },
  {
   "cell_type": "code",
   "execution_count": 4,
   "id": "b33633c8-bdf5-44c1-a602-5e02c80ee655",
   "metadata": {},
   "outputs": [],
   "source": [
    "df = pd.read_csv(\"full_df.csv\", header=None)"
   ]
  },
  {
   "cell_type": "code",
   "execution_count": 5,
   "id": "f7e26007-796b-407d-9e48-42d9cdd6fb58",
   "metadata": {},
   "outputs": [],
   "source": [
    "data = df.to_numpy()"
   ]
  },
  {
   "cell_type": "code",
   "execution_count": 20,
   "id": "37d7e6d1-7e05-411b-bfe7-d461b09e14b9",
   "metadata": {},
   "outputs": [],
   "source": [
    "X = data[:, :28]\n",
    "y = data[:, 28:] * 100"
   ]
  },
  {
   "cell_type": "code",
   "execution_count": 21,
   "id": "c15535f1-2efd-4b58-b154-7b2dca72cf45",
   "metadata": {},
   "outputs": [],
   "source": [
    "X_train, X_test, y_train, y_test = train_test_split(X, y, test_size=0.33, random_state=137)"
   ]
  },
  {
   "cell_type": "code",
   "execution_count": 22,
   "id": "25a06bc5-d7c5-43f2-aa43-8ce43cb422f7",
   "metadata": {},
   "outputs": [],
   "source": [
    "X_train = tf.constant(X_train, dtype=\"float32\")\n",
    "X_test = tf.constant(X_test, dtype=\"float32\")\n",
    "y_train = tf.constant(y_train, dtype=\"float32\")\n",
    "y_test = tf.constant(y_test, dtype=\"float32\")"
   ]
  },
  {
   "cell_type": "code",
   "execution_count": 23,
   "id": "89da2599-ce05-4aeb-aea9-accaf7cae123",
   "metadata": {},
   "outputs": [
    {
     "data": {
      "text/plain": [
       "TensorShape([113012, 28])"
      ]
     },
     "execution_count": 23,
     "metadata": {},
     "output_type": "execute_result"
    }
   ],
   "source": [
    "X_train.shape"
   ]
  },
  {
   "cell_type": "code",
   "execution_count": 24,
   "id": "a458d8f4-7eb8-4d97-a0f9-603b25828acc",
   "metadata": {},
   "outputs": [],
   "source": [
    "train_ds = tf.data.Dataset.from_tensor_slices((X_train, y_train)).shuffle(100_000).batch(256)\n",
    "test_ds = tf.data.Dataset.from_tensor_slices((X_test, y_test)).batch(1000)"
   ]
  },
  {
   "cell_type": "code",
   "execution_count": 25,
   "id": "605bdcfb-f97d-4468-ab3e-3c5cba3c865f",
   "metadata": {},
   "outputs": [],
   "source": [
    "def hundred_relu(x):\n",
    "    return K.relu(x, max_value=100)"
   ]
  },
  {
   "cell_type": "code",
   "execution_count": 26,
   "id": "475c15a1-130a-4ab6-ae26-b6aa62080bb8",
   "metadata": {},
   "outputs": [],
   "source": [
    "class EvaluatorNetwork(tf.keras.Model):\n",
    "    def __init__(self):\n",
    "        super().__init__()\n",
    "        self.hidden_layers = [\n",
    "            tf.keras.layers.BatchNormalization(),\n",
    "            tf.keras.layers.Dense(64, activation=\"relu\"),\n",
    "            tf.keras.layers.Dense(64, activation=\"relu\"),\n",
    "            tf.keras.layers.Dense(64, activation=\"relu\"),\n",
    "        ]\n",
    "        self.output_layer = tf.keras.layers.Dense(1, activation=hundred_relu)\n",
    "        \n",
    "    def call(self, x):\n",
    "        for layer in self.hidden_layers:\n",
    "            x = layer(x)\n",
    "        return self.output_layer(x)"
   ]
  },
  {
   "cell_type": "code",
   "execution_count": 32,
   "id": "b39b25c7-edb8-4df3-939a-44c8c4e8bd3c",
   "metadata": {},
   "outputs": [],
   "source": [
    "evaluator = EvaluatorNetwork()"
   ]
  },
  {
   "cell_type": "code",
   "execution_count": 33,
   "id": "a3587a0b-2654-46bf-bb6a-a37691bca525",
   "metadata": {},
   "outputs": [
    {
     "name": "stdout",
     "output_type": "stream",
     "text": [
      "Model: \"evaluator_network_2\"\n",
      "_________________________________________________________________\n",
      " Layer (type)                Output Shape              Param #   \n",
      "=================================================================\n",
      " batch_normalization_2 (Batc  multiple                 112       \n",
      " hNormalization)                                                 \n",
      "                                                                 \n",
      " dense_8 (Dense)             multiple                  1856      \n",
      "                                                                 \n",
      " dense_9 (Dense)             multiple                  4160      \n",
      "                                                                 \n",
      " dense_10 (Dense)            multiple                  4160      \n",
      "                                                                 \n",
      " dense_11 (Dense)            multiple                  65        \n",
      "                                                                 \n",
      "=================================================================\n",
      "Total params: 10,353\n",
      "Trainable params: 10,297\n",
      "Non-trainable params: 56\n",
      "_________________________________________________________________\n"
     ]
    }
   ],
   "source": [
    "evaluator.build(input_shape=(None, 28))\n",
    "evaluator.summary()"
   ]
  },
  {
   "cell_type": "code",
   "execution_count": 34,
   "id": "0626a761-20ab-4fc3-be54-a74fee7f3089",
   "metadata": {},
   "outputs": [],
   "source": [
    "loss_object = tf.keras.losses.MeanAbsoluteError()\n",
    "optimizer = tf.keras.optimizers.Nadam(learning_rate=0.0001)"
   ]
  },
  {
   "cell_type": "code",
   "execution_count": 35,
   "id": "a34e38c6-cc5e-4d47-a63b-43e994e4c2c6",
   "metadata": {},
   "outputs": [],
   "source": [
    "train_loss = tf.keras.metrics.Mean(name='train_loss')\n",
    "test_loss = tf.keras.metrics.Mean(name='test_loss')"
   ]
  },
  {
   "cell_type": "code",
   "execution_count": 36,
   "id": "cd39eaba-7dda-4278-a7b3-9fc5367a1f9c",
   "metadata": {},
   "outputs": [],
   "source": [
    "@tf.function\n",
    "def evaluator_train_step(params, perf):\n",
    "    with tf.GradientTape() as tape:\n",
    "        predictions = evaluator(params, training=True)\n",
    "        loss = loss_object(perf, predictions)\n",
    "    gradients = tape.gradient(loss, evaluator.trainable_variables)\n",
    "    optimizer.apply_gradients(zip(gradients, evaluator.trainable_variables))\n",
    "\n",
    "    train_loss(loss)\n"
   ]
  },
  {
   "cell_type": "code",
   "execution_count": 37,
   "id": "e1371a4f-4caf-48a8-8b50-d05e8e7ebbdd",
   "metadata": {},
   "outputs": [],
   "source": [
    "@tf.function\n",
    "def evaluator_test_step(params, perf):\n",
    "    predictions = evaluator(params, training=False)\n",
    "    t_loss = loss_object(perf, predictions)\n",
    "\n",
    "    test_loss(t_loss)\n"
   ]
  },
  {
   "cell_type": "code",
   "execution_count": 38,
   "id": "886e876a-57f4-44f5-ae05-d90fa1bd2b08",
   "metadata": {
    "scrolled": true,
    "tags": []
   },
   "outputs": [
    {
     "name": "stdout",
     "output_type": "stream",
     "text": [
      "Epoch 1, Loss: 35.82564926147461, Test Loss: 8.390789031982422, \n",
      "Epoch 2, Loss: 5.993653297424316, Test Loss: 5.295508861541748, \n",
      "Epoch 3, Loss: 5.120433330535889, Test Loss: 4.961325168609619, \n",
      "Epoch 4, Loss: 4.828829288482666, Test Loss: 4.701651573181152, \n",
      "Epoch 5, Loss: 4.594082355499268, Test Loss: 4.496532917022705, \n",
      "Epoch 6, Loss: 4.398383140563965, Test Loss: 4.316038608551025, \n",
      "Epoch 7, Loss: 4.231627464294434, Test Loss: 4.1716203689575195, \n",
      "Epoch 8, Loss: 4.0904221534729, Test Loss: 4.03533411026001, \n",
      "Epoch 9, Loss: 3.9673683643341064, Test Loss: 3.9146347045898438, \n",
      "Epoch 10, Loss: 3.8548216819763184, Test Loss: 3.8111729621887207, \n",
      "Epoch 11, Loss: 3.757103204727173, Test Loss: 3.71565318107605, \n",
      "Epoch 12, Loss: 3.66855788230896, Test Loss: 3.62931752204895, \n",
      "Epoch 13, Loss: 3.584399700164795, Test Loss: 3.5533738136291504, \n",
      "Epoch 14, Loss: 3.5103909969329834, Test Loss: 3.4789211750030518, \n",
      "Epoch 15, Loss: 3.441911458969116, Test Loss: 3.4145214557647705, \n",
      "Epoch 16, Loss: 3.378905773162842, Test Loss: 3.35559344291687, \n",
      "Epoch 17, Loss: 3.322305202484131, Test Loss: 3.3011937141418457, \n",
      "Epoch 18, Loss: 3.2728941440582275, Test Loss: 3.254314661026001, \n",
      "Epoch 19, Loss: 3.2297310829162598, Test Loss: 3.2384660243988037, \n",
      "Epoch 20, Loss: 3.188418388366699, Test Loss: 3.1707072257995605, \n",
      "Epoch 21, Loss: 3.1491713523864746, Test Loss: 3.1385955810546875, \n",
      "Epoch 22, Loss: 3.1206769943237305, Test Loss: 3.109398365020752, \n",
      "Epoch 23, Loss: 3.0930025577545166, Test Loss: 3.0858876705169678, \n",
      "Epoch 24, Loss: 3.06587290763855, Test Loss: 3.0648229122161865, \n",
      "Epoch 25, Loss: 3.044367551803589, Test Loss: 3.0370326042175293, \n",
      "Epoch 26, Loss: 3.022271156311035, Test Loss: 3.020735502243042, \n",
      "Epoch 27, Loss: 3.0010688304901123, Test Loss: 2.997283935546875, \n",
      "Epoch 28, Loss: 2.987379312515259, Test Loss: 2.990405797958374, \n",
      "Epoch 29, Loss: 2.9747703075408936, Test Loss: 2.9701244831085205, \n",
      "Epoch 30, Loss: 2.961451292037964, Test Loss: 2.955962657928467, \n",
      "Epoch 31, Loss: 2.9518954753875732, Test Loss: 2.945474863052368, \n",
      "Epoch 32, Loss: 2.9387598037719727, Test Loss: 2.9357171058654785, \n",
      "Epoch 33, Loss: 2.933328151702881, Test Loss: 2.932727575302124, \n",
      "Epoch 34, Loss: 2.9226653575897217, Test Loss: 2.932626247406006, \n",
      "Epoch 35, Loss: 2.914985179901123, Test Loss: 2.912932872772217, \n",
      "Epoch 36, Loss: 2.910642623901367, Test Loss: 2.910067319869995, \n",
      "Epoch 37, Loss: 2.9044902324676514, Test Loss: 2.900651693344116, \n",
      "Epoch 38, Loss: 2.898632287979126, Test Loss: 2.909766912460327, \n",
      "Epoch 39, Loss: 2.895420551300049, Test Loss: 2.8973350524902344, \n",
      "Epoch 40, Loss: 2.8920483589172363, Test Loss: 2.896784543991089, \n"
     ]
    },
    {
     "ename": "KeyboardInterrupt",
     "evalue": "",
     "output_type": "error",
     "traceback": [
      "\u001b[0;31m---------------------------------------------------------------------------\u001b[0m",
      "\u001b[0;31mKeyboardInterrupt\u001b[0m                         Traceback (most recent call last)",
      "Input \u001b[0;32mIn [38]\u001b[0m, in \u001b[0;36m<cell line: 3>\u001b[0;34m()\u001b[0m\n\u001b[1;32m      6\u001b[0m test_loss\u001b[38;5;241m.\u001b[39mreset_states()\n\u001b[1;32m      8\u001b[0m i \u001b[38;5;241m=\u001b[39m \u001b[38;5;241m0\u001b[39m\n\u001b[0;32m----> 9\u001b[0m \u001b[38;5;28;01mfor\u001b[39;00m params, perf \u001b[38;5;129;01min\u001b[39;00m train_ds:\n\u001b[1;32m     10\u001b[0m     evaluator_train_step(params, perf)\n\u001b[1;32m     12\u001b[0m \u001b[38;5;28;01mfor\u001b[39;00m params, perf \u001b[38;5;129;01min\u001b[39;00m test_ds:\n",
      "File \u001b[0;32m/usr/local/lib/python3.9/dist-packages/tensorflow/python/data/ops/iterator_ops.py:766\u001b[0m, in \u001b[0;36mOwnedIterator.__next__\u001b[0;34m(self)\u001b[0m\n\u001b[1;32m    764\u001b[0m \u001b[38;5;28;01mdef\u001b[39;00m \u001b[38;5;21m__next__\u001b[39m(\u001b[38;5;28mself\u001b[39m):\n\u001b[1;32m    765\u001b[0m   \u001b[38;5;28;01mtry\u001b[39;00m:\n\u001b[0;32m--> 766\u001b[0m     \u001b[38;5;28;01mreturn\u001b[39;00m \u001b[38;5;28;43mself\u001b[39;49m\u001b[38;5;241;43m.\u001b[39;49m\u001b[43m_next_internal\u001b[49m\u001b[43m(\u001b[49m\u001b[43m)\u001b[49m\n\u001b[1;32m    767\u001b[0m   \u001b[38;5;28;01mexcept\u001b[39;00m errors\u001b[38;5;241m.\u001b[39mOutOfRangeError:\n\u001b[1;32m    768\u001b[0m     \u001b[38;5;28;01mraise\u001b[39;00m \u001b[38;5;167;01mStopIteration\u001b[39;00m\n",
      "File \u001b[0;32m/usr/local/lib/python3.9/dist-packages/tensorflow/python/data/ops/iterator_ops.py:749\u001b[0m, in \u001b[0;36mOwnedIterator._next_internal\u001b[0;34m(self)\u001b[0m\n\u001b[1;32m    746\u001b[0m \u001b[38;5;66;03m# TODO(b/77291417): This runs in sync mode as iterators use an error status\u001b[39;00m\n\u001b[1;32m    747\u001b[0m \u001b[38;5;66;03m# to communicate that there is no more data to iterate over.\u001b[39;00m\n\u001b[1;32m    748\u001b[0m \u001b[38;5;28;01mwith\u001b[39;00m context\u001b[38;5;241m.\u001b[39mexecution_mode(context\u001b[38;5;241m.\u001b[39mSYNC):\n\u001b[0;32m--> 749\u001b[0m   ret \u001b[38;5;241m=\u001b[39m \u001b[43mgen_dataset_ops\u001b[49m\u001b[38;5;241;43m.\u001b[39;49m\u001b[43miterator_get_next\u001b[49m\u001b[43m(\u001b[49m\n\u001b[1;32m    750\u001b[0m \u001b[43m      \u001b[49m\u001b[38;5;28;43mself\u001b[39;49m\u001b[38;5;241;43m.\u001b[39;49m\u001b[43m_iterator_resource\u001b[49m\u001b[43m,\u001b[49m\n\u001b[1;32m    751\u001b[0m \u001b[43m      \u001b[49m\u001b[43moutput_types\u001b[49m\u001b[38;5;241;43m=\u001b[39;49m\u001b[38;5;28;43mself\u001b[39;49m\u001b[38;5;241;43m.\u001b[39;49m\u001b[43m_flat_output_types\u001b[49m\u001b[43m,\u001b[49m\n\u001b[1;32m    752\u001b[0m \u001b[43m      \u001b[49m\u001b[43moutput_shapes\u001b[49m\u001b[38;5;241;43m=\u001b[39;49m\u001b[38;5;28;43mself\u001b[39;49m\u001b[38;5;241;43m.\u001b[39;49m\u001b[43m_flat_output_shapes\u001b[49m\u001b[43m)\u001b[49m\n\u001b[1;32m    754\u001b[0m   \u001b[38;5;28;01mtry\u001b[39;00m:\n\u001b[1;32m    755\u001b[0m     \u001b[38;5;66;03m# Fast path for the case `self._structure` is not a nested structure.\u001b[39;00m\n\u001b[1;32m    756\u001b[0m     \u001b[38;5;28;01mreturn\u001b[39;00m \u001b[38;5;28mself\u001b[39m\u001b[38;5;241m.\u001b[39m_element_spec\u001b[38;5;241m.\u001b[39m_from_compatible_tensor_list(ret)  \u001b[38;5;66;03m# pylint: disable=protected-access\u001b[39;00m\n",
      "File \u001b[0;32m/usr/local/lib/python3.9/dist-packages/tensorflow/python/ops/gen_dataset_ops.py:3012\u001b[0m, in \u001b[0;36miterator_get_next\u001b[0;34m(iterator, output_types, output_shapes, name)\u001b[0m\n\u001b[1;32m   3010\u001b[0m \u001b[38;5;28;01mif\u001b[39;00m tld\u001b[38;5;241m.\u001b[39mis_eager:\n\u001b[1;32m   3011\u001b[0m   \u001b[38;5;28;01mtry\u001b[39;00m:\n\u001b[0;32m-> 3012\u001b[0m     _result \u001b[38;5;241m=\u001b[39m \u001b[43mpywrap_tfe\u001b[49m\u001b[38;5;241;43m.\u001b[39;49m\u001b[43mTFE_Py_FastPathExecute\u001b[49m\u001b[43m(\u001b[49m\n\u001b[1;32m   3013\u001b[0m \u001b[43m      \u001b[49m\u001b[43m_ctx\u001b[49m\u001b[43m,\u001b[49m\u001b[43m \u001b[49m\u001b[38;5;124;43m\"\u001b[39;49m\u001b[38;5;124;43mIteratorGetNext\u001b[39;49m\u001b[38;5;124;43m\"\u001b[39;49m\u001b[43m,\u001b[49m\u001b[43m \u001b[49m\u001b[43mname\u001b[49m\u001b[43m,\u001b[49m\u001b[43m \u001b[49m\u001b[43miterator\u001b[49m\u001b[43m,\u001b[49m\u001b[43m \u001b[49m\u001b[38;5;124;43m\"\u001b[39;49m\u001b[38;5;124;43moutput_types\u001b[39;49m\u001b[38;5;124;43m\"\u001b[39;49m\u001b[43m,\u001b[49m\u001b[43m \u001b[49m\u001b[43moutput_types\u001b[49m\u001b[43m,\u001b[49m\n\u001b[1;32m   3014\u001b[0m \u001b[43m      \u001b[49m\u001b[38;5;124;43m\"\u001b[39;49m\u001b[38;5;124;43moutput_shapes\u001b[39;49m\u001b[38;5;124;43m\"\u001b[39;49m\u001b[43m,\u001b[49m\u001b[43m \u001b[49m\u001b[43moutput_shapes\u001b[49m\u001b[43m)\u001b[49m\n\u001b[1;32m   3015\u001b[0m     \u001b[38;5;28;01mreturn\u001b[39;00m _result\n\u001b[1;32m   3016\u001b[0m   \u001b[38;5;28;01mexcept\u001b[39;00m _core\u001b[38;5;241m.\u001b[39m_NotOkStatusException \u001b[38;5;28;01mas\u001b[39;00m e:\n",
      "\u001b[0;31mKeyboardInterrupt\u001b[0m: "
     ]
    }
   ],
   "source": [
    "EPOCHS = 500\n",
    "\n",
    "for epoch in range(EPOCHS):\n",
    "    # Reset the metrics at the start of the next epoch\n",
    "    train_loss.reset_states()\n",
    "    test_loss.reset_states()\n",
    "\n",
    "    i = 0\n",
    "    for params, perf in train_ds:\n",
    "        evaluator_train_step(params, perf)\n",
    "\n",
    "    for params, perf in test_ds:\n",
    "        evaluator_test_step(params, perf)\n",
    "\n",
    "    print(\n",
    "        f'Epoch {epoch + 1}, '\n",
    "        f'Loss: {train_loss.result()}, '\n",
    "        f'Test Loss: {test_loss.result()}, '\n",
    "    )\n"
   ]
  },
  {
   "cell_type": "code",
   "execution_count": 39,
   "id": "27df9ca1-40b4-4977-9b10-5a9e4eea7c98",
   "metadata": {},
   "outputs": [
    {
     "data": {
      "text/plain": [
       "<tf.Tensor: shape=(1, 1), dtype=float32, numpy=array([[50.902786]], dtype=float32)>"
      ]
     },
     "execution_count": 39,
     "metadata": {},
     "output_type": "execute_result"
    }
   ],
   "source": [
    "evaluator(tf.reshape(canonical_parameters, shape=(1, 28)))"
   ]
  },
  {
   "cell_type": "code",
   "execution_count": 57,
   "id": "3cd8a4b9-cc73-4af4-976a-23777f6d8583",
   "metadata": {},
   "outputs": [],
   "source": [
    "trans_mult = tf.constant([45] * 16 + [8] * 12, dtype=\"float32\")\n",
    "trans_add = tf.constant([5] * 16 + [16] * 12, dtype=\"float32\")"
   ]
  },
  {
   "cell_type": "code",
   "execution_count": 58,
   "id": "69773652-4e44-4b07-86ff-9037c416cb20",
   "metadata": {},
   "outputs": [],
   "source": [
    "class OptimizerNetwork(tf.keras.Model):\n",
    "    def __init__(self):\n",
    "        super().__init__()\n",
    "        self.hidden_layers = [\n",
    "            tf.keras.layers.Dense(128, activation=\"relu\"),\n",
    "            tf.keras.layers.Dense(128, activation=\"relu\"),\n",
    "            tf.keras.layers.Dense(64, activation=\"relu\"),\n",
    "            tf.keras.layers.Dense(32, activation=\"relu\"),\n",
    "        ]\n",
    "        self.output_layer = tf.keras.layers.Dense(28, activation=\"sigmoid\")\n",
    "        \n",
    "    def call(self, x):\n",
    "        for layer in self.hidden_layers:\n",
    "            x = layer(x)\n",
    "        x = self.output_layer(x)\n",
    "        x *= trans_mult\n",
    "        x += trans_add\n",
    "        return x"
   ]
  },
  {
   "cell_type": "code",
   "execution_count": 71,
   "id": "1e2d2939-9177-4bba-9a33-55a69c91ee33",
   "metadata": {},
   "outputs": [],
   "source": [
    "optimizer = OptimizerNetwork()"
   ]
  },
  {
   "cell_type": "code",
   "execution_count": 72,
   "id": "30d5f240-7483-46bf-9b17-065a83277787",
   "metadata": {},
   "outputs": [
    {
     "name": "stdout",
     "output_type": "stream",
     "text": [
      "Model: \"optimizer_network_4\"\n",
      "_________________________________________________________________\n",
      " Layer (type)                Output Shape              Param #   \n",
      "=================================================================\n",
      " dense_32 (Dense)            multiple                  3712      \n",
      "                                                                 \n",
      " dense_33 (Dense)            multiple                  16512     \n",
      "                                                                 \n",
      " dense_34 (Dense)            multiple                  8256      \n",
      "                                                                 \n",
      " dense_35 (Dense)            multiple                  2080      \n",
      "                                                                 \n",
      " dense_36 (Dense)            multiple                  924       \n",
      "                                                                 \n",
      "=================================================================\n",
      "Total params: 31,484\n",
      "Trainable params: 31,484\n",
      "Non-trainable params: 0\n",
      "_________________________________________________________________\n"
     ]
    }
   ],
   "source": [
    "optimizer.build(input_shape=(None, 28))\n",
    "optimizer.summary()"
   ]
  },
  {
   "cell_type": "code",
   "execution_count": 73,
   "id": "18fb9f61-d614-4726-a9ef-6f60d22445d5",
   "metadata": {},
   "outputs": [],
   "source": [
    "loss_object = tf.keras.losses.MeanAbsoluteError()\n",
    "nadam = tf.keras.optimizers.Nadam(learning_rate=0.0001)"
   ]
  },
  {
   "cell_type": "code",
   "execution_count": 74,
   "id": "6c57e466-d412-4437-abaa-c42542133580",
   "metadata": {},
   "outputs": [],
   "source": [
    "train_loss = tf.keras.metrics.Mean(name='train_loss')"
   ]
  },
  {
   "cell_type": "code",
   "execution_count": 75,
   "id": "82a77322-bb64-48fe-8893-a0886fab3d0c",
   "metadata": {},
   "outputs": [],
   "source": [
    "@tf.function\n",
    "def optimizer_train_step(params):\n",
    "    with tf.GradientTape() as tape:\n",
    "        predictions = optimizer(params, training=True)\n",
    "        evaluation = evaluator(predictions, training=False) / 100\n",
    "        loss = 1 - evaluation\n",
    "    gradients = tape.gradient(loss, optimizer.trainable_variables)\n",
    "    nadam.apply_gradients(zip(gradients, optimizer.trainable_variables))\n",
    "\n",
    "    train_loss(loss)\n",
    "    return predictions"
   ]
  },
  {
   "cell_type": "code",
   "execution_count": 76,
   "id": "e503949a-1085-4fe4-93fc-843ee597bb45",
   "metadata": {
    "scrolled": true,
    "tags": []
   },
   "outputs": [
    {
     "name": "stdout",
     "output_type": "stream",
     "text": [
      "Epoch 1, Loss: 0.4388824701309204, \n",
      "Epoch 2, Loss: 0.4639917016029358, \n",
      "Epoch 3, Loss: 0.4491928815841675, \n",
      "Epoch 4, Loss: 0.4359947443008423, \n",
      "Epoch 5, Loss: 0.4392572045326233, \n",
      "Epoch 6, Loss: 0.4349936246871948, \n",
      "Epoch 7, Loss: 0.4309144616127014, \n",
      "Epoch 8, Loss: 0.425261914730072, \n",
      "Epoch 9, Loss: 0.420102596282959, \n",
      "Epoch 10, Loss: 0.41752952337265015, \n",
      "Epoch 11, Loss: 0.41514408588409424, \n",
      "Epoch 12, Loss: 0.41214221715927124, \n",
      "Epoch 13, Loss: 0.409623920917511, \n",
      "Epoch 14, Loss: 0.40760695934295654, \n",
      "Epoch 15, Loss: 0.4058893918991089, \n",
      "Epoch 16, Loss: 0.40443551540374756, \n",
      "Epoch 17, Loss: 0.40322345495224, \n",
      "Epoch 18, Loss: 0.4020686745643616, \n",
      "Epoch 19, Loss: 0.40093690156936646, \n",
      "Epoch 20, Loss: 0.3997461795806885, \n",
      "Epoch 21, Loss: 0.39813679456710815, \n",
      "Epoch 22, Loss: 0.39572036266326904, \n",
      "Epoch 23, Loss: 0.3930132985115051, \n",
      "Epoch 24, Loss: 0.389423131942749, \n",
      "Epoch 25, Loss: 0.38727903366088867, \n",
      "Epoch 26, Loss: 0.3859454393386841, \n",
      "Epoch 27, Loss: 0.3848283290863037, \n",
      "Epoch 28, Loss: 0.38393092155456543, \n",
      "Epoch 29, Loss: 0.3831633925437927, \n",
      "Epoch 30, Loss: 0.3824464678764343, \n",
      "Epoch 31, Loss: 0.3817940950393677, \n",
      "Epoch 32, Loss: 0.3811744451522827, \n",
      "Epoch 33, Loss: 0.38059085607528687, \n",
      "Epoch 34, Loss: 0.38002651929855347, \n",
      "Epoch 35, Loss: 0.3794655203819275, \n",
      "Epoch 36, Loss: 0.37887823581695557, \n",
      "Epoch 37, Loss: 0.3782753348350525, \n",
      "Epoch 38, Loss: 0.37759917974472046, \n",
      "Epoch 39, Loss: 0.37672001123428345, \n",
      "Epoch 40, Loss: 0.37475764751434326, \n",
      "Epoch 41, Loss: 0.3710477352142334, \n",
      "Epoch 42, Loss: 0.36540114879608154, \n",
      "Epoch 43, Loss: 0.3606753945350647, \n",
      "Epoch 44, Loss: 0.35808753967285156, \n",
      "Epoch 45, Loss: 0.3559550642967224, \n",
      "Epoch 46, Loss: 0.3546711802482605, \n",
      "Epoch 47, Loss: 0.3522299528121948, \n",
      "Epoch 48, Loss: 0.3495485186576843, \n",
      "Epoch 49, Loss: 0.3474423885345459, \n",
      "Epoch 50, Loss: 0.34514397382736206, \n",
      "Epoch 51, Loss: 0.34300553798675537, \n",
      "Epoch 52, Loss: 0.34118926525115967, \n",
      "Epoch 53, Loss: 0.33969324827194214, \n",
      "Epoch 54, Loss: 0.3383793234825134, \n",
      "Epoch 55, Loss: 0.33720284700393677, \n",
      "Epoch 56, Loss: 0.3361586332321167, \n",
      "Epoch 57, Loss: 0.3352224826812744, \n",
      "Epoch 58, Loss: 0.33438533544540405, \n",
      "Epoch 59, Loss: 0.33365195989608765, \n",
      "Epoch 60, Loss: 0.3329761028289795, \n",
      "Epoch 61, Loss: 0.3323456048965454, \n",
      "Epoch 62, Loss: 0.3317519426345825, \n",
      "Epoch 63, Loss: 0.33117324113845825, \n",
      "Epoch 64, Loss: 0.33061450719833374, \n",
      "Epoch 65, Loss: 0.3300582766532898, \n",
      "Epoch 66, Loss: 0.3294941782951355, \n",
      "Epoch 67, Loss: 0.3289092183113098, \n",
      "Epoch 68, Loss: 0.3282827138900757, \n",
      "Epoch 69, Loss: 0.32758933305740356, \n",
      "Epoch 70, Loss: 0.32680994272232056, \n",
      "Epoch 71, Loss: 0.32591432332992554, \n",
      "Epoch 72, Loss: 0.3248857259750366, \n",
      "Epoch 73, Loss: 0.323721706867218, \n",
      "Epoch 74, Loss: 0.3223068118095398, \n",
      "Epoch 75, Loss: 0.3207165598869324, \n",
      "Epoch 76, Loss: 0.3192518949508667, \n",
      "Epoch 77, Loss: 0.31800365447998047, \n",
      "Epoch 78, Loss: 0.3169388175010681, \n",
      "Epoch 79, Loss: 0.3160335421562195, \n",
      "Epoch 80, Loss: 0.3152538537979126, \n",
      "Epoch 81, Loss: 0.3145527243614197, \n",
      "Epoch 82, Loss: 0.31390488147735596, \n",
      "Epoch 83, Loss: 0.3132830262184143, \n",
      "Epoch 84, Loss: 0.3126394748687744, \n",
      "Epoch 85, Loss: 0.31189918518066406, \n",
      "Epoch 86, Loss: 0.31094467639923096, \n",
      "Epoch 87, Loss: 0.3092687129974365, \n",
      "Epoch 88, Loss: 0.30418843030929565, \n",
      "Epoch 89, Loss: 0.29634368419647217, \n",
      "Epoch 90, Loss: 0.2926301956176758, \n",
      "Epoch 91, Loss: 0.29432213306427, \n",
      "Epoch 92, Loss: 0.29139041900634766, \n",
      "Epoch 93, Loss: 0.28768986463546753, \n",
      "Epoch 94, Loss: 0.28602248430252075, \n",
      "Epoch 95, Loss: 0.283644437789917, \n",
      "Epoch 96, Loss: 0.28164970874786377, \n",
      "Epoch 97, Loss: 0.27937090396881104, \n",
      "Epoch 98, Loss: 0.27764666080474854, \n",
      "Epoch 99, Loss: 0.27618956565856934, \n",
      "Epoch 100, Loss: 0.2748568654060364, \n",
      "Epoch 101, Loss: 0.27364128828048706, \n",
      "Epoch 102, Loss: 0.27247852087020874, \n",
      "Epoch 103, Loss: 0.2711780071258545, \n",
      "Epoch 104, Loss: 0.2697484493255615, \n",
      "Epoch 105, Loss: 0.2679194211959839, \n",
      "Epoch 106, Loss: 0.2649869918823242, \n",
      "Epoch 107, Loss: 0.26117897033691406, \n",
      "Epoch 108, Loss: 0.2584378719329834, \n",
      "Epoch 109, Loss: 0.2541743516921997, \n",
      "Epoch 110, Loss: 0.25197917222976685, \n",
      "Epoch 111, Loss: 0.2501952648162842, \n",
      "Epoch 112, Loss: 0.24672091007232666, \n",
      "Epoch 113, Loss: 0.2429898977279663, \n",
      "Epoch 114, Loss: 0.23963791131973267, \n",
      "Epoch 115, Loss: 0.23609137535095215, \n",
      "Epoch 116, Loss: 0.23388510942459106, \n",
      "Epoch 117, Loss: 0.23205482959747314, \n",
      "Epoch 118, Loss: 0.23022788763046265, \n",
      "Epoch 119, Loss: 0.22861021757125854, \n",
      "Epoch 120, Loss: 0.2272634506225586, \n",
      "Epoch 121, Loss: 0.2261248230934143, \n",
      "Epoch 122, Loss: 0.2251185178756714, \n",
      "Epoch 123, Loss: 0.22406846284866333, \n",
      "Epoch 124, Loss: 0.2230374813079834, \n",
      "Epoch 125, Loss: 0.2219334840774536, \n",
      "Epoch 126, Loss: 0.2208530306816101, \n",
      "Epoch 127, Loss: 0.21945393085479736, \n",
      "Epoch 128, Loss: 0.21794992685317993, \n",
      "Epoch 129, Loss: 0.21661722660064697, \n",
      "Epoch 130, Loss: 0.2155587077140808, \n",
      "Epoch 131, Loss: 0.21429353952407837, \n",
      "Epoch 132, Loss: 0.2130124568939209, \n",
      "Epoch 133, Loss: 0.21208423376083374, \n",
      "Epoch 134, Loss: 0.21111774444580078, \n",
      "Epoch 135, Loss: 0.21037662029266357, \n",
      "Epoch 136, Loss: 0.2098483443260193, \n",
      "Epoch 137, Loss: 0.20937460660934448, \n",
      "Epoch 138, Loss: 0.20899349451065063, \n",
      "Epoch 139, Loss: 0.2086811065673828, \n",
      "Epoch 140, Loss: 0.20843583345413208, \n",
      "Epoch 141, Loss: 0.208210289478302, \n",
      "Epoch 142, Loss: 0.20801669359207153, \n",
      "Epoch 143, Loss: 0.20784753561019897, \n",
      "Epoch 144, Loss: 0.20769846439361572, \n",
      "Epoch 145, Loss: 0.20757168531417847, \n",
      "Epoch 146, Loss: 0.2074534296989441, \n",
      "Epoch 147, Loss: 0.20734328031539917, \n",
      "Epoch 148, Loss: 0.2072429060935974, \n",
      "Epoch 149, Loss: 0.2071508765220642, \n",
      "Epoch 150, Loss: 0.20706534385681152, \n",
      "Epoch 151, Loss: 0.20699000358581543, \n",
      "Epoch 152, Loss: 0.2069169282913208, \n",
      "Epoch 153, Loss: 0.20684975385665894, \n",
      "Epoch 154, Loss: 0.20678722858428955, \n",
      "Epoch 155, Loss: 0.2067282795906067, \n",
      "Epoch 156, Loss: 0.20667433738708496, \n",
      "Epoch 157, Loss: 0.20662391185760498, \n",
      "Epoch 158, Loss: 0.20657497644424438, \n",
      "Epoch 159, Loss: 0.2065286636352539, \n",
      "Epoch 160, Loss: 0.20648491382598877, \n",
      "Epoch 161, Loss: 0.20644354820251465, \n",
      "Epoch 162, Loss: 0.2064042091369629, \n",
      "Epoch 163, Loss: 0.20636844635009766, \n",
      "Epoch 164, Loss: 0.2063336968421936, \n",
      "Epoch 165, Loss: 0.2062997817993164, \n",
      "Epoch 166, Loss: 0.20626753568649292, \n",
      "Epoch 167, Loss: 0.20623713731765747, \n",
      "Epoch 168, Loss: 0.20620810985565186, \n",
      "Epoch 169, Loss: 0.20618021488189697, \n",
      "Epoch 170, Loss: 0.2061535120010376, \n",
      "Epoch 171, Loss: 0.2061287760734558, \n",
      "Epoch 172, Loss: 0.20610439777374268, \n",
      "Epoch 173, Loss: 0.20608079433441162, \n",
      "Epoch 174, Loss: 0.20605814456939697, \n",
      "Epoch 175, Loss: 0.2060362696647644, \n",
      "Epoch 176, Loss: 0.20601540803909302, \n",
      "Epoch 177, Loss: 0.20599544048309326, \n",
      "Epoch 178, Loss: 0.20597583055496216, \n",
      "Epoch 179, Loss: 0.2059575915336609, \n",
      "Epoch 180, Loss: 0.20593971014022827, \n",
      "Epoch 181, Loss: 0.20592230558395386, \n",
      "Epoch 182, Loss: 0.20590555667877197, \n",
      "Epoch 183, Loss: 0.2058892846107483, \n",
      "Epoch 184, Loss: 0.2058734893798828, \n",
      "Epoch 185, Loss: 0.20585817098617554, \n",
      "Epoch 186, Loss: 0.20584344863891602, \n",
      "Epoch 187, Loss: 0.20582932233810425, \n",
      "Epoch 188, Loss: 0.20581597089767456, \n",
      "Epoch 189, Loss: 0.20580238103866577, \n",
      "Epoch 190, Loss: 0.20578926801681519, \n",
      "Epoch 191, Loss: 0.2057766318321228, \n",
      "Epoch 192, Loss: 0.20576423406600952, \n",
      "Epoch 193, Loss: 0.20575225353240967, \n",
      "Epoch 194, Loss: 0.20574051141738892, \n",
      "Epoch 195, Loss: 0.20572948455810547, \n",
      "Epoch 196, Loss: 0.20571863651275635, \n",
      "Epoch 197, Loss: 0.20570796728134155, \n",
      "Epoch 198, Loss: 0.2056974172592163, \n",
      "Epoch 199, Loss: 0.20568710565567017, \n",
      "Epoch 200, Loss: 0.20567715167999268, \n"
     ]
    }
   ],
   "source": [
    "EPOCHS = 200\n",
    "possible_densities = tf.random.uniform((1, 16), minval=5, maxval=50, dtype=\"float32\", seed=42)\n",
    "params = tf.random.uniform((1, 12), minval=16, maxval=24, dtype=\"float32\", seed=42)\n",
    "params = tf.concat([possible_densities, params], axis=1)\n",
    "\n",
    "params = tf.reshape(params, shape=(1, 28))\n",
    "\n",
    "for epoch in range(EPOCHS):\n",
    "    # Reset the metrics at the start of the next epoch\n",
    "    train_loss.reset_states()\n",
    "    params = optimizer_train_step(params)\n",
    "\n",
    "    print(\n",
    "        f'Epoch {epoch + 1}, '\n",
    "        f'Loss: {train_loss.result()}, '\n",
    "    )"
   ]
  },
  {
   "cell_type": "code",
   "execution_count": 77,
   "id": "d315d2ed-405b-4cca-b1ce-8affb2608daa",
   "metadata": {},
   "outputs": [
    {
     "data": {
      "text/plain": [
       "<tf.Tensor: shape=(1, 28), dtype=float32, numpy=\n",
       "array([[50.       , 49.63875  ,  5.0000796,  5.086333 ,  5.0437512,\n",
       "        50.       ,  5.017602 ,  5.0445957,  5.067348 ,  5.0113072,\n",
       "        49.676956 ,  5.005883 ,  5.0005207,  5.       , 50.       ,\n",
       "         5.0142016, 23.998634 , 23.99807  , 16.008509 , 23.998417 ,\n",
       "        23.976421 , 24.       , 23.99989  , 16.       , 16.       ,\n",
       "        16.043943 , 23.991905 , 23.999668 ]], dtype=float32)>"
      ]
     },
     "execution_count": 77,
     "metadata": {},
     "output_type": "execute_result"
    }
   ],
   "source": [
    "params"
   ]
  },
  {
   "cell_type": "code",
   "execution_count": 78,
   "id": "33ecfcef-8a9e-44dc-ac93-c45883be00e2",
   "metadata": {},
   "outputs": [
    {
     "data": {
      "text/plain": [
       "(<tf.Tensor: shape=(2, 1), dtype=float32, numpy=\n",
       " array([[0.00400635],\n",
       "        [0.05779317]], dtype=float32)>,\n",
       " <tf.Tensor: shape=(), dtype=float32, numpy=4.1616654>)"
      ]
     },
     "execution_count": 78,
     "metadata": {},
     "output_type": "execute_result"
    },
    {
     "data": {
      "image/png": "[encoded data removed]",
      "text/plain": [
       "<Figure size 792x576 with 1 Axes>"
      ]
     },
     "metadata": {
      "needs_background": "light"
     },
     "output_type": "display_data"
    }
   ],
   "source": [
    "calculate_center_of_mass(tf.reshape(params, (28,)), show_plots=True)"
   ]
  },
  {
   "cell_type": "code",
   "execution_count": 79,
   "id": "b4336892-d8af-4e7b-aabf-7a110ae49063",
   "metadata": {},
   "outputs": [
    {
     "data": {
      "text/plain": [
       "<tf.Tensor: shape=(), dtype=float32, numpy=0.74154335>"
      ]
     },
     "execution_count": 79,
     "metadata": {},
     "output_type": "execute_result"
    },
    {
     "data": {
      "image/png": "[encoded data removed]",
      "text/plain": [
       "<Figure size 504x504 with 1 Axes>"
      ]
     },
     "metadata": {
      "needs_background": "light"
     },
     "output_type": "display_data"
    },
    {
     "data": {
      "image/png": "[encoded data removed]",
      "text/plain": [
       "<Figure size 504x504 with 1 Axes>"
      ]
     },
     "metadata": {
      "needs_background": "light"
     },
     "output_type": "display_data"
    }
   ],
   "source": [
    "t = np.linspace(0, 120, 1000)\n",
    "evaluate_efficiency(tf.reshape(params, (28,)), t, show_plots=True)"
   ]
  },
  {
   "cell_type": "code",
   "execution_count": 80,
   "id": "9f114353-0282-449e-9cd9-7b2d0f68961a",
   "metadata": {},
   "outputs": [
    {
     "data": {
      "text/plain": [
       "<tf.Tensor: shape=(), dtype=float32, numpy=0.5056526>"
      ]
     },
     "execution_count": 80,
     "metadata": {},
     "output_type": "execute_result"
    }
   ],
   "source": [
    "evaluate_efficiency(tf.reshape(canonical_parameters, (28,)), t)"
   ]
  },
  {
   "cell_type": "code",
   "execution_count": 82,
   "id": "0aa71fee-3723-413c-bc6f-1ccb0803cd0d",
   "metadata": {},
   "outputs": [],
   "source": [
    "d = tf.concat([tf.reshape(params, (28,)), tf.constant([0.74154335])], axis=0).numpy()\n",
    "d = tf.reshape(d, shape=(29, 1))\n",
    "bdf = pd.DataFrame(d)\n",
    "bdf.to_csv(\"best_params.csv\", index=False, header=False)"
   ]
  },
  {
   "cell_type": "code",
   "execution_count": null,
   "id": "cabb99fe-ed6b-47b4-9a4e-30b39f4c331f",
   "metadata": {},
   "outputs": [],
   "source": []
  }
 ],
 "metadata": {
  "kernelspec": {
   "display_name": "Python 3 (ipykernel)",
   "language": "python",
   "name": "python3"
  },
  "language_info": {
   "codemirror_mode": {
    "name": "ipython",
    "version": 3
   },
   "file_extension": ".py",
   "mimetype": "text/x-python",
   "name": "python",
   "nbconvert_exporter": "python",
   "pygments_lexer": "ipython3",
   "version": "3.9.13"
  }
 },
 "nbformat": 4,
 "nbformat_minor": 5
}
