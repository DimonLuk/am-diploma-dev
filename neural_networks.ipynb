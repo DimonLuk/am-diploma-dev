{
 "cells": [
  {
   "cell_type": "code",
   "execution_count": 1,
   "id": "b1b3bb11-fc06-4550-9ace-5188c3a78199",
   "metadata": {},
   "outputs": [],
   "source": [
    "%run center_of_mass_calculation.ipynb"
   ]
  },
  {
   "cell_type": "code",
   "execution_count": 2,
   "id": "bb88468c-b1b1-49f5-9029-dab66a866109",
   "metadata": {},
   "outputs": [],
   "source": [
    "%run 3phase_pm_engine_simulation.ipynb"
   ]
  },
  {
   "cell_type": "code",
   "execution_count": 3,
   "id": "e7d9b64c-b0d4-4841-a384-8df3cf9d5894",
   "metadata": {},
   "outputs": [],
   "source": [
    "import tensorflow as tf\n",
    "import pandas as pd\n",
    "from sklearn.model_selection import train_test_split\n",
    "import math\n",
    "from tensorflow.keras import backend as K"
   ]
  },
  {
   "cell_type": "code",
   "execution_count": 4,
   "id": "b33633c8-bdf5-44c1-a602-5e02c80ee655",
   "metadata": {},
   "outputs": [],
   "source": [
    "df = pd.read_csv(\"full_df.csv\", header=None)"
   ]
  },
  {
   "cell_type": "code",
   "execution_count": 5,
   "id": "f7e26007-796b-407d-9e48-42d9cdd6fb58",
   "metadata": {},
   "outputs": [],
   "source": [
    "data = df.to_numpy()"
   ]
  },
  {
   "cell_type": "code",
   "execution_count": 6,
   "id": "37d7e6d1-7e05-411b-bfe7-d461b09e14b9",
   "metadata": {},
   "outputs": [],
   "source": [
    "X = data[:, :29]\n",
    "y = data[:, 29:] * 100"
   ]
  },
  {
   "cell_type": "code",
   "execution_count": 7,
   "id": "c15535f1-2efd-4b58-b154-7b2dca72cf45",
   "metadata": {},
   "outputs": [],
   "source": [
    "X_train, X_test, y_train, y_test = train_test_split(X, y, test_size=0.33, random_state=137)"
   ]
  },
  {
   "cell_type": "code",
   "execution_count": 8,
   "id": "25a06bc5-d7c5-43f2-aa43-8ce43cb422f7",
   "metadata": {},
   "outputs": [],
   "source": [
    "X_train = tf.constant(X_train, dtype=\"float32\")\n",
    "X_test = tf.constant(X_test, dtype=\"float32\")\n",
    "y_train = tf.constant(y_train, dtype=\"float32\")\n",
    "y_test = tf.constant(y_test, dtype=\"float32\")"
   ]
  },
  {
   "cell_type": "code",
   "execution_count": 9,
   "id": "89da2599-ce05-4aeb-aea9-accaf7cae123",
   "metadata": {},
   "outputs": [
    {
     "data": {
      "text/plain": [
       "TensorShape([41783, 29])"
      ]
     },
     "execution_count": 9,
     "metadata": {},
     "output_type": "execute_result"
    }
   ],
   "source": [
    "X_train.shape"
   ]
  },
  {
   "cell_type": "code",
   "execution_count": 10,
   "id": "a458d8f4-7eb8-4d97-a0f9-603b25828acc",
   "metadata": {},
   "outputs": [],
   "source": [
    "train_ds = tf.data.Dataset.from_tensor_slices((X_train, y_train)).shuffle(100_000).batch(256)\n",
    "test_ds = tf.data.Dataset.from_tensor_slices((X_test, y_test)).batch(1000)"
   ]
  },
  {
   "cell_type": "code",
   "execution_count": 11,
   "id": "605bdcfb-f97d-4468-ab3e-3c5cba3c865f",
   "metadata": {},
   "outputs": [],
   "source": [
    "def hundred_relu(x):\n",
    "    return K.relu(x, max_value=100)"
   ]
  },
  {
   "cell_type": "code",
   "execution_count": 12,
   "id": "475c15a1-130a-4ab6-ae26-b6aa62080bb8",
   "metadata": {},
   "outputs": [],
   "source": [
    "class EvaluatorNetwork(tf.keras.Model):\n",
    "    def __init__(self):\n",
    "        super().__init__()\n",
    "        self.hidden_layers = [\n",
    "            tf.keras.layers.BatchNormalization(),\n",
    "            tf.keras.layers.Dense(64, activation=\"relu\"),\n",
    "            tf.keras.layers.Dense(64, activation=\"relu\"),\n",
    "            tf.keras.layers.Dense(64, activation=\"relu\"),\n",
    "        ]\n",
    "        self.output_layer = tf.keras.layers.Dense(1, activation=hundred_relu)\n",
    "        \n",
    "    def call(self, x):\n",
    "        for layer in self.hidden_layers:\n",
    "            x = layer(x)\n",
    "        return self.output_layer(x)"
   ]
  },
  {
   "cell_type": "code",
   "execution_count": 20,
   "id": "b39b25c7-edb8-4df3-939a-44c8c4e8bd3c",
   "metadata": {},
   "outputs": [],
   "source": [
    "evaluator = EvaluatorNetwork()"
   ]
  },
  {
   "cell_type": "code",
   "execution_count": 21,
   "id": "a3587a0b-2654-46bf-bb6a-a37691bca525",
   "metadata": {},
   "outputs": [
    {
     "name": "stdout",
     "output_type": "stream",
     "text": [
      "Model: \"evaluator_network_1\"\n",
      "_________________________________________________________________\n",
      " Layer (type)                Output Shape              Param #   \n",
      "=================================================================\n",
      " batch_normalization_1 (Batc  multiple                 116       \n",
      " hNormalization)                                                 \n",
      "                                                                 \n",
      " dense_4 (Dense)             multiple                  1920      \n",
      "                                                                 \n",
      " dense_5 (Dense)             multiple                  4160      \n",
      "                                                                 \n",
      " dense_6 (Dense)             multiple                  4160      \n",
      "                                                                 \n",
      " dense_7 (Dense)             multiple                  65        \n",
      "                                                                 \n",
      "=================================================================\n",
      "Total params: 10,421\n",
      "Trainable params: 10,363\n",
      "Non-trainable params: 58\n",
      "_________________________________________________________________\n"
     ]
    }
   ],
   "source": [
    "evaluator.build(input_shape=(None, 29))\n",
    "evaluator.summary()"
   ]
  },
  {
   "cell_type": "code",
   "execution_count": 22,
   "id": "0626a761-20ab-4fc3-be54-a74fee7f3089",
   "metadata": {},
   "outputs": [],
   "source": [
    "loss_object = tf.keras.losses.MeanAbsoluteError()\n",
    "optimizer = tf.keras.optimizers.Nadam(learning_rate=0.0001)"
   ]
  },
  {
   "cell_type": "code",
   "execution_count": 23,
   "id": "a34e38c6-cc5e-4d47-a63b-43e994e4c2c6",
   "metadata": {},
   "outputs": [],
   "source": [
    "train_loss = tf.keras.metrics.Mean(name='train_loss')\n",
    "test_loss = tf.keras.metrics.Mean(name='test_loss')"
   ]
  },
  {
   "cell_type": "code",
   "execution_count": 24,
   "id": "cd39eaba-7dda-4278-a7b3-9fc5367a1f9c",
   "metadata": {},
   "outputs": [],
   "source": [
    "@tf.function\n",
    "def evaluator_train_step(params, perf):\n",
    "    with tf.GradientTape() as tape:\n",
    "        predictions = evaluator(params, training=True)\n",
    "        loss = loss_object(perf, predictions)\n",
    "    gradients = tape.gradient(loss, evaluator.trainable_variables)\n",
    "    optimizer.apply_gradients(zip(gradients, evaluator.trainable_variables))\n",
    "\n",
    "    train_loss(loss)\n"
   ]
  },
  {
   "cell_type": "code",
   "execution_count": 25,
   "id": "e1371a4f-4caf-48a8-8b50-d05e8e7ebbdd",
   "metadata": {},
   "outputs": [],
   "source": [
    "@tf.function\n",
    "def evaluator_test_step(params, perf):\n",
    "    predictions = evaluator(params, training=False)\n",
    "    t_loss = loss_object(perf, predictions)\n",
    "\n",
    "    test_loss(t_loss)\n"
   ]
  },
  {
   "cell_type": "code",
   "execution_count": 26,
   "id": "886e876a-57f4-44f5-ae05-d90fa1bd2b08",
   "metadata": {
    "scrolled": true,
    "tags": []
   },
   "outputs": [
    {
     "name": "stdout",
     "output_type": "stream",
     "text": [
      "Epoch 1, Loss: 48.87505340576172, Test Loss: 41.092647552490234, \n",
      "Epoch 2, Loss: 29.679698944091797, Test Loss: 10.80240535736084, \n",
      "Epoch 3, Loss: 8.67816162109375, Test Loss: 7.029417991638184, \n",
      "Epoch 4, Loss: 6.384271621704102, Test Loss: 5.968738079071045, \n",
      "Epoch 5, Loss: 5.7814130783081055, Test Loss: 5.644043922424316, \n",
      "Epoch 6, Loss: 5.554055690765381, Test Loss: 5.46052885055542, \n",
      "Epoch 7, Loss: 5.395282745361328, Test Loss: 5.315282344818115, \n",
      "Epoch 8, Loss: 5.242210388183594, Test Loss: 5.188177585601807, \n",
      "Epoch 9, Loss: 5.117482662200928, Test Loss: 5.070277214050293, \n",
      "Epoch 10, Loss: 5.0027642250061035, Test Loss: 4.964953899383545, \n",
      "Epoch 11, Loss: 4.881549835205078, Test Loss: 4.868453025817871, \n",
      "Epoch 12, Loss: 4.801510334014893, Test Loss: 4.777055263519287, \n",
      "Epoch 13, Loss: 4.702637195587158, Test Loss: 4.691908359527588, \n",
      "Epoch 14, Loss: 4.6196699142456055, Test Loss: 4.613702297210693, \n",
      "Epoch 15, Loss: 4.538541316986084, Test Loss: 4.543344974517822, \n",
      "Epoch 16, Loss: 4.458109378814697, Test Loss: 4.475435256958008, \n",
      "Epoch 17, Loss: 4.40144681930542, Test Loss: 4.416706562042236, \n",
      "Epoch 18, Loss: 4.329923152923584, Test Loss: 4.352839469909668, \n",
      "Epoch 19, Loss: 4.26188850402832, Test Loss: 4.295125484466553, \n",
      "Epoch 20, Loss: 4.202531337738037, Test Loss: 4.242365837097168, \n",
      "Epoch 21, Loss: 4.150224685668945, Test Loss: 4.192318439483643, \n",
      "Epoch 22, Loss: 4.096185684204102, Test Loss: 4.141513347625732, \n",
      "Epoch 23, Loss: 4.046009540557861, Test Loss: 4.097253799438477, \n",
      "Epoch 24, Loss: 4.012713432312012, Test Loss: 4.0585455894470215, \n",
      "Epoch 25, Loss: 3.963632345199585, Test Loss: 4.017466068267822, \n",
      "Epoch 26, Loss: 3.9237217903137207, Test Loss: 3.9740564823150635, \n",
      "Epoch 27, Loss: 3.8810927867889404, Test Loss: 3.9347636699676514, \n",
      "Epoch 28, Loss: 3.8473923206329346, Test Loss: 3.899014472961426, \n",
      "Epoch 29, Loss: 3.799619674682617, Test Loss: 3.861368417739868, \n",
      "Epoch 30, Loss: 3.77211332321167, Test Loss: 3.8292369842529297, \n",
      "Epoch 31, Loss: 3.7409496307373047, Test Loss: 3.7973217964172363, \n",
      "Epoch 32, Loss: 3.7032406330108643, Test Loss: 3.767937421798706, \n",
      "Epoch 33, Loss: 3.6807005405426025, Test Loss: 3.736574411392212, \n",
      "Epoch 34, Loss: 3.641050338745117, Test Loss: 3.7128169536590576, \n",
      "Epoch 35, Loss: 3.615389823913574, Test Loss: 3.685795307159424, \n",
      "Epoch 36, Loss: 3.5908567905426025, Test Loss: 3.6607019901275635, \n",
      "Epoch 37, Loss: 3.566560745239258, Test Loss: 3.641011953353882, \n",
      "Epoch 38, Loss: 3.5514447689056396, Test Loss: 3.6106505393981934, \n",
      "Epoch 39, Loss: 3.519317626953125, Test Loss: 3.5871691703796387, \n",
      "Epoch 40, Loss: 3.49326491355896, Test Loss: 3.5743658542633057, \n",
      "Epoch 41, Loss: 3.4792797565460205, Test Loss: 3.5444986820220947, \n",
      "Epoch 42, Loss: 3.451768398284912, Test Loss: 3.5262320041656494, \n",
      "Epoch 43, Loss: 3.4365055561065674, Test Loss: 3.506410837173462, \n",
      "Epoch 44, Loss: 3.4219253063201904, Test Loss: 3.484635591506958, \n",
      "Epoch 45, Loss: 3.3921024799346924, Test Loss: 3.469882011413574, \n",
      "Epoch 46, Loss: 3.377235174179077, Test Loss: 3.454832077026367, \n",
      "Epoch 47, Loss: 3.363370895385742, Test Loss: 3.437525510787964, \n",
      "Epoch 48, Loss: 3.3556735515594482, Test Loss: 3.429651975631714, \n",
      "Epoch 49, Loss: 3.337575674057007, Test Loss: 3.406616687774658, \n",
      "Epoch 50, Loss: 3.321566343307495, Test Loss: 3.394580364227295, \n",
      "Epoch 51, Loss: 3.304605722427368, Test Loss: 3.381960868835449, \n",
      "Epoch 52, Loss: 3.29819917678833, Test Loss: 3.388578414916992, \n",
      "Epoch 53, Loss: 3.2792015075683594, Test Loss: 3.355441093444824, \n",
      "Epoch 54, Loss: 3.2739830017089844, Test Loss: 3.342890739440918, \n",
      "Epoch 55, Loss: 3.2516705989837646, Test Loss: 3.3301432132720947, \n",
      "Epoch 56, Loss: 3.242011070251465, Test Loss: 3.322911500930786, \n",
      "Epoch 57, Loss: 3.235997200012207, Test Loss: 3.321873903274536, \n",
      "Epoch 58, Loss: 3.237464427947998, Test Loss: 3.301100492477417, \n",
      "Epoch 59, Loss: 3.21492600440979, Test Loss: 3.297563076019287, \n",
      "Epoch 60, Loss: 3.202479600906372, Test Loss: 3.286012887954712, \n",
      "Epoch 61, Loss: 3.194277763366699, Test Loss: 3.273433208465576, \n",
      "Epoch 62, Loss: 3.1967051029205322, Test Loss: 3.273676633834839, \n",
      "Epoch 63, Loss: 3.18345046043396, Test Loss: 3.2574989795684814, \n",
      "Epoch 64, Loss: 3.1728880405426025, Test Loss: 3.250046491622925, \n",
      "Epoch 65, Loss: 3.1651902198791504, Test Loss: 3.2451930046081543, \n",
      "Epoch 66, Loss: 3.1562280654907227, Test Loss: 3.233374834060669, \n",
      "Epoch 67, Loss: 3.1483700275421143, Test Loss: 3.230799436569214, \n",
      "Epoch 68, Loss: 3.141169786453247, Test Loss: 3.222200632095337, \n",
      "Epoch 69, Loss: 3.1387150287628174, Test Loss: 3.2148826122283936, \n",
      "Epoch 70, Loss: 3.132628917694092, Test Loss: 3.2122392654418945, \n",
      "Epoch 71, Loss: 3.1280956268310547, Test Loss: 3.2015514373779297, \n",
      "Epoch 72, Loss: 3.1191461086273193, Test Loss: 3.1970956325531006, \n",
      "Epoch 73, Loss: 3.1119067668914795, Test Loss: 3.1935343742370605, \n",
      "Epoch 74, Loss: 3.1107237339019775, Test Loss: 3.187303066253662, \n",
      "Epoch 75, Loss: 3.1005802154541016, Test Loss: 3.184342622756958, \n",
      "Epoch 76, Loss: 3.0999062061309814, Test Loss: 3.1800668239593506, \n",
      "Epoch 77, Loss: 3.0955865383148193, Test Loss: 3.180546283721924, \n",
      "Epoch 78, Loss: 3.096216917037964, Test Loss: 3.1916677951812744, \n",
      "Epoch 79, Loss: 3.0846846103668213, Test Loss: 3.169480085372925, \n",
      "Epoch 80, Loss: 3.078322649002075, Test Loss: 3.1616177558898926, \n",
      "Epoch 81, Loss: 3.079122304916382, Test Loss: 3.1580593585968018, \n",
      "Epoch 82, Loss: 3.0773415565490723, Test Loss: 3.1695902347564697, \n",
      "Epoch 83, Loss: 3.0781242847442627, Test Loss: 3.1574032306671143, \n",
      "Epoch 84, Loss: 3.0690107345581055, Test Loss: 3.1514194011688232, \n",
      "Epoch 85, Loss: 3.0626137256622314, Test Loss: 3.1434922218322754, \n",
      "Epoch 86, Loss: 3.061765432357788, Test Loss: 3.1431081295013428, \n",
      "Epoch 87, Loss: 3.0599634647369385, Test Loss: 3.13932728767395, \n",
      "Epoch 88, Loss: 3.0617120265960693, Test Loss: 3.1339526176452637, \n",
      "Epoch 89, Loss: 3.052605152130127, Test Loss: 3.1322290897369385, \n",
      "Epoch 90, Loss: 3.0523509979248047, Test Loss: 3.1372735500335693, \n",
      "Epoch 91, Loss: 3.041454315185547, Test Loss: 3.1283082962036133, \n",
      "Epoch 92, Loss: 3.0422680377960205, Test Loss: 3.1302976608276367, \n",
      "Epoch 93, Loss: 3.0384902954101562, Test Loss: 3.1358449459075928, \n",
      "Epoch 94, Loss: 3.043508291244507, Test Loss: 3.1316914558410645, \n",
      "Epoch 95, Loss: 3.032227039337158, Test Loss: 3.1202232837677, \n",
      "Epoch 96, Loss: 3.0386438369750977, Test Loss: 3.120603322982788, \n",
      "Epoch 97, Loss: 3.0299482345581055, Test Loss: 3.118459701538086, \n",
      "Epoch 98, Loss: 3.032768964767456, Test Loss: 3.116140365600586, \n",
      "Epoch 99, Loss: 3.02825927734375, Test Loss: 3.110140562057495, \n",
      "Epoch 100, Loss: 3.0263564586639404, Test Loss: 3.1152169704437256, \n",
      "Epoch 101, Loss: 3.0250749588012695, Test Loss: 3.1071341037750244, \n",
      "Epoch 102, Loss: 3.0302891731262207, Test Loss: 3.1087534427642822, \n",
      "Epoch 103, Loss: 3.0200612545013428, Test Loss: 3.1030454635620117, \n",
      "Epoch 104, Loss: 3.0199317932128906, Test Loss: 3.104917287826538, \n",
      "Epoch 105, Loss: 3.0158190727233887, Test Loss: 3.101335048675537, \n",
      "Epoch 106, Loss: 3.0103840827941895, Test Loss: 3.1000239849090576, \n",
      "Epoch 107, Loss: 3.0132315158843994, Test Loss: 3.098843812942505, \n",
      "Epoch 108, Loss: 3.0053551197052, Test Loss: 3.099256992340088, \n",
      "Epoch 109, Loss: 3.004000663757324, Test Loss: 3.0942320823669434, \n",
      "Epoch 110, Loss: 3.0026843547821045, Test Loss: 3.101532459259033, \n",
      "Epoch 111, Loss: 3.001326322555542, Test Loss: 3.0914034843444824, \n",
      "Epoch 112, Loss: 3.0042903423309326, Test Loss: 3.0913875102996826, \n",
      "Epoch 113, Loss: 3.002351999282837, Test Loss: 3.089395761489868, \n",
      "Epoch 114, Loss: 3.0031166076660156, Test Loss: 3.089052438735962, \n",
      "Epoch 115, Loss: 2.9948995113372803, Test Loss: 3.0860395431518555, \n",
      "Epoch 116, Loss: 2.9903464317321777, Test Loss: 3.092107057571411, \n",
      "Epoch 117, Loss: 2.9931063652038574, Test Loss: 3.0907039642333984, \n",
      "Epoch 118, Loss: 2.9930152893066406, Test Loss: 3.093167304992676, \n",
      "Epoch 119, Loss: 2.9872944355010986, Test Loss: 3.08211088180542, \n",
      "Epoch 120, Loss: 2.9968600273132324, Test Loss: 3.086205244064331, \n",
      "Epoch 121, Loss: 2.9837753772735596, Test Loss: 3.082364082336426, \n",
      "Epoch 122, Loss: 2.9853649139404297, Test Loss: 3.0789096355438232, \n",
      "Epoch 123, Loss: 2.9796648025512695, Test Loss: 3.089548349380493, \n",
      "Epoch 124, Loss: 2.9764933586120605, Test Loss: 3.079789400100708, \n",
      "Epoch 125, Loss: 2.9831314086914062, Test Loss: 3.077249765396118, \n",
      "Epoch 126, Loss: 2.977303981781006, Test Loss: 3.08528208732605, \n",
      "Epoch 127, Loss: 2.978360414505005, Test Loss: 3.0826685428619385, \n",
      "Epoch 128, Loss: 2.9746925830841064, Test Loss: 3.0798451900482178, \n",
      "Epoch 129, Loss: 2.9726693630218506, Test Loss: 3.0777974128723145, \n",
      "Epoch 130, Loss: 2.9767487049102783, Test Loss: 3.071920871734619, \n",
      "Epoch 131, Loss: 2.9728856086730957, Test Loss: 3.0734241008758545, \n",
      "Epoch 132, Loss: 2.9689443111419678, Test Loss: 3.070992946624756, \n",
      "Epoch 133, Loss: 2.970252513885498, Test Loss: 3.068662643432617, \n",
      "Epoch 134, Loss: 2.967211961746216, Test Loss: 3.07195782661438, \n",
      "Epoch 135, Loss: 2.968562126159668, Test Loss: 3.0694918632507324, \n",
      "Epoch 136, Loss: 2.9640309810638428, Test Loss: 3.0918502807617188, \n",
      "Epoch 137, Loss: 2.964038848876953, Test Loss: 3.076885461807251, \n",
      "Epoch 138, Loss: 2.9602298736572266, Test Loss: 3.0638821125030518, \n",
      "Epoch 139, Loss: 2.9738152027130127, Test Loss: 3.0629329681396484, \n",
      "Epoch 140, Loss: 2.959486484527588, Test Loss: 3.0634031295776367, \n",
      "Epoch 141, Loss: 2.9558324813842773, Test Loss: 3.0687735080718994, \n",
      "Epoch 142, Loss: 2.958292245864868, Test Loss: 3.063851833343506, \n",
      "Epoch 143, Loss: 2.9555447101593018, Test Loss: 3.0633933544158936, \n",
      "Epoch 144, Loss: 2.9473304748535156, Test Loss: 3.060086488723755, \n",
      "Epoch 145, Loss: 2.9540114402770996, Test Loss: 3.0898396968841553, \n",
      "Epoch 146, Loss: 2.9520421028137207, Test Loss: 3.080916166305542, \n",
      "Epoch 147, Loss: 2.9491782188415527, Test Loss: 3.0585319995880127, \n",
      "Epoch 148, Loss: 2.950371742248535, Test Loss: 3.0606744289398193, \n",
      "Epoch 149, Loss: 2.9442451000213623, Test Loss: 3.0564396381378174, \n",
      "Epoch 150, Loss: 2.9460625648498535, Test Loss: 3.0553414821624756, \n",
      "Epoch 151, Loss: 2.9514122009277344, Test Loss: 3.0589420795440674, \n",
      "Epoch 152, Loss: 2.947948455810547, Test Loss: 3.072781801223755, \n",
      "Epoch 153, Loss: 2.949151039123535, Test Loss: 3.0638725757598877, \n",
      "Epoch 154, Loss: 2.9405298233032227, Test Loss: 3.057722568511963, \n",
      "Epoch 155, Loss: 2.9529542922973633, Test Loss: 3.057821273803711, \n",
      "Epoch 156, Loss: 2.9433646202087402, Test Loss: 3.054354429244995, \n",
      "Epoch 157, Loss: 2.9431545734405518, Test Loss: 3.072707414627075, \n",
      "Epoch 158, Loss: 2.9377639293670654, Test Loss: 3.0572259426116943, \n",
      "Epoch 159, Loss: 2.9526522159576416, Test Loss: 3.0512092113494873, \n",
      "Epoch 160, Loss: 2.934812307357788, Test Loss: 3.051351308822632, \n",
      "Epoch 161, Loss: 2.9281129837036133, Test Loss: 3.052661418914795, \n",
      "Epoch 162, Loss: 2.9341776371002197, Test Loss: 3.050808906555176, \n",
      "Epoch 163, Loss: 2.9309239387512207, Test Loss: 3.0535237789154053, \n",
      "Epoch 164, Loss: 2.928036689758301, Test Loss: 3.049927234649658, \n",
      "Epoch 165, Loss: 2.9433200359344482, Test Loss: 3.054123640060425, \n",
      "Epoch 166, Loss: 2.929152250289917, Test Loss: 3.0566563606262207, \n",
      "Epoch 167, Loss: 2.9272990226745605, Test Loss: 3.0498058795928955, \n",
      "Epoch 168, Loss: 2.936005115509033, Test Loss: 3.055277109146118, \n",
      "Epoch 169, Loss: 2.9254026412963867, Test Loss: 3.0488085746765137, \n",
      "Epoch 170, Loss: 2.93241286277771, Test Loss: 3.0513534545898438, \n",
      "Epoch 171, Loss: 2.929224967956543, Test Loss: 3.046560525894165, \n",
      "Epoch 172, Loss: 2.9287641048431396, Test Loss: 3.048609733581543, \n",
      "Epoch 173, Loss: 2.926039457321167, Test Loss: 3.045811891555786, \n",
      "Epoch 174, Loss: 2.9308221340179443, Test Loss: 3.0522243976593018, \n",
      "Epoch 175, Loss: 2.921511173248291, Test Loss: 3.047602653503418, \n",
      "Epoch 176, Loss: 2.9205307960510254, Test Loss: 3.0531158447265625, \n",
      "Epoch 177, Loss: 2.9239795207977295, Test Loss: 3.051565647125244, \n",
      "Epoch 178, Loss: 2.9169163703918457, Test Loss: 3.052382230758667, \n",
      "Epoch 179, Loss: 2.9241557121276855, Test Loss: 3.0426602363586426, \n",
      "Epoch 180, Loss: 2.9173922538757324, Test Loss: 3.0467522144317627, \n",
      "Epoch 181, Loss: 2.913240671157837, Test Loss: 3.0486927032470703, \n",
      "Epoch 182, Loss: 2.918111562728882, Test Loss: 3.054929733276367, \n",
      "Epoch 183, Loss: 2.9216978549957275, Test Loss: 3.041806697845459, \n",
      "Epoch 184, Loss: 2.9125707149505615, Test Loss: 3.0558018684387207, \n",
      "Epoch 185, Loss: 2.913555860519409, Test Loss: 3.0445148944854736, \n",
      "Epoch 186, Loss: 2.919299602508545, Test Loss: 3.0458602905273438, \n",
      "Epoch 187, Loss: 2.916368246078491, Test Loss: 3.0430378913879395, \n",
      "Epoch 188, Loss: 2.9090805053710938, Test Loss: 3.0624749660491943, \n",
      "Epoch 189, Loss: 2.9057154655456543, Test Loss: 3.0403199195861816, \n",
      "Epoch 190, Loss: 2.9127371311187744, Test Loss: 3.055331230163574, \n",
      "Epoch 191, Loss: 2.9107465744018555, Test Loss: 3.049874782562256, \n",
      "Epoch 192, Loss: 2.906982421875, Test Loss: 3.0410172939300537, \n",
      "Epoch 193, Loss: 2.908071279525757, Test Loss: 3.040674924850464, \n",
      "Epoch 194, Loss: 2.9075958728790283, Test Loss: 3.039379119873047, \n",
      "Epoch 195, Loss: 2.9124839305877686, Test Loss: 3.042135715484619, \n",
      "Epoch 196, Loss: 2.903897285461426, Test Loss: 3.039236545562744, \n",
      "Epoch 197, Loss: 2.907904624938965, Test Loss: 3.0411622524261475, \n",
      "Epoch 198, Loss: 2.9043924808502197, Test Loss: 3.038721799850464, \n",
      "Epoch 199, Loss: 2.911176919937134, Test Loss: 3.0388402938842773, \n",
      "Epoch 200, Loss: 2.900259017944336, Test Loss: 3.039438009262085, \n",
      "Epoch 201, Loss: 2.8974111080169678, Test Loss: 3.042534828186035, \n",
      "Epoch 202, Loss: 2.8985159397125244, Test Loss: 3.035435199737549, \n",
      "Epoch 203, Loss: 2.902575969696045, Test Loss: 3.039916515350342, \n",
      "Epoch 204, Loss: 2.8970096111297607, Test Loss: 3.037662982940674, \n",
      "Epoch 205, Loss: 2.898139715194702, Test Loss: 3.0381829738616943, \n",
      "Epoch 206, Loss: 2.8956499099731445, Test Loss: 3.049302339553833, \n",
      "Epoch 207, Loss: 2.901202917098999, Test Loss: 3.0378916263580322, \n",
      "Epoch 208, Loss: 2.8990113735198975, Test Loss: 3.036172866821289, \n",
      "Epoch 209, Loss: 2.904184579849243, Test Loss: 3.0380656719207764, \n",
      "Epoch 210, Loss: 2.893160343170166, Test Loss: 3.0418546199798584, \n",
      "Epoch 211, Loss: 2.9046380519866943, Test Loss: 3.0365688800811768, \n",
      "Epoch 212, Loss: 2.8961949348449707, Test Loss: 3.03715181350708, \n",
      "Epoch 213, Loss: 2.888705253601074, Test Loss: 3.042801856994629, \n",
      "Epoch 214, Loss: 2.8928756713867188, Test Loss: 3.0343093872070312, \n"
     ]
    },
    {
     "ename": "KeyboardInterrupt",
     "evalue": "",
     "output_type": "error",
     "traceback": [
      "\u001b[0;31m---------------------------------------------------------------------------\u001b[0m",
      "\u001b[0;31mKeyboardInterrupt\u001b[0m                         Traceback (most recent call last)",
      "Input \u001b[0;32mIn [26]\u001b[0m, in \u001b[0;36m<cell line: 3>\u001b[0;34m()\u001b[0m\n\u001b[1;32m      8\u001b[0m i \u001b[38;5;241m=\u001b[39m \u001b[38;5;241m0\u001b[39m\n\u001b[1;32m      9\u001b[0m \u001b[38;5;28;01mfor\u001b[39;00m params, perf \u001b[38;5;129;01min\u001b[39;00m train_ds:\n\u001b[0;32m---> 10\u001b[0m     \u001b[43mevaluator_train_step\u001b[49m\u001b[43m(\u001b[49m\u001b[43mparams\u001b[49m\u001b[43m,\u001b[49m\u001b[43m \u001b[49m\u001b[43mperf\u001b[49m\u001b[43m)\u001b[49m\n\u001b[1;32m     12\u001b[0m \u001b[38;5;28;01mfor\u001b[39;00m params, perf \u001b[38;5;129;01min\u001b[39;00m test_ds:\n\u001b[1;32m     13\u001b[0m     evaluator_test_step(params, perf)\n",
      "File \u001b[0;32m/usr/local/lib/python3.9/dist-packages/tensorflow/python/util/traceback_utils.py:150\u001b[0m, in \u001b[0;36mfilter_traceback.<locals>.error_handler\u001b[0;34m(*args, **kwargs)\u001b[0m\n\u001b[1;32m    148\u001b[0m filtered_tb \u001b[38;5;241m=\u001b[39m \u001b[38;5;28;01mNone\u001b[39;00m\n\u001b[1;32m    149\u001b[0m \u001b[38;5;28;01mtry\u001b[39;00m:\n\u001b[0;32m--> 150\u001b[0m   \u001b[38;5;28;01mreturn\u001b[39;00m \u001b[43mfn\u001b[49m\u001b[43m(\u001b[49m\u001b[38;5;241;43m*\u001b[39;49m\u001b[43margs\u001b[49m\u001b[43m,\u001b[49m\u001b[43m \u001b[49m\u001b[38;5;241;43m*\u001b[39;49m\u001b[38;5;241;43m*\u001b[39;49m\u001b[43mkwargs\u001b[49m\u001b[43m)\u001b[49m\n\u001b[1;32m    151\u001b[0m \u001b[38;5;28;01mexcept\u001b[39;00m \u001b[38;5;167;01mException\u001b[39;00m \u001b[38;5;28;01mas\u001b[39;00m e:\n\u001b[1;32m    152\u001b[0m   filtered_tb \u001b[38;5;241m=\u001b[39m _process_traceback_frames(e\u001b[38;5;241m.\u001b[39m__traceback__)\n",
      "File \u001b[0;32m/usr/local/lib/python3.9/dist-packages/tensorflow/python/eager/def_function.py:915\u001b[0m, in \u001b[0;36mFunction.__call__\u001b[0;34m(self, *args, **kwds)\u001b[0m\n\u001b[1;32m    912\u001b[0m compiler \u001b[38;5;241m=\u001b[39m \u001b[38;5;124m\"\u001b[39m\u001b[38;5;124mxla\u001b[39m\u001b[38;5;124m\"\u001b[39m \u001b[38;5;28;01mif\u001b[39;00m \u001b[38;5;28mself\u001b[39m\u001b[38;5;241m.\u001b[39m_jit_compile \u001b[38;5;28;01melse\u001b[39;00m \u001b[38;5;124m\"\u001b[39m\u001b[38;5;124mnonXla\u001b[39m\u001b[38;5;124m\"\u001b[39m\n\u001b[1;32m    914\u001b[0m \u001b[38;5;28;01mwith\u001b[39;00m OptionalXlaContext(\u001b[38;5;28mself\u001b[39m\u001b[38;5;241m.\u001b[39m_jit_compile):\n\u001b[0;32m--> 915\u001b[0m   result \u001b[38;5;241m=\u001b[39m \u001b[38;5;28;43mself\u001b[39;49m\u001b[38;5;241;43m.\u001b[39;49m\u001b[43m_call\u001b[49m\u001b[43m(\u001b[49m\u001b[38;5;241;43m*\u001b[39;49m\u001b[43margs\u001b[49m\u001b[43m,\u001b[49m\u001b[43m \u001b[49m\u001b[38;5;241;43m*\u001b[39;49m\u001b[38;5;241;43m*\u001b[39;49m\u001b[43mkwds\u001b[49m\u001b[43m)\u001b[49m\n\u001b[1;32m    917\u001b[0m new_tracing_count \u001b[38;5;241m=\u001b[39m \u001b[38;5;28mself\u001b[39m\u001b[38;5;241m.\u001b[39mexperimental_get_tracing_count()\n\u001b[1;32m    918\u001b[0m without_tracing \u001b[38;5;241m=\u001b[39m (tracing_count \u001b[38;5;241m==\u001b[39m new_tracing_count)\n",
      "File \u001b[0;32m/usr/local/lib/python3.9/dist-packages/tensorflow/python/eager/def_function.py:947\u001b[0m, in \u001b[0;36mFunction._call\u001b[0;34m(self, *args, **kwds)\u001b[0m\n\u001b[1;32m    944\u001b[0m   \u001b[38;5;28mself\u001b[39m\u001b[38;5;241m.\u001b[39m_lock\u001b[38;5;241m.\u001b[39mrelease()\n\u001b[1;32m    945\u001b[0m   \u001b[38;5;66;03m# In this case we have created variables on the first call, so we run the\u001b[39;00m\n\u001b[1;32m    946\u001b[0m   \u001b[38;5;66;03m# defunned version which is guaranteed to never create variables.\u001b[39;00m\n\u001b[0;32m--> 947\u001b[0m   \u001b[38;5;28;01mreturn\u001b[39;00m \u001b[38;5;28;43mself\u001b[39;49m\u001b[38;5;241;43m.\u001b[39;49m\u001b[43m_stateless_fn\u001b[49m\u001b[43m(\u001b[49m\u001b[38;5;241;43m*\u001b[39;49m\u001b[43margs\u001b[49m\u001b[43m,\u001b[49m\u001b[43m \u001b[49m\u001b[38;5;241;43m*\u001b[39;49m\u001b[38;5;241;43m*\u001b[39;49m\u001b[43mkwds\u001b[49m\u001b[43m)\u001b[49m  \u001b[38;5;66;03m# pylint: disable=not-callable\u001b[39;00m\n\u001b[1;32m    948\u001b[0m \u001b[38;5;28;01melif\u001b[39;00m \u001b[38;5;28mself\u001b[39m\u001b[38;5;241m.\u001b[39m_stateful_fn \u001b[38;5;129;01mis\u001b[39;00m \u001b[38;5;129;01mnot\u001b[39;00m \u001b[38;5;28;01mNone\u001b[39;00m:\n\u001b[1;32m    949\u001b[0m   \u001b[38;5;66;03m# Release the lock early so that multiple threads can perform the call\u001b[39;00m\n\u001b[1;32m    950\u001b[0m   \u001b[38;5;66;03m# in parallel.\u001b[39;00m\n\u001b[1;32m    951\u001b[0m   \u001b[38;5;28mself\u001b[39m\u001b[38;5;241m.\u001b[39m_lock\u001b[38;5;241m.\u001b[39mrelease()\n",
      "File \u001b[0;32m/usr/local/lib/python3.9/dist-packages/tensorflow/python/eager/function.py:2453\u001b[0m, in \u001b[0;36mFunction.__call__\u001b[0;34m(self, *args, **kwargs)\u001b[0m\n\u001b[1;32m   2450\u001b[0m \u001b[38;5;28;01mwith\u001b[39;00m \u001b[38;5;28mself\u001b[39m\u001b[38;5;241m.\u001b[39m_lock:\n\u001b[1;32m   2451\u001b[0m   (graph_function,\n\u001b[1;32m   2452\u001b[0m    filtered_flat_args) \u001b[38;5;241m=\u001b[39m \u001b[38;5;28mself\u001b[39m\u001b[38;5;241m.\u001b[39m_maybe_define_function(args, kwargs)\n\u001b[0;32m-> 2453\u001b[0m \u001b[38;5;28;01mreturn\u001b[39;00m \u001b[43mgraph_function\u001b[49m\u001b[38;5;241;43m.\u001b[39;49m\u001b[43m_call_flat\u001b[49m\u001b[43m(\u001b[49m\n\u001b[1;32m   2454\u001b[0m \u001b[43m    \u001b[49m\u001b[43mfiltered_flat_args\u001b[49m\u001b[43m,\u001b[49m\u001b[43m \u001b[49m\u001b[43mcaptured_inputs\u001b[49m\u001b[38;5;241;43m=\u001b[39;49m\u001b[43mgraph_function\u001b[49m\u001b[38;5;241;43m.\u001b[39;49m\u001b[43mcaptured_inputs\u001b[49m\u001b[43m)\u001b[49m\n",
      "File \u001b[0;32m/usr/local/lib/python3.9/dist-packages/tensorflow/python/eager/function.py:1860\u001b[0m, in \u001b[0;36mConcreteFunction._call_flat\u001b[0;34m(self, args, captured_inputs, cancellation_manager)\u001b[0m\n\u001b[1;32m   1856\u001b[0m possible_gradient_type \u001b[38;5;241m=\u001b[39m gradients_util\u001b[38;5;241m.\u001b[39mPossibleTapeGradientTypes(args)\n\u001b[1;32m   1857\u001b[0m \u001b[38;5;28;01mif\u001b[39;00m (possible_gradient_type \u001b[38;5;241m==\u001b[39m gradients_util\u001b[38;5;241m.\u001b[39mPOSSIBLE_GRADIENT_TYPES_NONE\n\u001b[1;32m   1858\u001b[0m     \u001b[38;5;129;01mand\u001b[39;00m executing_eagerly):\n\u001b[1;32m   1859\u001b[0m   \u001b[38;5;66;03m# No tape is watching; skip to running the function.\u001b[39;00m\n\u001b[0;32m-> 1860\u001b[0m   \u001b[38;5;28;01mreturn\u001b[39;00m \u001b[38;5;28mself\u001b[39m\u001b[38;5;241m.\u001b[39m_build_call_outputs(\u001b[38;5;28;43mself\u001b[39;49m\u001b[38;5;241;43m.\u001b[39;49m\u001b[43m_inference_function\u001b[49m\u001b[38;5;241;43m.\u001b[39;49m\u001b[43mcall\u001b[49m\u001b[43m(\u001b[49m\n\u001b[1;32m   1861\u001b[0m \u001b[43m      \u001b[49m\u001b[43mctx\u001b[49m\u001b[43m,\u001b[49m\u001b[43m \u001b[49m\u001b[43margs\u001b[49m\u001b[43m,\u001b[49m\u001b[43m \u001b[49m\u001b[43mcancellation_manager\u001b[49m\u001b[38;5;241;43m=\u001b[39;49m\u001b[43mcancellation_manager\u001b[49m\u001b[43m)\u001b[49m)\n\u001b[1;32m   1862\u001b[0m forward_backward \u001b[38;5;241m=\u001b[39m \u001b[38;5;28mself\u001b[39m\u001b[38;5;241m.\u001b[39m_select_forward_and_backward_functions(\n\u001b[1;32m   1863\u001b[0m     args,\n\u001b[1;32m   1864\u001b[0m     possible_gradient_type,\n\u001b[1;32m   1865\u001b[0m     executing_eagerly)\n\u001b[1;32m   1866\u001b[0m forward_function, args_with_tangents \u001b[38;5;241m=\u001b[39m forward_backward\u001b[38;5;241m.\u001b[39mforward()\n",
      "File \u001b[0;32m/usr/local/lib/python3.9/dist-packages/tensorflow/python/eager/function.py:497\u001b[0m, in \u001b[0;36m_EagerDefinedFunction.call\u001b[0;34m(self, ctx, args, cancellation_manager)\u001b[0m\n\u001b[1;32m    495\u001b[0m \u001b[38;5;28;01mwith\u001b[39;00m _InterpolateFunctionError(\u001b[38;5;28mself\u001b[39m):\n\u001b[1;32m    496\u001b[0m   \u001b[38;5;28;01mif\u001b[39;00m cancellation_manager \u001b[38;5;129;01mis\u001b[39;00m \u001b[38;5;28;01mNone\u001b[39;00m:\n\u001b[0;32m--> 497\u001b[0m     outputs \u001b[38;5;241m=\u001b[39m \u001b[43mexecute\u001b[49m\u001b[38;5;241;43m.\u001b[39;49m\u001b[43mexecute\u001b[49m\u001b[43m(\u001b[49m\n\u001b[1;32m    498\u001b[0m \u001b[43m        \u001b[49m\u001b[38;5;28;43mstr\u001b[39;49m\u001b[43m(\u001b[49m\u001b[38;5;28;43mself\u001b[39;49m\u001b[38;5;241;43m.\u001b[39;49m\u001b[43msignature\u001b[49m\u001b[38;5;241;43m.\u001b[39;49m\u001b[43mname\u001b[49m\u001b[43m)\u001b[49m\u001b[43m,\u001b[49m\n\u001b[1;32m    499\u001b[0m \u001b[43m        \u001b[49m\u001b[43mnum_outputs\u001b[49m\u001b[38;5;241;43m=\u001b[39;49m\u001b[38;5;28;43mself\u001b[39;49m\u001b[38;5;241;43m.\u001b[39;49m\u001b[43m_num_outputs\u001b[49m\u001b[43m,\u001b[49m\n\u001b[1;32m    500\u001b[0m \u001b[43m        \u001b[49m\u001b[43minputs\u001b[49m\u001b[38;5;241;43m=\u001b[39;49m\u001b[43margs\u001b[49m\u001b[43m,\u001b[49m\n\u001b[1;32m    501\u001b[0m \u001b[43m        \u001b[49m\u001b[43mattrs\u001b[49m\u001b[38;5;241;43m=\u001b[39;49m\u001b[43mattrs\u001b[49m\u001b[43m,\u001b[49m\n\u001b[1;32m    502\u001b[0m \u001b[43m        \u001b[49m\u001b[43mctx\u001b[49m\u001b[38;5;241;43m=\u001b[39;49m\u001b[43mctx\u001b[49m\u001b[43m)\u001b[49m\n\u001b[1;32m    503\u001b[0m   \u001b[38;5;28;01melse\u001b[39;00m:\n\u001b[1;32m    504\u001b[0m     outputs \u001b[38;5;241m=\u001b[39m execute\u001b[38;5;241m.\u001b[39mexecute_with_cancellation(\n\u001b[1;32m    505\u001b[0m         \u001b[38;5;28mstr\u001b[39m(\u001b[38;5;28mself\u001b[39m\u001b[38;5;241m.\u001b[39msignature\u001b[38;5;241m.\u001b[39mname),\n\u001b[1;32m    506\u001b[0m         num_outputs\u001b[38;5;241m=\u001b[39m\u001b[38;5;28mself\u001b[39m\u001b[38;5;241m.\u001b[39m_num_outputs,\n\u001b[0;32m   (...)\u001b[0m\n\u001b[1;32m    509\u001b[0m         ctx\u001b[38;5;241m=\u001b[39mctx,\n\u001b[1;32m    510\u001b[0m         cancellation_manager\u001b[38;5;241m=\u001b[39mcancellation_manager)\n",
      "File \u001b[0;32m/usr/local/lib/python3.9/dist-packages/tensorflow/python/eager/execute.py:54\u001b[0m, in \u001b[0;36mquick_execute\u001b[0;34m(op_name, num_outputs, inputs, attrs, ctx, name)\u001b[0m\n\u001b[1;32m     52\u001b[0m \u001b[38;5;28;01mtry\u001b[39;00m:\n\u001b[1;32m     53\u001b[0m   ctx\u001b[38;5;241m.\u001b[39mensure_initialized()\n\u001b[0;32m---> 54\u001b[0m   tensors \u001b[38;5;241m=\u001b[39m \u001b[43mpywrap_tfe\u001b[49m\u001b[38;5;241;43m.\u001b[39;49m\u001b[43mTFE_Py_Execute\u001b[49m\u001b[43m(\u001b[49m\u001b[43mctx\u001b[49m\u001b[38;5;241;43m.\u001b[39;49m\u001b[43m_handle\u001b[49m\u001b[43m,\u001b[49m\u001b[43m \u001b[49m\u001b[43mdevice_name\u001b[49m\u001b[43m,\u001b[49m\u001b[43m \u001b[49m\u001b[43mop_name\u001b[49m\u001b[43m,\u001b[49m\n\u001b[1;32m     55\u001b[0m \u001b[43m                                      \u001b[49m\u001b[43minputs\u001b[49m\u001b[43m,\u001b[49m\u001b[43m \u001b[49m\u001b[43mattrs\u001b[49m\u001b[43m,\u001b[49m\u001b[43m \u001b[49m\u001b[43mnum_outputs\u001b[49m\u001b[43m)\u001b[49m\n\u001b[1;32m     56\u001b[0m \u001b[38;5;28;01mexcept\u001b[39;00m core\u001b[38;5;241m.\u001b[39m_NotOkStatusException \u001b[38;5;28;01mas\u001b[39;00m e:\n\u001b[1;32m     57\u001b[0m   \u001b[38;5;28;01mif\u001b[39;00m name \u001b[38;5;129;01mis\u001b[39;00m \u001b[38;5;129;01mnot\u001b[39;00m \u001b[38;5;28;01mNone\u001b[39;00m:\n",
      "\u001b[0;31mKeyboardInterrupt\u001b[0m: "
     ]
    }
   ],
   "source": [
    "EPOCHS = 500\n",
    "\n",
    "for epoch in range(EPOCHS):\n",
    "    # Reset the metrics at the start of the next epoch\n",
    "    train_loss.reset_states()\n",
    "    test_loss.reset_states()\n",
    "\n",
    "    i = 0\n",
    "    for params, perf in train_ds:\n",
    "        evaluator_train_step(params, perf)\n",
    "\n",
    "    for params, perf in test_ds:\n",
    "        evaluator_test_step(params, perf)\n",
    "\n",
    "    print(\n",
    "        f'Epoch {epoch + 1}, '\n",
    "        f'Loss: {train_loss.result()}, '\n",
    "        f'Test Loss: {test_loss.result()}, '\n",
    "    )\n"
   ]
  },
  {
   "cell_type": "code",
   "execution_count": 27,
   "id": "27df9ca1-40b4-4977-9b10-5a9e4eea7c98",
   "metadata": {},
   "outputs": [
    {
     "data": {
      "text/plain": [
       "<tf.Tensor: shape=(1, 1), dtype=float32, numpy=array([[50.345535]], dtype=float32)>"
      ]
     },
     "execution_count": 27,
     "metadata": {},
     "output_type": "execute_result"
    }
   ],
   "source": [
    "evaluator(tf.reshape(canonical_parameters, shape=(1, 29)))"
   ]
  },
  {
   "cell_type": "code",
   "execution_count": 28,
   "id": "bb731421-97e1-492d-bce7-4c536846ff58",
   "metadata": {},
   "outputs": [],
   "source": [
    "canonical_parameters = tf.constant(\n",
    "    [25.276] * 17 + [16] * 12,\n",
    "    dtype=\"float32\"\n",
    ")\n",
    "canonical_parameters = tf.reshape(canonical_parameters, shape=(1, 29))"
   ]
  },
  {
   "cell_type": "code",
   "execution_count": 29,
   "id": "3cd8a4b9-cc73-4af4-976a-23777f6d8583",
   "metadata": {},
   "outputs": [],
   "source": [
    "trans_mult = tf.constant([45] * 17 + [8] * 12, dtype=\"float32\")\n",
    "trans_add = tf.constant([5] * 17 + [16] * 12, dtype=\"float32\")"
   ]
  },
  {
   "cell_type": "code",
   "execution_count": 30,
   "id": "69773652-4e44-4b07-86ff-9037c416cb20",
   "metadata": {},
   "outputs": [],
   "source": [
    "class OptimizerNetwork(tf.keras.Model):\n",
    "    def __init__(self):\n",
    "        super().__init__()\n",
    "        self.hidden_layers = [\n",
    "            tf.keras.layers.Dense(128, activation=\"relu\"),\n",
    "            tf.keras.layers.Dense(128, activation=\"relu\"),\n",
    "            tf.keras.layers.Dense(64, activation=\"relu\"),\n",
    "            tf.keras.layers.Dense(32, activation=\"relu\"),\n",
    "        ]\n",
    "        self.output_layer = tf.keras.layers.Dense(29, activation=\"sigmoid\")\n",
    "        \n",
    "    def call(self, x):\n",
    "        for layer in self.hidden_layers:\n",
    "            x = layer(x)\n",
    "        x = self.output_layer(x)\n",
    "        x *= trans_mult\n",
    "        x += trans_add\n",
    "        return x"
   ]
  },
  {
   "cell_type": "code",
   "execution_count": 40,
   "id": "1e2d2939-9177-4bba-9a33-55a69c91ee33",
   "metadata": {},
   "outputs": [],
   "source": [
    "optimizer = OptimizerNetwork()"
   ]
  },
  {
   "cell_type": "code",
   "execution_count": 41,
   "id": "30d5f240-7483-46bf-9b17-065a83277787",
   "metadata": {},
   "outputs": [
    {
     "name": "stdout",
     "output_type": "stream",
     "text": [
      "Model: \"optimizer_network_1\"\n",
      "_________________________________________________________________\n",
      " Layer (type)                Output Shape              Param #   \n",
      "=================================================================\n",
      " dense_13 (Dense)            multiple                  3840      \n",
      "                                                                 \n",
      " dense_14 (Dense)            multiple                  16512     \n",
      "                                                                 \n",
      " dense_15 (Dense)            multiple                  8256      \n",
      "                                                                 \n",
      " dense_16 (Dense)            multiple                  2080      \n",
      "                                                                 \n",
      " dense_17 (Dense)            multiple                  957       \n",
      "                                                                 \n",
      "=================================================================\n",
      "Total params: 31,645\n",
      "Trainable params: 31,645\n",
      "Non-trainable params: 0\n",
      "_________________________________________________________________\n"
     ]
    }
   ],
   "source": [
    "optimizer.build(input_shape=(None, 29))\n",
    "optimizer.summary()"
   ]
  },
  {
   "cell_type": "code",
   "execution_count": 42,
   "id": "18fb9f61-d614-4726-a9ef-6f60d22445d5",
   "metadata": {},
   "outputs": [],
   "source": [
    "loss_object = tf.keras.losses.MeanAbsoluteError()\n",
    "nadam = tf.keras.optimizers.Nadam(learning_rate=0.0001)"
   ]
  },
  {
   "cell_type": "code",
   "execution_count": 43,
   "id": "6c57e466-d412-4437-abaa-c42542133580",
   "metadata": {},
   "outputs": [],
   "source": [
    "train_loss = tf.keras.metrics.Mean(name='train_loss')"
   ]
  },
  {
   "cell_type": "code",
   "execution_count": 44,
   "id": "82a77322-bb64-48fe-8893-a0886fab3d0c",
   "metadata": {},
   "outputs": [],
   "source": [
    "@tf.function\n",
    "def optimizer_train_step(params):\n",
    "    with tf.GradientTape() as tape:\n",
    "        predictions = optimizer(params, training=True)\n",
    "        evaluation = evaluator(predictions, training=False) / 100\n",
    "        loss = 1 - evaluation\n",
    "    gradients = tape.gradient(loss, optimizer.trainable_variables)\n",
    "    nadam.apply_gradients(zip(gradients, optimizer.trainable_variables))\n",
    "\n",
    "    train_loss(loss)\n",
    "    return predictions"
   ]
  },
  {
   "cell_type": "code",
   "execution_count": 45,
   "id": "e503949a-1085-4fe4-93fc-843ee597bb45",
   "metadata": {
    "scrolled": true,
    "tags": []
   },
   "outputs": [
    {
     "name": "stdout",
     "output_type": "stream",
     "text": [
      "Epoch 1, Loss: 0.4614155888557434, \n",
      "Epoch 2, Loss: 0.44052553176879883, \n",
      "Epoch 3, Loss: 0.43913179636001587, \n",
      "Epoch 4, Loss: 0.4166135787963867, \n",
      "Epoch 5, Loss: 0.44802194833755493, \n",
      "Epoch 6, Loss: 0.43418699502944946, \n",
      "Epoch 7, Loss: 0.43008875846862793, \n",
      "Epoch 8, Loss: 0.40896403789520264, \n",
      "Epoch 9, Loss: 0.4048801064491272, \n",
      "Epoch 10, Loss: 0.389570415019989, \n",
      "Epoch 11, Loss: 0.38671815395355225, \n",
      "Epoch 12, Loss: 0.3837262988090515, \n",
      "Epoch 13, Loss: 0.3738945722579956, \n",
      "Epoch 14, Loss: 0.3822762370109558, \n",
      "Epoch 15, Loss: 0.37402069568634033, \n",
      "Epoch 16, Loss: 0.37375110387802124, \n",
      "Epoch 17, Loss: 0.37267357110977173, \n",
      "Epoch 18, Loss: 0.3584631681442261, \n",
      "Epoch 19, Loss: 0.36900949478149414, \n",
      "Epoch 20, Loss: 0.3628655672073364, \n",
      "Epoch 21, Loss: 0.3595730662345886, \n",
      "Epoch 22, Loss: 0.36103934049606323, \n",
      "Epoch 23, Loss: 0.3448185324668884, \n",
      "Epoch 24, Loss: 0.35086071491241455, \n",
      "Epoch 25, Loss: 0.3470314145088196, \n",
      "Epoch 26, Loss: 0.34472817182540894, \n",
      "Epoch 27, Loss: 0.3455911874771118, \n",
      "Epoch 28, Loss: 0.3357498049736023, \n",
      "Epoch 29, Loss: 0.33829033374786377, \n",
      "Epoch 30, Loss: 0.33359336853027344, \n",
      "Epoch 31, Loss: 0.3298407793045044, \n",
      "Epoch 32, Loss: 0.3301788568496704, \n",
      "Epoch 33, Loss: 0.3261592984199524, \n",
      "Epoch 34, Loss: 0.3244876265525818, \n",
      "Epoch 35, Loss: 0.3222184181213379, \n",
      "Epoch 36, Loss: 0.3193361759185791, \n",
      "Epoch 37, Loss: 0.31812530755996704, \n",
      "Epoch 38, Loss: 0.3156737685203552, \n",
      "Epoch 39, Loss: 0.3136144280433655, \n",
      "Epoch 40, Loss: 0.3122907280921936, \n",
      "Epoch 41, Loss: 0.3101842403411865, \n",
      "Epoch 42, Loss: 0.30889201164245605, \n",
      "Epoch 43, Loss: 0.30716216564178467, \n",
      "Epoch 44, Loss: 0.3053004741668701, \n",
      "Epoch 45, Loss: 0.3034043312072754, \n",
      "Epoch 46, Loss: 0.3013836145401001, \n",
      "Epoch 47, Loss: 0.29932552576065063, \n",
      "Epoch 48, Loss: 0.29701173305511475, \n",
      "Epoch 49, Loss: 0.2951406240463257, \n",
      "Epoch 50, Loss: 0.29359692335128784, \n",
      "Epoch 51, Loss: 0.2919068932533264, \n",
      "Epoch 52, Loss: 0.29036861658096313, \n",
      "Epoch 53, Loss: 0.28912121057510376, \n",
      "Epoch 54, Loss: 0.28764671087265015, \n",
      "Epoch 55, Loss: 0.2865869998931885, \n",
      "Epoch 56, Loss: 0.28535938262939453, \n",
      "Epoch 57, Loss: 0.28412944078445435, \n",
      "Epoch 58, Loss: 0.28296273946762085, \n",
      "Epoch 59, Loss: 0.2818400263786316, \n",
      "Epoch 60, Loss: 0.2807798981666565, \n",
      "Epoch 61, Loss: 0.27971261739730835, \n",
      "Epoch 62, Loss: 0.2787182927131653, \n",
      "Epoch 63, Loss: 0.27784234285354614, \n",
      "Epoch 64, Loss: 0.2767025828361511, \n",
      "Epoch 65, Loss: 0.2757241129875183, \n",
      "Epoch 66, Loss: 0.27481609582901, \n",
      "Epoch 67, Loss: 0.27397990226745605, \n",
      "Epoch 68, Loss: 0.27312171459198, \n",
      "Epoch 69, Loss: 0.2722512483596802, \n",
      "Epoch 70, Loss: 0.2716100215911865, \n",
      "Epoch 71, Loss: 0.27074646949768066, \n",
      "Epoch 72, Loss: 0.2699957489967346, \n",
      "Epoch 73, Loss: 0.26940852403640747, \n",
      "Epoch 74, Loss: 0.2687234878540039, \n",
      "Epoch 75, Loss: 0.2679644823074341, \n",
      "Epoch 76, Loss: 0.26728999614715576, \n",
      "Epoch 77, Loss: 0.2664632797241211, \n",
      "Epoch 78, Loss: 0.2657797932624817, \n",
      "Epoch 79, Loss: 0.26515161991119385, \n",
      "Epoch 80, Loss: 0.26448845863342285, \n",
      "Epoch 81, Loss: 0.2638514041900635, \n",
      "Epoch 82, Loss: 0.26323777437210083, \n",
      "Epoch 83, Loss: 0.2626822590827942, \n",
      "Epoch 84, Loss: 0.26203662157058716, \n",
      "Epoch 85, Loss: 0.26148462295532227, \n",
      "Epoch 86, Loss: 0.26100802421569824, \n",
      "Epoch 87, Loss: 0.2604672908782959, \n",
      "Epoch 88, Loss: 0.2599475383758545, \n",
      "Epoch 89, Loss: 0.25942420959472656, \n",
      "Epoch 90, Loss: 0.25894850492477417, \n",
      "Epoch 91, Loss: 0.2585916519165039, \n",
      "Epoch 92, Loss: 0.25810515880584717, \n",
      "Epoch 93, Loss: 0.25770342350006104, \n",
      "Epoch 94, Loss: 0.25738322734832764, \n",
      "Epoch 95, Loss: 0.2570495009422302, \n",
      "Epoch 96, Loss: 0.2567923665046692, \n",
      "Epoch 97, Loss: 0.25649237632751465, \n",
      "Epoch 98, Loss: 0.2560955286026001, \n",
      "Epoch 99, Loss: 0.25574469566345215, \n",
      "Epoch 100, Loss: 0.2555108070373535, \n",
      "Epoch 101, Loss: 0.255248486995697, \n",
      "Epoch 102, Loss: 0.2550010681152344, \n",
      "Epoch 103, Loss: 0.25471019744873047, \n",
      "Epoch 104, Loss: 0.2544317841529846, \n",
      "Epoch 105, Loss: 0.2542763948440552, \n",
      "Epoch 106, Loss: 0.25401270389556885, \n",
      "Epoch 107, Loss: 0.2537496089935303, \n",
      "Epoch 108, Loss: 0.2535465359687805, \n",
      "Epoch 109, Loss: 0.2532949447631836, \n",
      "Epoch 110, Loss: 0.2531614303588867, \n",
      "Epoch 111, Loss: 0.25297343730926514, \n",
      "Epoch 112, Loss: 0.25269967317581177, \n",
      "Epoch 113, Loss: 0.25261837244033813, \n",
      "Epoch 114, Loss: 0.2524182200431824, \n",
      "Epoch 115, Loss: 0.2521365284919739, \n",
      "Epoch 116, Loss: 0.252096951007843, \n",
      "Epoch 117, Loss: 0.2519146203994751, \n",
      "Epoch 118, Loss: 0.2517423629760742, \n",
      "Epoch 119, Loss: 0.25160807371139526, \n",
      "Epoch 120, Loss: 0.251476526260376, \n",
      "Epoch 121, Loss: 0.2512935996055603, \n",
      "Epoch 122, Loss: 0.251224160194397, \n",
      "Epoch 123, Loss: 0.25099390745162964, \n",
      "Epoch 124, Loss: 0.2509394884109497, \n",
      "Epoch 125, Loss: 0.25077956914901733, \n",
      "Epoch 126, Loss: 0.25069481134414673, \n",
      "Epoch 127, Loss: 0.2506062984466553, \n",
      "Epoch 128, Loss: 0.25040721893310547, \n",
      "Epoch 129, Loss: 0.2503253221511841, \n",
      "Epoch 130, Loss: 0.2502514719963074, \n",
      "Epoch 131, Loss: 0.25011712312698364, \n",
      "Epoch 132, Loss: 0.25002145767211914, \n",
      "Epoch 133, Loss: 0.2499217987060547, \n",
      "Epoch 134, Loss: 0.2498253583908081, \n",
      "Epoch 135, Loss: 0.24975883960723877, \n",
      "Epoch 136, Loss: 0.24963432550430298, \n",
      "Epoch 137, Loss: 0.24958384037017822, \n",
      "Epoch 138, Loss: 0.2494860291481018, \n",
      "Epoch 139, Loss: 0.24946260452270508, \n",
      "Epoch 140, Loss: 0.24929112195968628, \n",
      "Epoch 141, Loss: 0.24926239252090454, \n",
      "Epoch 142, Loss: 0.24919748306274414, \n",
      "Epoch 143, Loss: 0.24920707941055298, \n",
      "Epoch 144, Loss: 0.2491198182106018, \n",
      "Epoch 145, Loss: 0.2490672469139099, \n",
      "Epoch 146, Loss: 0.24898940324783325, \n",
      "Epoch 147, Loss: 0.2489585280418396, \n",
      "Epoch 148, Loss: 0.24892204999923706, \n",
      "Epoch 149, Loss: 0.24886256456375122, \n",
      "Epoch 150, Loss: 0.24886351823806763, \n",
      "Epoch 151, Loss: 0.24871957302093506, \n",
      "Epoch 152, Loss: 0.248670756816864, \n",
      "Epoch 153, Loss: 0.24867743253707886, \n",
      "Epoch 154, Loss: 0.24862635135650635, \n",
      "Epoch 155, Loss: 0.24864917993545532, \n",
      "Epoch 156, Loss: 0.248601496219635, \n",
      "Epoch 157, Loss: 0.2485593557357788, \n",
      "Epoch 158, Loss: 0.24851757287979126, \n",
      "Epoch 159, Loss: 0.24844062328338623, \n",
      "Epoch 160, Loss: 0.24843817949295044, \n",
      "Epoch 161, Loss: 0.24838298559188843, \n",
      "Epoch 162, Loss: 0.24837297201156616, \n",
      "Epoch 163, Loss: 0.2483333945274353, \n",
      "Epoch 164, Loss: 0.2482888102531433, \n",
      "Epoch 165, Loss: 0.24827539920806885, \n",
      "Epoch 166, Loss: 0.24827075004577637, \n",
      "Epoch 167, Loss: 0.24824106693267822, \n",
      "Epoch 168, Loss: 0.24826759099960327, \n",
      "Epoch 169, Loss: 0.2481803297996521, \n",
      "Epoch 170, Loss: 0.24818521738052368, \n",
      "Epoch 171, Loss: 0.24812203645706177, \n",
      "Epoch 172, Loss: 0.2480950951576233, \n",
      "Epoch 173, Loss: 0.2480500340461731, \n",
      "Epoch 174, Loss: 0.2479865550994873, \n",
      "Epoch 175, Loss: 0.24801170825958252, \n",
      "Epoch 176, Loss: 0.24805980920791626, \n",
      "Epoch 177, Loss: 0.24800467491149902, \n",
      "Epoch 178, Loss: 0.24801796674728394, \n",
      "Epoch 179, Loss: 0.2479778528213501, \n",
      "Epoch 180, Loss: 0.24794989824295044, \n",
      "Epoch 181, Loss: 0.24796181917190552, \n",
      "Epoch 182, Loss: 0.2479625940322876, \n",
      "Epoch 183, Loss: 0.24790549278259277, \n",
      "Epoch 184, Loss: 0.2478724718093872, \n",
      "Epoch 185, Loss: 0.24786388874053955, \n",
      "Epoch 186, Loss: 0.24782311916351318, \n",
      "Epoch 187, Loss: 0.24785691499710083, \n",
      "Epoch 188, Loss: 0.24781906604766846, \n",
      "Epoch 189, Loss: 0.2477385401725769, \n",
      "Epoch 190, Loss: 0.24771934747695923, \n",
      "Epoch 191, Loss: 0.24769359827041626, \n",
      "Epoch 192, Loss: 0.2476937174797058, \n",
      "Epoch 193, Loss: 0.24767982959747314, \n",
      "Epoch 194, Loss: 0.24767595529556274, \n",
      "Epoch 195, Loss: 0.24765533208847046, \n",
      "Epoch 196, Loss: 0.24764031171798706, \n",
      "Epoch 197, Loss: 0.2475852370262146, \n",
      "Epoch 198, Loss: 0.24761193990707397, \n",
      "Epoch 199, Loss: 0.24752891063690186, \n",
      "Epoch 200, Loss: 0.24748164415359497, \n"
     ]
    }
   ],
   "source": [
    "EPOCHS = 200\n",
    "possible_densities = tf.random.uniform((1, 17), minval=5, maxval=50, dtype=\"float32\", seed=42)\n",
    "params = tf.random.uniform((1, 12), minval=16, maxval=24, dtype=\"float32\", seed=42)\n",
    "params = tf.concat([possible_densities, params], axis=1)\n",
    "\n",
    "params = tf.reshape(params, shape=(1, 29))\n",
    "\n",
    "for epoch in range(EPOCHS):\n",
    "    # Reset the metrics at the start of the next epoch\n",
    "    train_loss.reset_states()\n",
    "    params = optimizer_train_step(params)\n",
    "\n",
    "    print(\n",
    "        f'Epoch {epoch + 1}, '\n",
    "        f'Loss: {train_loss.result()}, '\n",
    "    )"
   ]
  },
  {
   "cell_type": "code",
   "execution_count": 47,
   "id": "d315d2ed-405b-4cca-b1ce-8affb2608daa",
   "metadata": {},
   "outputs": [
    {
     "data": {
      "text/plain": [
       "<tf.Tensor: shape=(1, 29), dtype=float32, numpy=\n",
       "array([[49.999996 , 49.99993  ,  6.0733767,  5.057633 ,  5.0000215,\n",
       "         5.0015955,  5.1109986,  5.136513 ,  5.0182495,  5.057583 ,\n",
       "         5.551576 ,  5.332079 ,  5.012101 ,  5.053944 , 49.99966  ,\n",
       "         5.018517 , 49.999924 , 16.004532 , 23.99833  , 23.999153 ,\n",
       "        23.159641 , 16.000074 , 23.874561 , 24.       , 16.029768 ,\n",
       "        16.027681 , 16.055325 , 23.999912 , 23.999594 ]], dtype=float32)>"
      ]
     },
     "execution_count": 47,
     "metadata": {},
     "output_type": "execute_result"
    }
   ],
   "source": [
    "params"
   ]
  },
  {
   "cell_type": "code",
   "execution_count": 48,
   "id": "33ecfcef-8a9e-44dc-ac93-c45883be00e2",
   "metadata": {},
   "outputs": [
    {
     "data": {
      "text/plain": [
       "(<tf.Tensor: shape=(2, 1), dtype=float32, numpy=\n",
       " array([[0.01566267],\n",
       "        [0.06093216]], dtype=float32)>,\n",
       " <tf.Tensor: shape=(), dtype=float32, numpy=4.9720097>)"
      ]
     },
     "execution_count": 48,
     "metadata": {},
     "output_type": "execute_result"
    },
    {
     "data": {
      "image/png": "[encoded data removed]",
      "text/plain": [
       "<Figure size 432x288 with 1 Axes>"
      ]
     },
     "metadata": {
      "needs_background": "light"
     },
     "output_type": "display_data"
    }
   ],
   "source": [
    "calculate_center_of_mass(tf.reshape(params, (29,)), show_plots=True)"
   ]
  },
  {
   "cell_type": "code",
   "execution_count": 49,
   "id": "b4336892-d8af-4e7b-aabf-7a110ae49063",
   "metadata": {},
   "outputs": [
    {
     "data": {
      "text/plain": [
       "<tf.Tensor: shape=(), dtype=float32, numpy=0.76106596>"
      ]
     },
     "execution_count": 49,
     "metadata": {},
     "output_type": "execute_result"
    },
    {
     "data": {
      "image/png": "[encoded data removed]",
      "text/plain": [
       "<Figure size 504x504 with 1 Axes>"
      ]
     },
     "metadata": {
      "needs_background": "light"
     },
     "output_type": "display_data"
    },
    {
     "data": {
      "image/png": "[encoded data removed]",
      "text/plain": [
       "<Figure size 504x504 with 1 Axes>"
      ]
     },
     "metadata": {
      "needs_background": "light"
     },
     "output_type": "display_data"
    }
   ],
   "source": [
    "t = np.linspace(0, 120, 1000)\n",
    "evaluate_efficiency(tf.reshape(params, (29,)), t, show_plots=True)"
   ]
  },
  {
   "cell_type": "code",
   "execution_count": 50,
   "id": "9f114353-0282-449e-9cd9-7b2d0f68961a",
   "metadata": {},
   "outputs": [
    {
     "data": {
      "text/plain": [
       "<tf.Tensor: shape=(), dtype=float32, numpy=0.5056526>"
      ]
     },
     "execution_count": 50,
     "metadata": {},
     "output_type": "execute_result"
    }
   ],
   "source": [
    "evaluate_efficiency(tf.reshape(canonical_parameters, (29,)), t)"
   ]
  },
  {
   "cell_type": "code",
   "execution_count": 52,
   "id": "0aa71fee-3723-413c-bc6f-1ccb0803cd0d",
   "metadata": {},
   "outputs": [],
   "source": [
    "d = tf.concat([tf.reshape(params, (29,)), tf.constant([0.76106596])], axis=0).numpy()\n",
    "d = tf.reshape(d, shape=(30, 1))\n",
    "bdf = pd.DataFrame(d)\n",
    "bdf.to_csv(\"best_params.csv\", index=False, header=False)"
   ]
  },
  {
   "cell_type": "code",
   "execution_count": null,
   "id": "3f4583ba-77f7-469d-8a5d-ba4fba02f2e2",
   "metadata": {},
   "outputs": [],
   "source": []
  }
 ],
 "metadata": {
  "kernelspec": {
   "display_name": "Python 3 (ipykernel)",
   "language": "python",
   "name": "python3"
  },
  "language_info": {
   "codemirror_mode": {
    "name": "ipython",
    "version": 3
   },
   "file_extension": ".py",
   "mimetype": "text/x-python",
   "name": "python",
   "nbconvert_exporter": "python",
   "pygments_lexer": "ipython3",
   "version": "3.9.13"
  }
 },
 "nbformat": 4,
 "nbformat_minor": 5
}
