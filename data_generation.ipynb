{
 "cells": [
  {
   "cell_type": "code",
   "execution_count": 1,
   "id": "28331e42-d392-4e96-a270-8900c7b0dc0b",
   "metadata": {},
   "outputs": [
    {
     "data": {
      "image/png": "[encoded data removed]",
      "text/plain": [
       "<Figure size 504x504 with 1 Axes>"
      ]
     },
     "metadata": {
      "needs_background": "light"
     },
     "output_type": "display_data"
    },
    {
     "data": {
      "image/png": "[encoded data removed]",
      "text/plain": [
       "<Figure size 504x504 with 1 Axes>"
      ]
     },
     "metadata": {
      "needs_background": "light"
     },
     "output_type": "display_data"
    }
   ],
   "source": [
    "%run 3phase_pm_engine_simulation.ipynb"
   ]
  },
  {
   "cell_type": "code",
   "execution_count": 2,
   "id": "dd4b1fb6-f485-4127-b9fb-c750e0d90700",
   "metadata": {},
   "outputs": [],
   "source": [
    "from tqdm.notebook import trange\n",
    "import pandas as pd"
   ]
  },
  {
   "cell_type": "code",
   "execution_count": 3,
   "id": "67771026-deff-4f61-b4de-c908745c5533",
   "metadata": {},
   "outputs": [],
   "source": [
    "possible_densities = tf.random.uniform((1_000_000, 17), minval=5, maxval=50, dtype=\"float32\", seed=42)\n",
    "parameters = tf.random.uniform((1_000_000, 12), minval=16, maxval=24, dtype=\"float32\", seed=42)"
   ]
  },
  {
   "cell_type": "code",
   "execution_count": 4,
   "id": "56bd6069-5d03-43e9-8ff9-13002098fb69",
   "metadata": {},
   "outputs": [],
   "source": [
    "parameters = tf.concat([possible_densities, parameters], axis=1)"
   ]
  },
  {
   "cell_type": "code",
   "execution_count": null,
   "id": "df309322-6bf0-4643-a1f1-b3b703d723ad",
   "metadata": {
    "scrolled": true,
    "tags": []
   },
   "outputs": [
    {
     "data": {
      "application/vnd.jupyter.widget-view+json": {
       "model_id": "ced94377612247ee9ca675d64ad0fd0c",
       "version_major": 2,
       "version_minor": 0
      },
      "text/plain": [
       "  0%|          | 0/1000000 [00:00<?, ?it/s]"
      ]
     },
     "metadata": {},
     "output_type": "display_data"
    }
   ],
   "source": [
    "good_params = []\n",
    "for index in trange(parameters.shape[0]):\n",
    "    _, mass = calculate_center_of_mass(parameters[index])\n",
    "    if 4 <= mass <= 8:\n",
    "        good_params.append(parameters[index].numpy())"
   ]
  },
  {
   "cell_type": "code",
   "execution_count": 17,
   "id": "daa10857-97bc-4761-8faf-f6eaca42b166",
   "metadata": {},
   "outputs": [],
   "source": [
    "g_params = [i.numpy() for i in good_params]"
   ]
  },
  {
   "cell_type": "code",
   "execution_count": 20,
   "id": "a1956d1f-872d-4321-8ece-4dfe27de34a6",
   "metadata": {},
   "outputs": [],
   "source": [
    "df = pd.DataFrame.from_records(np.array(g_params))"
   ]
  },
  {
   "cell_type": "code",
   "execution_count": 21,
   "id": "43d4af19-5199-4de9-91f9-e2d8bd6c760e",
   "metadata": {},
   "outputs": [
    {
     "data": {
      "text/html": [
       "<div>\n",
       "<style scoped>\n",
       "    .dataframe tbody tr th:only-of-type {\n",
       "        vertical-align: middle;\n",
       "    }\n",
       "\n",
       "    .dataframe tbody tr th {\n",
       "        vertical-align: top;\n",
       "    }\n",
       "\n",
       "    .dataframe thead th {\n",
       "        text-align: right;\n",
       "    }\n",
       "</style>\n",
       "<table border=\"1\" class=\"dataframe\">\n",
       "  <thead>\n",
       "    <tr style=\"text-align: right;\">\n",
       "      <th></th>\n",
       "      <th>0</th>\n",
       "      <th>1</th>\n",
       "      <th>2</th>\n",
       "      <th>3</th>\n",
       "      <th>4</th>\n",
       "      <th>5</th>\n",
       "      <th>6</th>\n",
       "      <th>7</th>\n",
       "      <th>8</th>\n",
       "      <th>9</th>\n",
       "      <th>...</th>\n",
       "      <th>19</th>\n",
       "      <th>20</th>\n",
       "      <th>21</th>\n",
       "      <th>22</th>\n",
       "      <th>23</th>\n",
       "      <th>24</th>\n",
       "      <th>25</th>\n",
       "      <th>26</th>\n",
       "      <th>27</th>\n",
       "      <th>28</th>\n",
       "    </tr>\n",
       "  </thead>\n",
       "  <tbody>\n",
       "    <tr>\n",
       "      <th>0</th>\n",
       "      <td>47.852215</td>\n",
       "      <td>35.483349</td>\n",
       "      <td>40.789322</td>\n",
       "      <td>39.010181</td>\n",
       "      <td>26.418003</td>\n",
       "      <td>33.395668</td>\n",
       "      <td>13.370916</td>\n",
       "      <td>10.143849</td>\n",
       "      <td>20.129982</td>\n",
       "      <td>37.550076</td>\n",
       "      <td>...</td>\n",
       "      <td>23.290321</td>\n",
       "      <td>22.930664</td>\n",
       "      <td>18.803226</td>\n",
       "      <td>20.388603</td>\n",
       "      <td>17.274935</td>\n",
       "      <td>23.641640</td>\n",
       "      <td>18.181509</td>\n",
       "      <td>17.771479</td>\n",
       "      <td>21.940502</td>\n",
       "      <td>22.585560</td>\n",
       "    </tr>\n",
       "    <tr>\n",
       "      <th>1</th>\n",
       "      <td>21.271492</td>\n",
       "      <td>7.017729</td>\n",
       "      <td>48.747475</td>\n",
       "      <td>42.277481</td>\n",
       "      <td>23.656282</td>\n",
       "      <td>32.074966</td>\n",
       "      <td>20.281408</td>\n",
       "      <td>30.789621</td>\n",
       "      <td>15.631498</td>\n",
       "      <td>35.365303</td>\n",
       "      <td>...</td>\n",
       "      <td>18.126972</td>\n",
       "      <td>17.515060</td>\n",
       "      <td>18.736458</td>\n",
       "      <td>17.557917</td>\n",
       "      <td>23.347153</td>\n",
       "      <td>19.391457</td>\n",
       "      <td>16.655663</td>\n",
       "      <td>17.357239</td>\n",
       "      <td>18.156464</td>\n",
       "      <td>22.041084</td>\n",
       "    </tr>\n",
       "    <tr>\n",
       "      <th>2</th>\n",
       "      <td>16.454298</td>\n",
       "      <td>17.266167</td>\n",
       "      <td>25.914997</td>\n",
       "      <td>18.146740</td>\n",
       "      <td>14.453725</td>\n",
       "      <td>24.174446</td>\n",
       "      <td>46.995750</td>\n",
       "      <td>23.783478</td>\n",
       "      <td>37.169041</td>\n",
       "      <td>30.481146</td>\n",
       "      <td>...</td>\n",
       "      <td>23.743114</td>\n",
       "      <td>22.773630</td>\n",
       "      <td>20.443180</td>\n",
       "      <td>18.042015</td>\n",
       "      <td>19.294508</td>\n",
       "      <td>22.711330</td>\n",
       "      <td>21.550505</td>\n",
       "      <td>21.713373</td>\n",
       "      <td>17.566971</td>\n",
       "      <td>21.820410</td>\n",
       "    </tr>\n",
       "    <tr>\n",
       "      <th>3</th>\n",
       "      <td>30.555342</td>\n",
       "      <td>11.459092</td>\n",
       "      <td>11.628479</td>\n",
       "      <td>40.820404</td>\n",
       "      <td>16.642155</td>\n",
       "      <td>13.737366</td>\n",
       "      <td>49.505657</td>\n",
       "      <td>10.285615</td>\n",
       "      <td>9.505312</td>\n",
       "      <td>48.672531</td>\n",
       "      <td>...</td>\n",
       "      <td>23.887112</td>\n",
       "      <td>17.889275</td>\n",
       "      <td>20.355480</td>\n",
       "      <td>17.717634</td>\n",
       "      <td>18.914383</td>\n",
       "      <td>21.847799</td>\n",
       "      <td>18.787544</td>\n",
       "      <td>23.674591</td>\n",
       "      <td>19.055019</td>\n",
       "      <td>20.667669</td>\n",
       "    </tr>\n",
       "    <tr>\n",
       "      <th>4</th>\n",
       "      <td>23.856905</td>\n",
       "      <td>16.446531</td>\n",
       "      <td>45.023891</td>\n",
       "      <td>43.328838</td>\n",
       "      <td>46.529285</td>\n",
       "      <td>33.348129</td>\n",
       "      <td>27.831150</td>\n",
       "      <td>17.622068</td>\n",
       "      <td>36.831844</td>\n",
       "      <td>11.322756</td>\n",
       "      <td>...</td>\n",
       "      <td>22.539314</td>\n",
       "      <td>17.643341</td>\n",
       "      <td>17.884251</td>\n",
       "      <td>20.158504</td>\n",
       "      <td>21.563244</td>\n",
       "      <td>19.507435</td>\n",
       "      <td>20.559509</td>\n",
       "      <td>18.921185</td>\n",
       "      <td>16.477798</td>\n",
       "      <td>22.452587</td>\n",
       "    </tr>\n",
       "  </tbody>\n",
       "</table>\n",
       "<p>5 rows × 29 columns</p>\n",
       "</div>"
      ],
      "text/plain": [
       "          0          1          2          3          4          5   \\\n",
       "0  47.852215  35.483349  40.789322  39.010181  26.418003  33.395668   \n",
       "1  21.271492   7.017729  48.747475  42.277481  23.656282  32.074966   \n",
       "2  16.454298  17.266167  25.914997  18.146740  14.453725  24.174446   \n",
       "3  30.555342  11.459092  11.628479  40.820404  16.642155  13.737366   \n",
       "4  23.856905  16.446531  45.023891  43.328838  46.529285  33.348129   \n",
       "\n",
       "          6          7          8          9   ...         19         20  \\\n",
       "0  13.370916  10.143849  20.129982  37.550076  ...  23.290321  22.930664   \n",
       "1  20.281408  30.789621  15.631498  35.365303  ...  18.126972  17.515060   \n",
       "2  46.995750  23.783478  37.169041  30.481146  ...  23.743114  22.773630   \n",
       "3  49.505657  10.285615   9.505312  48.672531  ...  23.887112  17.889275   \n",
       "4  27.831150  17.622068  36.831844  11.322756  ...  22.539314  17.643341   \n",
       "\n",
       "          21         22         23         24         25         26  \\\n",
       "0  18.803226  20.388603  17.274935  23.641640  18.181509  17.771479   \n",
       "1  18.736458  17.557917  23.347153  19.391457  16.655663  17.357239   \n",
       "2  20.443180  18.042015  19.294508  22.711330  21.550505  21.713373   \n",
       "3  20.355480  17.717634  18.914383  21.847799  18.787544  23.674591   \n",
       "4  17.884251  20.158504  21.563244  19.507435  20.559509  18.921185   \n",
       "\n",
       "          27         28  \n",
       "0  21.940502  22.585560  \n",
       "1  18.156464  22.041084  \n",
       "2  17.566971  21.820410  \n",
       "3  19.055019  20.667669  \n",
       "4  16.477798  22.452587  \n",
       "\n",
       "[5 rows x 29 columns]"
      ]
     },
     "execution_count": 21,
     "metadata": {},
     "output_type": "execute_result"
    }
   ],
   "source": [
    "df.head()"
   ]
  },
  {
   "cell_type": "code",
   "execution_count": 22,
   "id": "24da86b3-b790-4ae3-98ab-77c71e67078b",
   "metadata": {},
   "outputs": [],
   "source": [
    "df.to_csv(\"params.csv\", index=False, header=False)"
   ]
  },
  {
   "cell_type": "code",
   "execution_count": 23,
   "id": "844ee209-9700-4a87-89a6-f59fd55ed086",
   "metadata": {},
   "outputs": [],
   "source": [
    "t = np.linspace(0, 120, 1000)"
   ]
  },
  {
   "cell_type": "code",
   "execution_count": 51,
   "id": "61e18b52-9d53-4e23-8df0-669061e8a53f",
   "metadata": {},
   "outputs": [],
   "source": [
    "df = pd.read_csv(\"params.csv\", header=None)"
   ]
  },
  {
   "cell_type": "code",
   "execution_count": 52,
   "id": "07adb304-9d73-468b-b3f7-7b1701d1b809",
   "metadata": {},
   "outputs": [],
   "source": [
    "good_params = df.to_numpy()\n",
    "good_params = [tf.constant(g, dtype=\"float32\") for g in good_params]"
   ]
  },
  {
   "cell_type": "code",
   "execution_count": 53,
   "id": "754096c4-4a00-494e-b83e-e5666f0b545a",
   "metadata": {},
   "outputs": [],
   "source": [
    "efficiencies = []"
   ]
  },
  {
   "cell_type": "code",
   "execution_count": 54,
   "id": "c62ae8aa-4632-4592-aa09-86a2c6d0386e",
   "metadata": {},
   "outputs": [
    {
     "data": {
      "application/vnd.jupyter.widget-view+json": {
       "model_id": "3ec25a49352b4aa4a5d87bfc27926faa",
       "version_major": 2,
       "version_minor": 0
      },
      "text/plain": [
       "  0%|          | 0/62364 [00:00<?, ?it/s]"
      ]
     },
     "metadata": {},
     "output_type": "display_data"
    }
   ],
   "source": [
    "for i in trange(len(good_params)):\n",
    "    eff = evaluate_efficiency(good_params[i], t)\n",
    "    efficiencies.append(eff.numpy())\n",
    "    if i >= 1000 and i % 1000 == 0:\n",
    "        df = pd.DataFrame(efficiencies)\n",
    "        df.to_csv(\"calculated_efficiencies.csv\", index=False, header=False)"
   ]
  },
  {
   "cell_type": "code",
   "execution_count": 55,
   "id": "bacad68b-2117-4b19-a4d0-026c62993f97",
   "metadata": {},
   "outputs": [],
   "source": [
    "df = pd.DataFrame(efficiencies)\n",
    "df.to_csv(\"calculated_efficiencies.csv\", index=False, header=False)"
   ]
  },
  {
   "cell_type": "code",
   "execution_count": 56,
   "id": "bd575993-a349-4d45-b402-5eb14e6927e7",
   "metadata": {},
   "outputs": [],
   "source": [
    "df = pd.DataFrame(np.array(efficiencies))"
   ]
  },
  {
   "cell_type": "code",
   "execution_count": 57,
   "id": "9d9c5cd8-85c2-446b-822e-fcd71bba0304",
   "metadata": {},
   "outputs": [
    {
     "data": {
      "text/plain": [
       "0    0.511146\n",
       "dtype: float32"
      ]
     },
     "execution_count": 57,
     "metadata": {},
     "output_type": "execute_result"
    }
   ],
   "source": [
    "df.mean()"
   ]
  },
  {
   "cell_type": "code",
   "execution_count": 58,
   "id": "9563c608-52f6-40c1-9dce-0ea5568b7cf6",
   "metadata": {},
   "outputs": [
    {
     "data": {
      "text/plain": [
       "0    0.067722\n",
       "dtype: float32"
      ]
     },
     "execution_count": 58,
     "metadata": {},
     "output_type": "execute_result"
    }
   ],
   "source": [
    "df.std()"
   ]
  },
  {
   "cell_type": "code",
   "execution_count": 59,
   "id": "c75ec526-98ef-4583-ad92-44eb1033742e",
   "metadata": {},
   "outputs": [
    {
     "data": {
      "text/plain": [
       "0    0.784475\n",
       "dtype: float32"
      ]
     },
     "execution_count": 59,
     "metadata": {},
     "output_type": "execute_result"
    }
   ],
   "source": [
    "df.max()"
   ]
  },
  {
   "cell_type": "code",
   "execution_count": 60,
   "id": "a686a285-2007-424f-a79d-1bb8a0052d91",
   "metadata": {},
   "outputs": [
    {
     "data": {
      "text/plain": [
       "0    1.565178e-08\n",
       "dtype: float32"
      ]
     },
     "execution_count": 60,
     "metadata": {},
     "output_type": "execute_result"
    }
   ],
   "source": [
    "df.min()"
   ]
  },
  {
   "cell_type": "code",
   "execution_count": 61,
   "id": "5fc37f88-5856-450c-a670-a98b80ec2546",
   "metadata": {},
   "outputs": [
    {
     "data": {
      "text/html": [
       "<div>\n",
       "<style scoped>\n",
       "    .dataframe tbody tr th:only-of-type {\n",
       "        vertical-align: middle;\n",
       "    }\n",
       "\n",
       "    .dataframe tbody tr th {\n",
       "        vertical-align: top;\n",
       "    }\n",
       "\n",
       "    .dataframe thead th {\n",
       "        text-align: right;\n",
       "    }\n",
       "</style>\n",
       "<table border=\"1\" class=\"dataframe\">\n",
       "  <thead>\n",
       "    <tr style=\"text-align: right;\">\n",
       "      <th></th>\n",
       "      <th>0</th>\n",
       "    </tr>\n",
       "  </thead>\n",
       "  <tbody>\n",
       "    <tr>\n",
       "      <th>0</th>\n",
       "      <td>0.567362</td>\n",
       "    </tr>\n",
       "    <tr>\n",
       "      <th>1</th>\n",
       "      <td>0.470978</td>\n",
       "    </tr>\n",
       "    <tr>\n",
       "      <th>2</th>\n",
       "      <td>0.551705</td>\n",
       "    </tr>\n",
       "    <tr>\n",
       "      <th>3</th>\n",
       "      <td>0.491741</td>\n",
       "    </tr>\n",
       "    <tr>\n",
       "      <th>4</th>\n",
       "      <td>0.520799</td>\n",
       "    </tr>\n",
       "  </tbody>\n",
       "</table>\n",
       "</div>"
      ],
      "text/plain": [
       "          0\n",
       "0  0.567362\n",
       "1  0.470978\n",
       "2  0.551705\n",
       "3  0.491741\n",
       "4  0.520799"
      ]
     },
     "execution_count": 61,
     "metadata": {},
     "output_type": "execute_result"
    }
   ],
   "source": [
    "df.head()"
   ]
  },
  {
   "cell_type": "code",
   "execution_count": 62,
   "id": "eafd1c16-de62-4ff3-9f40-f1e100220bdd",
   "metadata": {},
   "outputs": [],
   "source": [
    "pdf = pd.read_csv(\"params.csv\", header=None)"
   ]
  },
  {
   "cell_type": "code",
   "execution_count": 65,
   "id": "e1f05ba1-41a8-4147-8e94-d61aaa266932",
   "metadata": {},
   "outputs": [],
   "source": [
    "full_df = pd.concat([pdf, df], axis=1)\n",
    "full_df.columns = [i for i in range(30)]"
   ]
  },
  {
   "cell_type": "code",
   "execution_count": 66,
   "id": "ec78bd6a-2c67-43bc-804d-14708d2d3fdb",
   "metadata": {},
   "outputs": [
    {
     "data": {
      "text/html": [
       "<div>\n",
       "<style scoped>\n",
       "    .dataframe tbody tr th:only-of-type {\n",
       "        vertical-align: middle;\n",
       "    }\n",
       "\n",
       "    .dataframe tbody tr th {\n",
       "        vertical-align: top;\n",
       "    }\n",
       "\n",
       "    .dataframe thead th {\n",
       "        text-align: right;\n",
       "    }\n",
       "</style>\n",
       "<table border=\"1\" class=\"dataframe\">\n",
       "  <thead>\n",
       "    <tr style=\"text-align: right;\">\n",
       "      <th></th>\n",
       "      <th>0</th>\n",
       "      <th>1</th>\n",
       "      <th>2</th>\n",
       "      <th>3</th>\n",
       "      <th>4</th>\n",
       "      <th>5</th>\n",
       "      <th>6</th>\n",
       "      <th>7</th>\n",
       "      <th>8</th>\n",
       "      <th>9</th>\n",
       "      <th>...</th>\n",
       "      <th>20</th>\n",
       "      <th>21</th>\n",
       "      <th>22</th>\n",
       "      <th>23</th>\n",
       "      <th>24</th>\n",
       "      <th>25</th>\n",
       "      <th>26</th>\n",
       "      <th>27</th>\n",
       "      <th>28</th>\n",
       "      <th>29</th>\n",
       "    </tr>\n",
       "  </thead>\n",
       "  <tbody>\n",
       "    <tr>\n",
       "      <th>0</th>\n",
       "      <td>47.852215</td>\n",
       "      <td>35.483350</td>\n",
       "      <td>40.789320</td>\n",
       "      <td>39.010180</td>\n",
       "      <td>26.418003</td>\n",
       "      <td>33.395668</td>\n",
       "      <td>13.370916</td>\n",
       "      <td>10.143849</td>\n",
       "      <td>20.129982</td>\n",
       "      <td>37.550076</td>\n",
       "      <td>...</td>\n",
       "      <td>22.930664</td>\n",
       "      <td>18.803226</td>\n",
       "      <td>20.388603</td>\n",
       "      <td>17.274935</td>\n",
       "      <td>23.641640</td>\n",
       "      <td>18.181509</td>\n",
       "      <td>17.771479</td>\n",
       "      <td>21.940502</td>\n",
       "      <td>22.585560</td>\n",
       "      <td>0.567362</td>\n",
       "    </tr>\n",
       "    <tr>\n",
       "      <th>1</th>\n",
       "      <td>21.271492</td>\n",
       "      <td>7.017729</td>\n",
       "      <td>48.747475</td>\n",
       "      <td>42.277480</td>\n",
       "      <td>23.656282</td>\n",
       "      <td>32.074966</td>\n",
       "      <td>20.281408</td>\n",
       "      <td>30.789621</td>\n",
       "      <td>15.631498</td>\n",
       "      <td>35.365303</td>\n",
       "      <td>...</td>\n",
       "      <td>17.515060</td>\n",
       "      <td>18.736458</td>\n",
       "      <td>17.557917</td>\n",
       "      <td>23.347153</td>\n",
       "      <td>19.391457</td>\n",
       "      <td>16.655663</td>\n",
       "      <td>17.357239</td>\n",
       "      <td>18.156464</td>\n",
       "      <td>22.041084</td>\n",
       "      <td>0.470978</td>\n",
       "    </tr>\n",
       "    <tr>\n",
       "      <th>2</th>\n",
       "      <td>16.454298</td>\n",
       "      <td>17.266167</td>\n",
       "      <td>25.914997</td>\n",
       "      <td>18.146740</td>\n",
       "      <td>14.453725</td>\n",
       "      <td>24.174446</td>\n",
       "      <td>46.995750</td>\n",
       "      <td>23.783478</td>\n",
       "      <td>37.169040</td>\n",
       "      <td>30.481146</td>\n",
       "      <td>...</td>\n",
       "      <td>22.773630</td>\n",
       "      <td>20.443180</td>\n",
       "      <td>18.042015</td>\n",
       "      <td>19.294508</td>\n",
       "      <td>22.711330</td>\n",
       "      <td>21.550505</td>\n",
       "      <td>21.713373</td>\n",
       "      <td>17.566970</td>\n",
       "      <td>21.820410</td>\n",
       "      <td>0.551705</td>\n",
       "    </tr>\n",
       "    <tr>\n",
       "      <th>3</th>\n",
       "      <td>30.555342</td>\n",
       "      <td>11.459092</td>\n",
       "      <td>11.628479</td>\n",
       "      <td>40.820404</td>\n",
       "      <td>16.642155</td>\n",
       "      <td>13.737366</td>\n",
       "      <td>49.505657</td>\n",
       "      <td>10.285615</td>\n",
       "      <td>9.505312</td>\n",
       "      <td>48.672530</td>\n",
       "      <td>...</td>\n",
       "      <td>17.889275</td>\n",
       "      <td>20.355480</td>\n",
       "      <td>17.717634</td>\n",
       "      <td>18.914383</td>\n",
       "      <td>21.847800</td>\n",
       "      <td>18.787544</td>\n",
       "      <td>23.674591</td>\n",
       "      <td>19.055020</td>\n",
       "      <td>20.667670</td>\n",
       "      <td>0.491741</td>\n",
       "    </tr>\n",
       "    <tr>\n",
       "      <th>4</th>\n",
       "      <td>23.856905</td>\n",
       "      <td>16.446531</td>\n",
       "      <td>45.023890</td>\n",
       "      <td>43.328840</td>\n",
       "      <td>46.529285</td>\n",
       "      <td>33.348130</td>\n",
       "      <td>27.831150</td>\n",
       "      <td>17.622068</td>\n",
       "      <td>36.831844</td>\n",
       "      <td>11.322756</td>\n",
       "      <td>...</td>\n",
       "      <td>17.643341</td>\n",
       "      <td>17.884250</td>\n",
       "      <td>20.158504</td>\n",
       "      <td>21.563244</td>\n",
       "      <td>19.507435</td>\n",
       "      <td>20.559510</td>\n",
       "      <td>18.921185</td>\n",
       "      <td>16.477798</td>\n",
       "      <td>22.452587</td>\n",
       "      <td>0.520799</td>\n",
       "    </tr>\n",
       "  </tbody>\n",
       "</table>\n",
       "<p>5 rows × 30 columns</p>\n",
       "</div>"
      ],
      "text/plain": [
       "          0          1          2          3          4          5   \\\n",
       "0  47.852215  35.483350  40.789320  39.010180  26.418003  33.395668   \n",
       "1  21.271492   7.017729  48.747475  42.277480  23.656282  32.074966   \n",
       "2  16.454298  17.266167  25.914997  18.146740  14.453725  24.174446   \n",
       "3  30.555342  11.459092  11.628479  40.820404  16.642155  13.737366   \n",
       "4  23.856905  16.446531  45.023890  43.328840  46.529285  33.348130   \n",
       "\n",
       "          6          7          8          9   ...         20         21  \\\n",
       "0  13.370916  10.143849  20.129982  37.550076  ...  22.930664  18.803226   \n",
       "1  20.281408  30.789621  15.631498  35.365303  ...  17.515060  18.736458   \n",
       "2  46.995750  23.783478  37.169040  30.481146  ...  22.773630  20.443180   \n",
       "3  49.505657  10.285615   9.505312  48.672530  ...  17.889275  20.355480   \n",
       "4  27.831150  17.622068  36.831844  11.322756  ...  17.643341  17.884250   \n",
       "\n",
       "          22         23         24         25         26         27  \\\n",
       "0  20.388603  17.274935  23.641640  18.181509  17.771479  21.940502   \n",
       "1  17.557917  23.347153  19.391457  16.655663  17.357239  18.156464   \n",
       "2  18.042015  19.294508  22.711330  21.550505  21.713373  17.566970   \n",
       "3  17.717634  18.914383  21.847800  18.787544  23.674591  19.055020   \n",
       "4  20.158504  21.563244  19.507435  20.559510  18.921185  16.477798   \n",
       "\n",
       "          28        29  \n",
       "0  22.585560  0.567362  \n",
       "1  22.041084  0.470978  \n",
       "2  21.820410  0.551705  \n",
       "3  20.667670  0.491741  \n",
       "4  22.452587  0.520799  \n",
       "\n",
       "[5 rows x 30 columns]"
      ]
     },
     "execution_count": 66,
     "metadata": {},
     "output_type": "execute_result"
    }
   ],
   "source": [
    "full_df.head()"
   ]
  },
  {
   "cell_type": "code",
   "execution_count": 67,
   "id": "0c5885b5-32e3-43a8-adc5-113ecbaacbf4",
   "metadata": {},
   "outputs": [],
   "source": [
    "best = full_df[full_df[29] == full_df[29].max()]"
   ]
  },
  {
   "cell_type": "code",
   "execution_count": 68,
   "id": "26ad252c-3109-458d-ae1e-7bc493250284",
   "metadata": {},
   "outputs": [
    {
     "data": {
      "text/html": [
       "<div>\n",
       "<style scoped>\n",
       "    .dataframe tbody tr th:only-of-type {\n",
       "        vertical-align: middle;\n",
       "    }\n",
       "\n",
       "    .dataframe tbody tr th {\n",
       "        vertical-align: top;\n",
       "    }\n",
       "\n",
       "    .dataframe thead th {\n",
       "        text-align: right;\n",
       "    }\n",
       "</style>\n",
       "<table border=\"1\" class=\"dataframe\">\n",
       "  <thead>\n",
       "    <tr style=\"text-align: right;\">\n",
       "      <th></th>\n",
       "      <th>0</th>\n",
       "      <th>1</th>\n",
       "      <th>2</th>\n",
       "      <th>3</th>\n",
       "      <th>4</th>\n",
       "      <th>5</th>\n",
       "      <th>6</th>\n",
       "      <th>7</th>\n",
       "      <th>8</th>\n",
       "      <th>9</th>\n",
       "      <th>...</th>\n",
       "      <th>20</th>\n",
       "      <th>21</th>\n",
       "      <th>22</th>\n",
       "      <th>23</th>\n",
       "      <th>24</th>\n",
       "      <th>25</th>\n",
       "      <th>26</th>\n",
       "      <th>27</th>\n",
       "      <th>28</th>\n",
       "      <th>29</th>\n",
       "    </tr>\n",
       "  </thead>\n",
       "  <tbody>\n",
       "    <tr>\n",
       "      <th>1211</th>\n",
       "      <td>41.61702</td>\n",
       "      <td>37.77215</td>\n",
       "      <td>10.352745</td>\n",
       "      <td>21.651165</td>\n",
       "      <td>5.676679</td>\n",
       "      <td>25.11027</td>\n",
       "      <td>16.478386</td>\n",
       "      <td>10.853578</td>\n",
       "      <td>5.301185</td>\n",
       "      <td>12.53807</td>\n",
       "      <td>...</td>\n",
       "      <td>20.230223</td>\n",
       "      <td>22.006504</td>\n",
       "      <td>16.216133</td>\n",
       "      <td>23.267712</td>\n",
       "      <td>21.76094</td>\n",
       "      <td>23.108746</td>\n",
       "      <td>22.178432</td>\n",
       "      <td>18.204014</td>\n",
       "      <td>20.025913</td>\n",
       "      <td>0.784475</td>\n",
       "    </tr>\n",
       "  </tbody>\n",
       "</table>\n",
       "<p>1 rows × 30 columns</p>\n",
       "</div>"
      ],
      "text/plain": [
       "            0         1          2          3         4         5          6   \\\n",
       "1211  41.61702  37.77215  10.352745  21.651165  5.676679  25.11027  16.478386   \n",
       "\n",
       "             7         8         9   ...         20         21         22  \\\n",
       "1211  10.853578  5.301185  12.53807  ...  20.230223  22.006504  16.216133   \n",
       "\n",
       "             23        24         25         26         27         28  \\\n",
       "1211  23.267712  21.76094  23.108746  22.178432  18.204014  20.025913   \n",
       "\n",
       "            29  \n",
       "1211  0.784475  \n",
       "\n",
       "[1 rows x 30 columns]"
      ]
     },
     "execution_count": 68,
     "metadata": {},
     "output_type": "execute_result"
    }
   ],
   "source": [
    "best"
   ]
  },
  {
   "cell_type": "code",
   "execution_count": 84,
   "id": "80c5aeae-4dec-438f-8943-71eb1922aaa8",
   "metadata": {},
   "outputs": [
    {
     "data": {
      "text/plain": [
       "(<tf.Tensor: shape=(2, 1), dtype=float32, numpy=\n",
       " array([[0.00404178],\n",
       "        [0.06578645]], dtype=float32)>,\n",
       " <tf.Tensor: shape=(), dtype=float32, numpy=4.9094315>)"
      ]
     },
     "execution_count": 84,
     "metadata": {},
     "output_type": "execute_result"
    },
    {
     "data": {
      "image/png": "[encoded data removed]",
      "text/plain": [
       "<Figure size 432x288 with 1 Axes>"
      ]
     },
     "metadata": {
      "needs_background": "light"
     },
     "output_type": "display_data"
    }
   ],
   "source": [
    "calculate_center_of_mass(tf.reshape(tf.constant(best.iloc[:, :29].to_numpy(), dtype=\"float32\"), (29,)), show_plots=True)"
   ]
  },
  {
   "cell_type": "code",
   "execution_count": 83,
   "id": "a4cbe758-e71c-42f4-9614-195e84692d15",
   "metadata": {},
   "outputs": [
    {
     "data": {
      "text/plain": [
       "<tf.Tensor: shape=(29,), dtype=float32, numpy=\n",
       "array([41.61702  , 37.77215  , 10.352745 , 21.651165 ,  5.6766787,\n",
       "       25.11027  , 16.478386 , 10.853578 ,  5.301185 , 12.53807  ,\n",
       "        6.0658455, 37.686214 , 23.470785 , 28.084785 ,  7.2224836,\n",
       "        8.880968 , 36.369125 , 19.71199  , 22.850271 , 20.796696 ,\n",
       "       20.230223 , 22.006504 , 16.216133 , 23.267712 , 21.76094  ,\n",
       "       23.108746 , 22.178432 , 18.204014 , 20.025913 ], dtype=float32)>"
      ]
     },
     "execution_count": 83,
     "metadata": {},
     "output_type": "execute_result"
    }
   ],
   "source": [
    "tf.reshape(tf.constant(best.iloc[:, :29].to_numpy(), dtype=\"float32\"), (29,))"
   ]
  },
  {
   "cell_type": "code",
   "execution_count": 85,
   "id": "a7ea914a-6ec1-4e06-ba0b-c2adda2b4af4",
   "metadata": {},
   "outputs": [
    {
     "data": {
      "text/plain": [
       "<tf.Tensor: shape=(), dtype=float32, numpy=0.7844752>"
      ]
     },
     "execution_count": 85,
     "metadata": {},
     "output_type": "execute_result"
    },
    {
     "data": {
      "image/png": "[encoded data removed]",
      "text/plain": [
       "<Figure size 504x504 with 1 Axes>"
      ]
     },
     "metadata": {
      "needs_background": "light"
     },
     "output_type": "display_data"
    },
    {
     "data": {
      "image/png": "[encoded data removed]",
      "text/plain": [
       "<Figure size 504x504 with 1 Axes>"
      ]
     },
     "metadata": {
      "needs_background": "light"
     },
     "output_type": "display_data"
    }
   ],
   "source": [
    "evaluate_efficiency(tf.reshape(tf.constant(best.iloc[:, :29].to_numpy(), dtype=\"float32\"), (29,)), t, True)"
   ]
  },
  {
   "cell_type": "code",
   "execution_count": 86,
   "id": "af63bbad-bf3c-4b34-b35b-6e1b5930b1ee",
   "metadata": {},
   "outputs": [],
   "source": [
    "full_df.to_csv(\"full_df.csv\", index=False, header=False)"
   ]
  },
  {
   "cell_type": "code",
   "execution_count": 3,
   "id": "549fbc7b-1f1e-4f10-8d50-cd98cd5565b7",
   "metadata": {},
   "outputs": [],
   "source": [
    "full_df = pd.read_csv(\"full_df.csv\", header=None)"
   ]
  },
  {
   "cell_type": "code",
   "execution_count": 6,
   "id": "01f14404-7e37-4a00-a232-7bd339e33981",
   "metadata": {},
   "outputs": [
    {
     "data": {
      "text/html": [
       "<div>\n",
       "<style scoped>\n",
       "    .dataframe tbody tr th:only-of-type {\n",
       "        vertical-align: middle;\n",
       "    }\n",
       "\n",
       "    .dataframe tbody tr th {\n",
       "        vertical-align: top;\n",
       "    }\n",
       "\n",
       "    .dataframe thead th {\n",
       "        text-align: right;\n",
       "    }\n",
       "</style>\n",
       "<table border=\"1\" class=\"dataframe\">\n",
       "  <thead>\n",
       "    <tr style=\"text-align: right;\">\n",
       "      <th></th>\n",
       "      <th>0</th>\n",
       "      <th>1</th>\n",
       "      <th>2</th>\n",
       "      <th>3</th>\n",
       "      <th>4</th>\n",
       "      <th>5</th>\n",
       "      <th>6</th>\n",
       "      <th>7</th>\n",
       "      <th>8</th>\n",
       "      <th>9</th>\n",
       "      <th>...</th>\n",
       "      <th>20</th>\n",
       "      <th>21</th>\n",
       "      <th>22</th>\n",
       "      <th>23</th>\n",
       "      <th>24</th>\n",
       "      <th>25</th>\n",
       "      <th>26</th>\n",
       "      <th>27</th>\n",
       "      <th>28</th>\n",
       "      <th>29</th>\n",
       "    </tr>\n",
       "  </thead>\n",
       "  <tbody>\n",
       "    <tr>\n",
       "      <th>count</th>\n",
       "      <td>62364.000000</td>\n",
       "      <td>62364.000000</td>\n",
       "      <td>62364.000000</td>\n",
       "      <td>62364.000000</td>\n",
       "      <td>62364.000000</td>\n",
       "      <td>62364.000000</td>\n",
       "      <td>62364.000000</td>\n",
       "      <td>62364.000000</td>\n",
       "      <td>62364.000000</td>\n",
       "      <td>62364.000000</td>\n",
       "      <td>...</td>\n",
       "      <td>62364.000000</td>\n",
       "      <td>62364.000000</td>\n",
       "      <td>62364.000000</td>\n",
       "      <td>62364.000000</td>\n",
       "      <td>62364.000000</td>\n",
       "      <td>62364.000000</td>\n",
       "      <td>62364.000000</td>\n",
       "      <td>62364.000000</td>\n",
       "      <td>62364.000000</td>\n",
       "      <td>6.236400e+04</td>\n",
       "    </tr>\n",
       "    <tr>\n",
       "      <th>mean</th>\n",
       "      <td>25.400311</td>\n",
       "      <td>25.453717</td>\n",
       "      <td>25.396961</td>\n",
       "      <td>25.452527</td>\n",
       "      <td>25.447544</td>\n",
       "      <td>27.494896</td>\n",
       "      <td>25.808743</td>\n",
       "      <td>25.872559</td>\n",
       "      <td>25.926155</td>\n",
       "      <td>25.819324</td>\n",
       "      <td>...</td>\n",
       "      <td>20.007233</td>\n",
       "      <td>20.035347</td>\n",
       "      <td>20.324825</td>\n",
       "      <td>20.003963</td>\n",
       "      <td>20.017181</td>\n",
       "      <td>20.005974</td>\n",
       "      <td>20.017858</td>\n",
       "      <td>20.026327</td>\n",
       "      <td>20.334232</td>\n",
       "      <td>5.111463e-01</td>\n",
       "    </tr>\n",
       "    <tr>\n",
       "      <th>std</th>\n",
       "      <td>12.780554</td>\n",
       "      <td>12.800172</td>\n",
       "      <td>12.791444</td>\n",
       "      <td>12.758855</td>\n",
       "      <td>12.769628</td>\n",
       "      <td>13.020563</td>\n",
       "      <td>12.819280</td>\n",
       "      <td>12.835393</td>\n",
       "      <td>12.831937</td>\n",
       "      <td>12.817533</td>\n",
       "      <td>...</td>\n",
       "      <td>2.303390</td>\n",
       "      <td>2.283654</td>\n",
       "      <td>2.256710</td>\n",
       "      <td>2.309544</td>\n",
       "      <td>2.317694</td>\n",
       "      <td>2.316451</td>\n",
       "      <td>2.303041</td>\n",
       "      <td>2.286688</td>\n",
       "      <td>2.252501</td>\n",
       "      <td>6.772165e-02</td>\n",
       "    </tr>\n",
       "    <tr>\n",
       "      <th>min</th>\n",
       "      <td>5.000515</td>\n",
       "      <td>5.000317</td>\n",
       "      <td>5.000327</td>\n",
       "      <td>5.000982</td>\n",
       "      <td>5.000021</td>\n",
       "      <td>5.000370</td>\n",
       "      <td>5.000172</td>\n",
       "      <td>5.000966</td>\n",
       "      <td>5.000360</td>\n",
       "      <td>5.000568</td>\n",
       "      <td>...</td>\n",
       "      <td>16.000084</td>\n",
       "      <td>16.000238</td>\n",
       "      <td>16.000065</td>\n",
       "      <td>16.000114</td>\n",
       "      <td>16.000000</td>\n",
       "      <td>16.000100</td>\n",
       "      <td>16.000030</td>\n",
       "      <td>16.000072</td>\n",
       "      <td>16.000126</td>\n",
       "      <td>1.565178e-08</td>\n",
       "    </tr>\n",
       "    <tr>\n",
       "      <th>25%</th>\n",
       "      <td>14.277977</td>\n",
       "      <td>14.364701</td>\n",
       "      <td>14.222075</td>\n",
       "      <td>14.344979</td>\n",
       "      <td>14.369988</td>\n",
       "      <td>16.207468</td>\n",
       "      <td>14.647534</td>\n",
       "      <td>14.702544</td>\n",
       "      <td>14.712956</td>\n",
       "      <td>14.674438</td>\n",
       "      <td>...</td>\n",
       "      <td>18.017013</td>\n",
       "      <td>18.080188</td>\n",
       "      <td>18.458934</td>\n",
       "      <td>17.997635</td>\n",
       "      <td>17.995074</td>\n",
       "      <td>17.997494</td>\n",
       "      <td>18.025174</td>\n",
       "      <td>18.066345</td>\n",
       "      <td>18.477078</td>\n",
       "      <td>4.812423e-01</td>\n",
       "    </tr>\n",
       "    <tr>\n",
       "      <th>50%</th>\n",
       "      <td>24.434613</td>\n",
       "      <td>24.533262</td>\n",
       "      <td>24.360536</td>\n",
       "      <td>24.520503</td>\n",
       "      <td>24.430065</td>\n",
       "      <td>27.479076</td>\n",
       "      <td>25.063921</td>\n",
       "      <td>25.045355</td>\n",
       "      <td>25.198195</td>\n",
       "      <td>25.023787</td>\n",
       "      <td>...</td>\n",
       "      <td>20.002737</td>\n",
       "      <td>20.037742</td>\n",
       "      <td>20.454145</td>\n",
       "      <td>20.007626</td>\n",
       "      <td>20.026952</td>\n",
       "      <td>20.006498</td>\n",
       "      <td>20.023398</td>\n",
       "      <td>20.025013</td>\n",
       "      <td>20.483981</td>\n",
       "      <td>5.117821e-01</td>\n",
       "    </tr>\n",
       "    <tr>\n",
       "      <th>75%</th>\n",
       "      <td>35.985794</td>\n",
       "      <td>36.055445</td>\n",
       "      <td>36.049779</td>\n",
       "      <td>36.039434</td>\n",
       "      <td>36.076413</td>\n",
       "      <td>38.783558</td>\n",
       "      <td>36.492987</td>\n",
       "      <td>36.616639</td>\n",
       "      <td>36.708900</td>\n",
       "      <td>36.627257</td>\n",
       "      <td>...</td>\n",
       "      <td>22.005584</td>\n",
       "      <td>22.010333</td>\n",
       "      <td>22.277680</td>\n",
       "      <td>22.019618</td>\n",
       "      <td>22.032996</td>\n",
       "      <td>22.012519</td>\n",
       "      <td>22.008905</td>\n",
       "      <td>21.998136</td>\n",
       "      <td>22.281278</td>\n",
       "      <td>5.455824e-01</td>\n",
       "    </tr>\n",
       "    <tr>\n",
       "      <th>max</th>\n",
       "      <td>49.995995</td>\n",
       "      <td>49.999706</td>\n",
       "      <td>49.998630</td>\n",
       "      <td>49.999737</td>\n",
       "      <td>49.999886</td>\n",
       "      <td>49.999897</td>\n",
       "      <td>49.997826</td>\n",
       "      <td>49.999725</td>\n",
       "      <td>49.999780</td>\n",
       "      <td>49.997124</td>\n",
       "      <td>...</td>\n",
       "      <td>23.999933</td>\n",
       "      <td>24.000000</td>\n",
       "      <td>23.999980</td>\n",
       "      <td>23.999680</td>\n",
       "      <td>23.999931</td>\n",
       "      <td>23.999924</td>\n",
       "      <td>23.999886</td>\n",
       "      <td>23.999989</td>\n",
       "      <td>23.999952</td>\n",
       "      <td>7.844752e-01</td>\n",
       "    </tr>\n",
       "  </tbody>\n",
       "</table>\n",
       "<p>8 rows × 30 columns</p>\n",
       "</div>"
      ],
      "text/plain": [
       "                 0             1             2             3             4   \\\n",
       "count  62364.000000  62364.000000  62364.000000  62364.000000  62364.000000   \n",
       "mean      25.400311     25.453717     25.396961     25.452527     25.447544   \n",
       "std       12.780554     12.800172     12.791444     12.758855     12.769628   \n",
       "min        5.000515      5.000317      5.000327      5.000982      5.000021   \n",
       "25%       14.277977     14.364701     14.222075     14.344979     14.369988   \n",
       "50%       24.434613     24.533262     24.360536     24.520503     24.430065   \n",
       "75%       35.985794     36.055445     36.049779     36.039434     36.076413   \n",
       "max       49.995995     49.999706     49.998630     49.999737     49.999886   \n",
       "\n",
       "                 5             6             7             8             9   \\\n",
       "count  62364.000000  62364.000000  62364.000000  62364.000000  62364.000000   \n",
       "mean      27.494896     25.808743     25.872559     25.926155     25.819324   \n",
       "std       13.020563     12.819280     12.835393     12.831937     12.817533   \n",
       "min        5.000370      5.000172      5.000966      5.000360      5.000568   \n",
       "25%       16.207468     14.647534     14.702544     14.712956     14.674438   \n",
       "50%       27.479076     25.063921     25.045355     25.198195     25.023787   \n",
       "75%       38.783558     36.492987     36.616639     36.708900     36.627257   \n",
       "max       49.999897     49.997826     49.999725     49.999780     49.997124   \n",
       "\n",
       "       ...            20            21            22            23  \\\n",
       "count  ...  62364.000000  62364.000000  62364.000000  62364.000000   \n",
       "mean   ...     20.007233     20.035347     20.324825     20.003963   \n",
       "std    ...      2.303390      2.283654      2.256710      2.309544   \n",
       "min    ...     16.000084     16.000238     16.000065     16.000114   \n",
       "25%    ...     18.017013     18.080188     18.458934     17.997635   \n",
       "50%    ...     20.002737     20.037742     20.454145     20.007626   \n",
       "75%    ...     22.005584     22.010333     22.277680     22.019618   \n",
       "max    ...     23.999933     24.000000     23.999980     23.999680   \n",
       "\n",
       "                 24            25            26            27            28  \\\n",
       "count  62364.000000  62364.000000  62364.000000  62364.000000  62364.000000   \n",
       "mean      20.017181     20.005974     20.017858     20.026327     20.334232   \n",
       "std        2.317694      2.316451      2.303041      2.286688      2.252501   \n",
       "min       16.000000     16.000100     16.000030     16.000072     16.000126   \n",
       "25%       17.995074     17.997494     18.025174     18.066345     18.477078   \n",
       "50%       20.026952     20.006498     20.023398     20.025013     20.483981   \n",
       "75%       22.032996     22.012519     22.008905     21.998136     22.281278   \n",
       "max       23.999931     23.999924     23.999886     23.999989     23.999952   \n",
       "\n",
       "                 29  \n",
       "count  6.236400e+04  \n",
       "mean   5.111463e-01  \n",
       "std    6.772165e-02  \n",
       "min    1.565178e-08  \n",
       "25%    4.812423e-01  \n",
       "50%    5.117821e-01  \n",
       "75%    5.455824e-01  \n",
       "max    7.844752e-01  \n",
       "\n",
       "[8 rows x 30 columns]"
      ]
     },
     "execution_count": 6,
     "metadata": {},
     "output_type": "execute_result"
    }
   ],
   "source": [
    "full_df.describe()"
   ]
  },
  {
   "cell_type": "code",
   "execution_count": null,
   "id": "60df581a-8add-4d12-9b0c-05cef89e72ea",
   "metadata": {},
   "outputs": [],
   "source": []
  }
 ],
 "metadata": {
  "kernelspec": {
   "display_name": "Python 3 (ipykernel)",
   "language": "python",
   "name": "python3"
  },
  "language_info": {
   "codemirror_mode": {
    "name": "ipython",
    "version": 3
   },
   "file_extension": ".py",
   "mimetype": "text/x-python",
   "name": "python",
   "nbconvert_exporter": "python",
   "pygments_lexer": "ipython3",
   "version": "3.9.13"
  }
 },
 "nbformat": 4,
 "nbformat_minor": 5
}
