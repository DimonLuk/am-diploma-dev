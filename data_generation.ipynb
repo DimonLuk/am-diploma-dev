{
 "cells": [
  {
   "cell_type": "code",
   "execution_count": 1,
   "id": "28331e42-d392-4e96-a270-8900c7b0dc0b",
   "metadata": {},
   "outputs": [
    {
     "data": {
      "image/png": "[encoded data removed]",
      "text/plain": [
       "<Figure size 792x576 with 1 Axes>"
      ]
     },
     "metadata": {
      "needs_background": "light"
     },
     "output_type": "display_data"
    }
   ],
   "source": [
    "%run 3phase_pm_engine_simulation.ipynb"
   ]
  },
  {
   "cell_type": "code",
   "execution_count": 2,
   "id": "dd4b1fb6-f485-4127-b9fb-c750e0d90700",
   "metadata": {},
   "outputs": [],
   "source": [
    "from tqdm.notebook import trange\n",
    "import pandas as pd"
   ]
  },
  {
   "cell_type": "code",
   "execution_count": 3,
   "id": "67771026-deff-4f61-b4de-c908745c5533",
   "metadata": {},
   "outputs": [],
   "source": [
    "possible_densities = tf.random.uniform((1_000_000, 16), minval=5, maxval=50, dtype=\"float32\", seed=42)\n",
    "parameters = tf.random.uniform((1_000_000, 12), minval=16, maxval=24, dtype=\"float32\", seed=42)"
   ]
  },
  {
   "cell_type": "code",
   "execution_count": 4,
   "id": "56bd6069-5d03-43e9-8ff9-13002098fb69",
   "metadata": {},
   "outputs": [],
   "source": [
    "parameters = tf.concat([possible_densities, parameters], axis=1)"
   ]
  },
  {
   "cell_type": "code",
   "execution_count": 5,
   "id": "df309322-6bf0-4643-a1f1-b3b703d723ad",
   "metadata": {
    "scrolled": true,
    "tags": []
   },
   "outputs": [
    {
     "data": {
      "application/vnd.jupyter.widget-view+json": {
       "model_id": "6b53311276a14a9786a91cdea31a486b",
       "version_major": 2,
       "version_minor": 0
      },
      "text/plain": [
       "  0%|          | 0/1000000 [00:00<?, ?it/s]"
      ]
     },
     "metadata": {},
     "output_type": "display_data"
    },
    {
     "ename": "KeyboardInterrupt",
     "evalue": "",
     "output_type": "error",
     "traceback": [
      "\u001b[0;31m---------------------------------------------------------------------------\u001b[0m",
      "\u001b[0;31mKeyboardInterrupt\u001b[0m                         Traceback (most recent call last)",
      "Input \u001b[0;32mIn [5]\u001b[0m, in \u001b[0;36m<cell line: 2>\u001b[0;34m()\u001b[0m\n\u001b[1;32m      1\u001b[0m good_params \u001b[38;5;241m=\u001b[39m []\n\u001b[1;32m      2\u001b[0m \u001b[38;5;28;01mfor\u001b[39;00m index \u001b[38;5;129;01min\u001b[39;00m trange(parameters\u001b[38;5;241m.\u001b[39mshape[\u001b[38;5;241m0\u001b[39m]):\n\u001b[0;32m----> 3\u001b[0m     _, mass \u001b[38;5;241m=\u001b[39m \u001b[43mcalculate_center_of_mass\u001b[49m\u001b[43m(\u001b[49m\u001b[43mparameters\u001b[49m\u001b[43m[\u001b[49m\u001b[43mindex\u001b[49m\u001b[43m]\u001b[49m\u001b[43m)\u001b[49m\n\u001b[1;32m      4\u001b[0m     \u001b[38;5;28;01mif\u001b[39;00m \u001b[38;5;241m4\u001b[39m \u001b[38;5;241m<\u001b[39m\u001b[38;5;241m=\u001b[39m mass \u001b[38;5;241m<\u001b[39m\u001b[38;5;241m=\u001b[39m \u001b[38;5;241m8\u001b[39m:\n\u001b[1;32m      5\u001b[0m         good_params\u001b[38;5;241m.\u001b[39mappend(parameters[index]\u001b[38;5;241m.\u001b[39mnumpy())\n",
      "File \u001b[0;32m/tmp/ipykernel_4651/1625372893.py:12\u001b[0m, in \u001b[0;36mcalculate_center_of_mass\u001b[0;34m(parameters, show_plots)\u001b[0m\n\u001b[1;32m      1\u001b[0m \u001b[38;5;28;01mdef\u001b[39;00m \u001b[38;5;21mcalculate_center_of_mass\u001b[39m(parameters, show_plots\u001b[38;5;241m=\u001b[39m\u001b[38;5;28;01mFalse\u001b[39;00m):\n\u001b[1;32m      2\u001b[0m     vertical_bar \u001b[38;5;241m=\u001b[39m tf\u001b[38;5;241m.\u001b[39mconstant(\n\u001b[1;32m      3\u001b[0m         [\n\u001b[1;32m      4\u001b[0m             [\u001b[38;5;241m0\u001b[39m] \u001b[38;5;241m*\u001b[39m \u001b[38;5;241m6\u001b[39m,\n\u001b[0;32m   (...)\u001b[0m\n\u001b[1;32m      7\u001b[0m         dtype\u001b[38;5;241m=\u001b[39m\u001b[38;5;124m\"\u001b[39m\u001b[38;5;124mfloat32\u001b[39m\u001b[38;5;124m\"\u001b[39m,\n\u001b[1;32m      8\u001b[0m     )\n\u001b[1;32m      9\u001b[0m     horizontal_bar \u001b[38;5;241m=\u001b[39m tf\u001b[38;5;241m.\u001b[39mconstant(\n\u001b[1;32m     10\u001b[0m         [\n\u001b[1;32m     11\u001b[0m             [\u001b[38;5;241m0.107\u001b[39m\u001b[38;5;241m*\u001b[39mtf\u001b[38;5;241m.\u001b[39mcos(tf\u001b[38;5;241m.\u001b[39mconstant(pi\u001b[38;5;241m/\u001b[39m\u001b[38;5;241m2\u001b[39m \u001b[38;5;241m+\u001b[39m (pi\u001b[38;5;241m/\u001b[39mparameters[i \u001b[38;5;241m+\u001b[39m \u001b[38;5;241m16\u001b[39m])\u001b[38;5;241m*\u001b[39mi))\u001b[38;5;241m.\u001b[39mnumpy() \u001b[38;5;28;01mfor\u001b[39;00m i \u001b[38;5;129;01min\u001b[39;00m \u001b[38;5;28mrange\u001b[39m(\u001b[38;5;241m6\u001b[39m)] \u001b[38;5;241m+\u001b[39m [\u001b[38;5;241m0.107\u001b[39m\u001b[38;5;241m*\u001b[39mtf\u001b[38;5;241m.\u001b[39mcos(tf\u001b[38;5;241m.\u001b[39mconstant(pi\u001b[38;5;241m/\u001b[39m\u001b[38;5;241m2\u001b[39m \u001b[38;5;241m-\u001b[39m (pi\u001b[38;5;241m/\u001b[39mparameters[i \u001b[38;5;241m+\u001b[39m \u001b[38;5;241m22\u001b[39m])\u001b[38;5;241m*\u001b[39mi))\u001b[38;5;241m.\u001b[39mnumpy() \u001b[38;5;28;01mfor\u001b[39;00m i \u001b[38;5;129;01min\u001b[39;00m \u001b[38;5;28mrange\u001b[39m(\u001b[38;5;241m6\u001b[39m)],\n\u001b[0;32m---> 12\u001b[0m             [\u001b[38;5;241m0.107\u001b[39m\u001b[38;5;241m*\u001b[39mtf\u001b[38;5;241m.\u001b[39msin(tf\u001b[38;5;241m.\u001b[39mconstant(pi\u001b[38;5;241m/\u001b[39m\u001b[38;5;241m2\u001b[39m \u001b[38;5;241m+\u001b[39m (pi\u001b[38;5;241m/\u001b[39mparameters[i \u001b[38;5;241m+\u001b[39m \u001b[38;5;241m16\u001b[39m])\u001b[38;5;241m*\u001b[39mi))\u001b[38;5;241m.\u001b[39mnumpy() \u001b[38;5;28;01mfor\u001b[39;00m i \u001b[38;5;129;01min\u001b[39;00m \u001b[38;5;28mrange\u001b[39m(\u001b[38;5;241m6\u001b[39m)] \u001b[38;5;241m+\u001b[39m [\u001b[38;5;241m0.107\u001b[39m\u001b[38;5;241m*\u001b[39mtf\u001b[38;5;241m.\u001b[39msin(tf\u001b[38;5;241m.\u001b[39mconstant(pi\u001b[38;5;241m/\u001b[39m\u001b[38;5;241m2\u001b[39m \u001b[38;5;241m-\u001b[39m (pi\u001b[38;5;241m/\u001b[39mparameters[i \u001b[38;5;241m+\u001b[39m \u001b[38;5;241m22\u001b[39m])\u001b[38;5;241m*\u001b[39mi))\u001b[38;5;241m.\u001b[39mnumpy() \u001b[38;5;28;01mfor\u001b[39;00m i \u001b[38;5;129;01min\u001b[39;00m \u001b[38;5;28mrange\u001b[39m(\u001b[38;5;241m6\u001b[39m)],\n\u001b[1;32m     13\u001b[0m         ],\n\u001b[1;32m     14\u001b[0m         dtype\u001b[38;5;241m=\u001b[39m\u001b[38;5;124m\"\u001b[39m\u001b[38;5;124mfloat32\u001b[39m\u001b[38;5;124m\"\u001b[39m\n\u001b[1;32m     15\u001b[0m     )\n\u001b[1;32m     16\u001b[0m     v_centers \u001b[38;5;241m=\u001b[39m (vertical_bar[:, \u001b[38;5;241m1\u001b[39m:] \u001b[38;5;241m+\u001b[39m vertical_bar[:, :\u001b[38;5;241m-\u001b[39m\u001b[38;5;241m1\u001b[39m])\u001b[38;5;241m/\u001b[39m\u001b[38;5;241m2\u001b[39m\n\u001b[1;32m     17\u001b[0m     v_masses \u001b[38;5;241m=\u001b[39m tf\u001b[38;5;241m.\u001b[39msqrt(tf\u001b[38;5;241m.\u001b[39mreduce_sum((vertical_bar[:, \u001b[38;5;241m1\u001b[39m:] \u001b[38;5;241m-\u001b[39m vertical_bar[:, :\u001b[38;5;241m-\u001b[39m\u001b[38;5;241m1\u001b[39m])\u001b[38;5;241m*\u001b[39m\u001b[38;5;241m*\u001b[39m\u001b[38;5;241m2\u001b[39m, axis\u001b[38;5;241m=\u001b[39m\u001b[38;5;241m0\u001b[39m)) \u001b[38;5;241m*\u001b[39m parameters[:\u001b[38;5;241m5\u001b[39m]\n",
      "File \u001b[0;32m/tmp/ipykernel_4651/1625372893.py:12\u001b[0m, in \u001b[0;36m<listcomp>\u001b[0;34m(.0)\u001b[0m\n\u001b[1;32m      1\u001b[0m \u001b[38;5;28;01mdef\u001b[39;00m \u001b[38;5;21mcalculate_center_of_mass\u001b[39m(parameters, show_plots\u001b[38;5;241m=\u001b[39m\u001b[38;5;28;01mFalse\u001b[39;00m):\n\u001b[1;32m      2\u001b[0m     vertical_bar \u001b[38;5;241m=\u001b[39m tf\u001b[38;5;241m.\u001b[39mconstant(\n\u001b[1;32m      3\u001b[0m         [\n\u001b[1;32m      4\u001b[0m             [\u001b[38;5;241m0\u001b[39m] \u001b[38;5;241m*\u001b[39m \u001b[38;5;241m6\u001b[39m,\n\u001b[0;32m   (...)\u001b[0m\n\u001b[1;32m      7\u001b[0m         dtype\u001b[38;5;241m=\u001b[39m\u001b[38;5;124m\"\u001b[39m\u001b[38;5;124mfloat32\u001b[39m\u001b[38;5;124m\"\u001b[39m,\n\u001b[1;32m      8\u001b[0m     )\n\u001b[1;32m      9\u001b[0m     horizontal_bar \u001b[38;5;241m=\u001b[39m tf\u001b[38;5;241m.\u001b[39mconstant(\n\u001b[1;32m     10\u001b[0m         [\n\u001b[1;32m     11\u001b[0m             [\u001b[38;5;241m0.107\u001b[39m\u001b[38;5;241m*\u001b[39mtf\u001b[38;5;241m.\u001b[39mcos(tf\u001b[38;5;241m.\u001b[39mconstant(pi\u001b[38;5;241m/\u001b[39m\u001b[38;5;241m2\u001b[39m \u001b[38;5;241m+\u001b[39m (pi\u001b[38;5;241m/\u001b[39mparameters[i \u001b[38;5;241m+\u001b[39m \u001b[38;5;241m16\u001b[39m])\u001b[38;5;241m*\u001b[39mi))\u001b[38;5;241m.\u001b[39mnumpy() \u001b[38;5;28;01mfor\u001b[39;00m i \u001b[38;5;129;01min\u001b[39;00m \u001b[38;5;28mrange\u001b[39m(\u001b[38;5;241m6\u001b[39m)] \u001b[38;5;241m+\u001b[39m [\u001b[38;5;241m0.107\u001b[39m\u001b[38;5;241m*\u001b[39mtf\u001b[38;5;241m.\u001b[39mcos(tf\u001b[38;5;241m.\u001b[39mconstant(pi\u001b[38;5;241m/\u001b[39m\u001b[38;5;241m2\u001b[39m \u001b[38;5;241m-\u001b[39m (pi\u001b[38;5;241m/\u001b[39mparameters[i \u001b[38;5;241m+\u001b[39m \u001b[38;5;241m22\u001b[39m])\u001b[38;5;241m*\u001b[39mi))\u001b[38;5;241m.\u001b[39mnumpy() \u001b[38;5;28;01mfor\u001b[39;00m i \u001b[38;5;129;01min\u001b[39;00m \u001b[38;5;28mrange\u001b[39m(\u001b[38;5;241m6\u001b[39m)],\n\u001b[0;32m---> 12\u001b[0m             [\u001b[38;5;241m0.107\u001b[39m\u001b[38;5;241m*\u001b[39mtf\u001b[38;5;241m.\u001b[39msin(tf\u001b[38;5;241m.\u001b[39mconstant(pi\u001b[38;5;241m/\u001b[39m\u001b[38;5;241m2\u001b[39m \u001b[38;5;241m+\u001b[39m (pi\u001b[38;5;241m/\u001b[39mparameters[i \u001b[38;5;241m+\u001b[39m \u001b[38;5;241m16\u001b[39m])\u001b[38;5;241m*\u001b[39mi))\u001b[38;5;241m.\u001b[39mnumpy() \u001b[38;5;28;01mfor\u001b[39;00m i \u001b[38;5;129;01min\u001b[39;00m \u001b[38;5;28mrange\u001b[39m(\u001b[38;5;241m6\u001b[39m)] \u001b[38;5;241m+\u001b[39m [\u001b[38;5;241m0.107\u001b[39m\u001b[38;5;241m*\u001b[39mtf\u001b[38;5;241m.\u001b[39msin(tf\u001b[38;5;241m.\u001b[39mconstant(pi\u001b[38;5;241m/\u001b[39m\u001b[38;5;241m2\u001b[39m \u001b[38;5;241m-\u001b[39m (pi\u001b[38;5;241m/\u001b[39mparameters[i \u001b[38;5;241m+\u001b[39m \u001b[38;5;241m22\u001b[39m])\u001b[38;5;241m*\u001b[39mi))\u001b[38;5;241m.\u001b[39mnumpy() \u001b[38;5;28;01mfor\u001b[39;00m i \u001b[38;5;129;01min\u001b[39;00m \u001b[38;5;28mrange\u001b[39m(\u001b[38;5;241m6\u001b[39m)],\n\u001b[1;32m     13\u001b[0m         ],\n\u001b[1;32m     14\u001b[0m         dtype\u001b[38;5;241m=\u001b[39m\u001b[38;5;124m\"\u001b[39m\u001b[38;5;124mfloat32\u001b[39m\u001b[38;5;124m\"\u001b[39m\n\u001b[1;32m     15\u001b[0m     )\n\u001b[1;32m     16\u001b[0m     v_centers \u001b[38;5;241m=\u001b[39m (vertical_bar[:, \u001b[38;5;241m1\u001b[39m:] \u001b[38;5;241m+\u001b[39m vertical_bar[:, :\u001b[38;5;241m-\u001b[39m\u001b[38;5;241m1\u001b[39m])\u001b[38;5;241m/\u001b[39m\u001b[38;5;241m2\u001b[39m\n\u001b[1;32m     17\u001b[0m     v_masses \u001b[38;5;241m=\u001b[39m tf\u001b[38;5;241m.\u001b[39msqrt(tf\u001b[38;5;241m.\u001b[39mreduce_sum((vertical_bar[:, \u001b[38;5;241m1\u001b[39m:] \u001b[38;5;241m-\u001b[39m vertical_bar[:, :\u001b[38;5;241m-\u001b[39m\u001b[38;5;241m1\u001b[39m])\u001b[38;5;241m*\u001b[39m\u001b[38;5;241m*\u001b[39m\u001b[38;5;241m2\u001b[39m, axis\u001b[38;5;241m=\u001b[39m\u001b[38;5;241m0\u001b[39m)) \u001b[38;5;241m*\u001b[39m parameters[:\u001b[38;5;241m5\u001b[39m]\n",
      "File \u001b[0;32m/usr/local/lib/python3.9/dist-packages/tensorflow/python/util/traceback_utils.py:150\u001b[0m, in \u001b[0;36mfilter_traceback.<locals>.error_handler\u001b[0;34m(*args, **kwargs)\u001b[0m\n\u001b[1;32m    148\u001b[0m filtered_tb \u001b[38;5;241m=\u001b[39m \u001b[38;5;28;01mNone\u001b[39;00m\n\u001b[1;32m    149\u001b[0m \u001b[38;5;28;01mtry\u001b[39;00m:\n\u001b[0;32m--> 150\u001b[0m   \u001b[38;5;28;01mreturn\u001b[39;00m \u001b[43mfn\u001b[49m\u001b[43m(\u001b[49m\u001b[38;5;241;43m*\u001b[39;49m\u001b[43margs\u001b[49m\u001b[43m,\u001b[49m\u001b[43m \u001b[49m\u001b[38;5;241;43m*\u001b[39;49m\u001b[38;5;241;43m*\u001b[39;49m\u001b[43mkwargs\u001b[49m\u001b[43m)\u001b[49m\n\u001b[1;32m    151\u001b[0m \u001b[38;5;28;01mexcept\u001b[39;00m \u001b[38;5;167;01mException\u001b[39;00m \u001b[38;5;28;01mas\u001b[39;00m e:\n\u001b[1;32m    152\u001b[0m   filtered_tb \u001b[38;5;241m=\u001b[39m _process_traceback_frames(e\u001b[38;5;241m.\u001b[39m__traceback__)\n",
      "File \u001b[0;32m/usr/local/lib/python3.9/dist-packages/tensorflow/python/ops/math_ops.py:1406\u001b[0m, in \u001b[0;36m_OverrideBinaryOperatorHelper.<locals>.binary_op_wrapper\u001b[0;34m(x, y)\u001b[0m\n\u001b[1;32m   1401\u001b[0m \u001b[38;5;28;01mtry\u001b[39;00m:\n\u001b[1;32m   1402\u001b[0m   \u001b[38;5;66;03m# force_same_dtype=False to preserve existing TF behavior\u001b[39;00m\n\u001b[1;32m   1403\u001b[0m   \u001b[38;5;66;03m# TODO(b/178860388): Figure out why binary_op_wrapper and\u001b[39;00m\n\u001b[1;32m   1404\u001b[0m   \u001b[38;5;66;03m#   r_binary_op_wrapper use different force_same_dtype values.\u001b[39;00m\n\u001b[1;32m   1405\u001b[0m   x, y \u001b[38;5;241m=\u001b[39m maybe_promote_tensors(x, y)\n\u001b[0;32m-> 1406\u001b[0m   \u001b[38;5;28;01mreturn\u001b[39;00m \u001b[43mfunc\u001b[49m\u001b[43m(\u001b[49m\u001b[43mx\u001b[49m\u001b[43m,\u001b[49m\u001b[43m \u001b[49m\u001b[43my\u001b[49m\u001b[43m,\u001b[49m\u001b[43m \u001b[49m\u001b[43mname\u001b[49m\u001b[38;5;241;43m=\u001b[39;49m\u001b[43mname\u001b[49m\u001b[43m)\u001b[49m\n\u001b[1;32m   1407\u001b[0m \u001b[38;5;28;01mexcept\u001b[39;00m (\u001b[38;5;167;01mTypeError\u001b[39;00m, \u001b[38;5;167;01mValueError\u001b[39;00m) \u001b[38;5;28;01mas\u001b[39;00m e:\n\u001b[1;32m   1408\u001b[0m   \u001b[38;5;66;03m# Even if dispatching the op failed, the RHS may be a tensor aware\u001b[39;00m\n\u001b[1;32m   1409\u001b[0m   \u001b[38;5;66;03m# object that can implement the operator with knowledge of itself\u001b[39;00m\n\u001b[0;32m   (...)\u001b[0m\n\u001b[1;32m   1412\u001b[0m   \u001b[38;5;66;03m# original error from the LHS, because it may be more\u001b[39;00m\n\u001b[1;32m   1413\u001b[0m   \u001b[38;5;66;03m# informative.\u001b[39;00m\n\u001b[1;32m   1414\u001b[0m   \u001b[38;5;28;01mif\u001b[39;00m \u001b[38;5;28mhasattr\u001b[39m(\u001b[38;5;28mtype\u001b[39m(y), \u001b[38;5;124m\"\u001b[39m\u001b[38;5;124m__r\u001b[39m\u001b[38;5;132;01m%s\u001b[39;00m\u001b[38;5;124m__\u001b[39m\u001b[38;5;124m\"\u001b[39m \u001b[38;5;241m%\u001b[39m op_name):\n",
      "File \u001b[0;32m/usr/local/lib/python3.9/dist-packages/tensorflow/python/util/traceback_utils.py:150\u001b[0m, in \u001b[0;36mfilter_traceback.<locals>.error_handler\u001b[0;34m(*args, **kwargs)\u001b[0m\n\u001b[1;32m    148\u001b[0m filtered_tb \u001b[38;5;241m=\u001b[39m \u001b[38;5;28;01mNone\u001b[39;00m\n\u001b[1;32m    149\u001b[0m \u001b[38;5;28;01mtry\u001b[39;00m:\n\u001b[0;32m--> 150\u001b[0m   \u001b[38;5;28;01mreturn\u001b[39;00m \u001b[43mfn\u001b[49m\u001b[43m(\u001b[49m\u001b[38;5;241;43m*\u001b[39;49m\u001b[43margs\u001b[49m\u001b[43m,\u001b[49m\u001b[43m \u001b[49m\u001b[38;5;241;43m*\u001b[39;49m\u001b[38;5;241;43m*\u001b[39;49m\u001b[43mkwargs\u001b[49m\u001b[43m)\u001b[49m\n\u001b[1;32m    151\u001b[0m \u001b[38;5;28;01mexcept\u001b[39;00m \u001b[38;5;167;01mException\u001b[39;00m \u001b[38;5;28;01mas\u001b[39;00m e:\n\u001b[1;32m    152\u001b[0m   filtered_tb \u001b[38;5;241m=\u001b[39m _process_traceback_frames(e\u001b[38;5;241m.\u001b[39m__traceback__)\n",
      "File \u001b[0;32m/usr/local/lib/python3.9/dist-packages/tensorflow/python/util/dispatch.py:1082\u001b[0m, in \u001b[0;36madd_dispatch_support.<locals>.decorator.<locals>.op_dispatch_handler\u001b[0;34m(*args, **kwargs)\u001b[0m\n\u001b[1;32m   1080\u001b[0m \u001b[38;5;66;03m# Fallback dispatch system (dispatch v1):\u001b[39;00m\n\u001b[1;32m   1081\u001b[0m \u001b[38;5;28;01mtry\u001b[39;00m:\n\u001b[0;32m-> 1082\u001b[0m   \u001b[38;5;28;01mreturn\u001b[39;00m \u001b[43mdispatch_target\u001b[49m\u001b[43m(\u001b[49m\u001b[38;5;241;43m*\u001b[39;49m\u001b[43margs\u001b[49m\u001b[43m,\u001b[49m\u001b[43m \u001b[49m\u001b[38;5;241;43m*\u001b[39;49m\u001b[38;5;241;43m*\u001b[39;49m\u001b[43mkwargs\u001b[49m\u001b[43m)\u001b[49m\n\u001b[1;32m   1083\u001b[0m \u001b[38;5;28;01mexcept\u001b[39;00m (\u001b[38;5;167;01mTypeError\u001b[39;00m, \u001b[38;5;167;01mValueError\u001b[39;00m):\n\u001b[1;32m   1084\u001b[0m   \u001b[38;5;66;03m# Note: convert_to_eager_tensor currently raises a ValueError, not a\u001b[39;00m\n\u001b[1;32m   1085\u001b[0m   \u001b[38;5;66;03m# TypeError, when given unexpected types.  So we need to catch both.\u001b[39;00m\n\u001b[1;32m   1086\u001b[0m   result \u001b[38;5;241m=\u001b[39m dispatch(op_dispatch_handler, args, kwargs)\n",
      "File \u001b[0;32m/usr/local/lib/python3.9/dist-packages/tensorflow/python/ops/math_ops.py:548\u001b[0m, in \u001b[0;36msubtract\u001b[0;34m(x, y, name)\u001b[0m\n\u001b[1;32m    544\u001b[0m \u001b[38;5;129m@tf_export\u001b[39m(\u001b[38;5;124m\"\u001b[39m\u001b[38;5;124mmath.subtract\u001b[39m\u001b[38;5;124m\"\u001b[39m, \u001b[38;5;124m\"\u001b[39m\u001b[38;5;124msubtract\u001b[39m\u001b[38;5;124m\"\u001b[39m)\n\u001b[1;32m    545\u001b[0m \u001b[38;5;129m@dispatch\u001b[39m\u001b[38;5;241m.\u001b[39mregister_binary_elementwise_api\n\u001b[1;32m    546\u001b[0m \u001b[38;5;129m@dispatch\u001b[39m\u001b[38;5;241m.\u001b[39madd_dispatch_support\n\u001b[1;32m    547\u001b[0m \u001b[38;5;28;01mdef\u001b[39;00m \u001b[38;5;21msubtract\u001b[39m(x, y, name\u001b[38;5;241m=\u001b[39m\u001b[38;5;28;01mNone\u001b[39;00m):\n\u001b[0;32m--> 548\u001b[0m   \u001b[38;5;28;01mreturn\u001b[39;00m \u001b[43mgen_math_ops\u001b[49m\u001b[38;5;241;43m.\u001b[39;49m\u001b[43msub\u001b[49m\u001b[43m(\u001b[49m\u001b[43mx\u001b[49m\u001b[43m,\u001b[49m\u001b[43m \u001b[49m\u001b[43my\u001b[49m\u001b[43m,\u001b[49m\u001b[43m \u001b[49m\u001b[43mname\u001b[49m\u001b[43m)\u001b[49m\n",
      "File \u001b[0;32m/usr/local/lib/python3.9/dist-packages/tensorflow/python/ops/gen_math_ops.py:11162\u001b[0m, in \u001b[0;36msub\u001b[0;34m(x, y, name)\u001b[0m\n\u001b[1;32m  11160\u001b[0m \u001b[38;5;28;01mif\u001b[39;00m tld\u001b[38;5;241m.\u001b[39mis_eager:\n\u001b[1;32m  11161\u001b[0m   \u001b[38;5;28;01mtry\u001b[39;00m:\n\u001b[0;32m> 11162\u001b[0m     _result \u001b[38;5;241m=\u001b[39m \u001b[43mpywrap_tfe\u001b[49m\u001b[38;5;241;43m.\u001b[39;49m\u001b[43mTFE_Py_FastPathExecute\u001b[49m\u001b[43m(\u001b[49m\n\u001b[1;32m  11163\u001b[0m \u001b[43m      \u001b[49m\u001b[43m_ctx\u001b[49m\u001b[43m,\u001b[49m\u001b[43m \u001b[49m\u001b[38;5;124;43m\"\u001b[39;49m\u001b[38;5;124;43mSub\u001b[39;49m\u001b[38;5;124;43m\"\u001b[39;49m\u001b[43m,\u001b[49m\u001b[43m \u001b[49m\u001b[43mname\u001b[49m\u001b[43m,\u001b[49m\u001b[43m \u001b[49m\u001b[43mx\u001b[49m\u001b[43m,\u001b[49m\u001b[43m \u001b[49m\u001b[43my\u001b[49m\u001b[43m)\u001b[49m\n\u001b[1;32m  11164\u001b[0m     \u001b[38;5;28;01mreturn\u001b[39;00m _result\n\u001b[1;32m  11165\u001b[0m   \u001b[38;5;28;01mexcept\u001b[39;00m _core\u001b[38;5;241m.\u001b[39m_NotOkStatusException \u001b[38;5;28;01mas\u001b[39;00m e:\n",
      "\u001b[0;31mKeyboardInterrupt\u001b[0m: "
     ]
    }
   ],
   "source": [
    "good_params = []\n",
    "for index in trange(parameters.shape[0]):\n",
    "    _, mass = calculate_center_of_mass(parameters[index])\n",
    "    if 4 <= mass <= 8:\n",
    "        good_params.append(parameters[index].numpy())"
   ]
  },
  {
   "cell_type": "code",
   "execution_count": 6,
   "id": "a1956d1f-872d-4321-8ece-4dfe27de34a6",
   "metadata": {},
   "outputs": [],
   "source": [
    "df = pd.DataFrame.from_records(np.array(good_params))"
   ]
  },
  {
   "cell_type": "code",
   "execution_count": 7,
   "id": "43d4af19-5199-4de9-91f9-e2d8bd6c760e",
   "metadata": {},
   "outputs": [
    {
     "data": {
      "text/html": [
       "<div>\n",
       "<style scoped>\n",
       "    .dataframe tbody tr th:only-of-type {\n",
       "        vertical-align: middle;\n",
       "    }\n",
       "\n",
       "    .dataframe tbody tr th {\n",
       "        vertical-align: top;\n",
       "    }\n",
       "\n",
       "    .dataframe thead th {\n",
       "        text-align: right;\n",
       "    }\n",
       "</style>\n",
       "<table border=\"1\" class=\"dataframe\">\n",
       "  <thead>\n",
       "    <tr style=\"text-align: right;\">\n",
       "      <th></th>\n",
       "      <th>0</th>\n",
       "      <th>1</th>\n",
       "      <th>2</th>\n",
       "      <th>3</th>\n",
       "      <th>4</th>\n",
       "      <th>5</th>\n",
       "      <th>6</th>\n",
       "      <th>7</th>\n",
       "      <th>8</th>\n",
       "      <th>9</th>\n",
       "      <th>...</th>\n",
       "      <th>18</th>\n",
       "      <th>19</th>\n",
       "      <th>20</th>\n",
       "      <th>21</th>\n",
       "      <th>22</th>\n",
       "      <th>23</th>\n",
       "      <th>24</th>\n",
       "      <th>25</th>\n",
       "      <th>26</th>\n",
       "      <th>27</th>\n",
       "    </tr>\n",
       "  </thead>\n",
       "  <tbody>\n",
       "    <tr>\n",
       "      <th>0</th>\n",
       "      <td>27.773333</td>\n",
       "      <td>21.271492</td>\n",
       "      <td>7.017729</td>\n",
       "      <td>48.747475</td>\n",
       "      <td>42.277481</td>\n",
       "      <td>23.656282</td>\n",
       "      <td>32.074966</td>\n",
       "      <td>20.281408</td>\n",
       "      <td>30.789621</td>\n",
       "      <td>15.631498</td>\n",
       "      <td>...</td>\n",
       "      <td>17.133747</td>\n",
       "      <td>22.606588</td>\n",
       "      <td>16.506767</td>\n",
       "      <td>17.657707</td>\n",
       "      <td>20.342266</td>\n",
       "      <td>19.280014</td>\n",
       "      <td>18.021919</td>\n",
       "      <td>20.946796</td>\n",
       "      <td>20.862022</td>\n",
       "      <td>17.425449</td>\n",
       "    </tr>\n",
       "    <tr>\n",
       "      <th>1</th>\n",
       "      <td>34.319118</td>\n",
       "      <td>44.016266</td>\n",
       "      <td>16.454298</td>\n",
       "      <td>17.266167</td>\n",
       "      <td>25.914997</td>\n",
       "      <td>18.146740</td>\n",
       "      <td>14.453725</td>\n",
       "      <td>24.174446</td>\n",
       "      <td>46.995750</td>\n",
       "      <td>23.783478</td>\n",
       "      <td>...</td>\n",
       "      <td>18.546715</td>\n",
       "      <td>18.578320</td>\n",
       "      <td>21.150688</td>\n",
       "      <td>22.086393</td>\n",
       "      <td>22.551804</td>\n",
       "      <td>21.858662</td>\n",
       "      <td>22.579168</td>\n",
       "      <td>20.011345</td>\n",
       "      <td>18.322826</td>\n",
       "      <td>20.263067</td>\n",
       "    </tr>\n",
       "    <tr>\n",
       "      <th>2</th>\n",
       "      <td>43.871029</td>\n",
       "      <td>12.383644</td>\n",
       "      <td>34.497326</td>\n",
       "      <td>34.079227</td>\n",
       "      <td>30.555342</td>\n",
       "      <td>11.459092</td>\n",
       "      <td>11.628479</td>\n",
       "      <td>40.820404</td>\n",
       "      <td>16.642155</td>\n",
       "      <td>13.737366</td>\n",
       "      <td>...</td>\n",
       "      <td>16.156406</td>\n",
       "      <td>19.722172</td>\n",
       "      <td>18.197456</td>\n",
       "      <td>20.612267</td>\n",
       "      <td>18.325935</td>\n",
       "      <td>21.762630</td>\n",
       "      <td>18.969744</td>\n",
       "      <td>22.771824</td>\n",
       "      <td>19.505348</td>\n",
       "      <td>16.862606</td>\n",
       "    </tr>\n",
       "    <tr>\n",
       "      <th>3</th>\n",
       "      <td>23.186848</td>\n",
       "      <td>35.054733</td>\n",
       "      <td>17.826324</td>\n",
       "      <td>13.314231</td>\n",
       "      <td>15.150826</td>\n",
       "      <td>20.469898</td>\n",
       "      <td>18.322334</td>\n",
       "      <td>19.529457</td>\n",
       "      <td>25.762020</td>\n",
       "      <td>35.788277</td>\n",
       "      <td>...</td>\n",
       "      <td>21.751318</td>\n",
       "      <td>16.155315</td>\n",
       "      <td>18.032242</td>\n",
       "      <td>20.784483</td>\n",
       "      <td>16.300301</td>\n",
       "      <td>16.404156</td>\n",
       "      <td>20.576942</td>\n",
       "      <td>23.153093</td>\n",
       "      <td>23.801273</td>\n",
       "      <td>18.555056</td>\n",
       "    </tr>\n",
       "    <tr>\n",
       "      <th>4</th>\n",
       "      <td>19.152815</td>\n",
       "      <td>43.562790</td>\n",
       "      <td>5.547171</td>\n",
       "      <td>16.049757</td>\n",
       "      <td>46.884319</td>\n",
       "      <td>30.429159</td>\n",
       "      <td>23.046026</td>\n",
       "      <td>30.255316</td>\n",
       "      <td>17.863091</td>\n",
       "      <td>33.350670</td>\n",
       "      <td>...</td>\n",
       "      <td>19.332420</td>\n",
       "      <td>22.224136</td>\n",
       "      <td>17.573910</td>\n",
       "      <td>18.823631</td>\n",
       "      <td>17.627148</td>\n",
       "      <td>16.522755</td>\n",
       "      <td>21.472584</td>\n",
       "      <td>20.468658</td>\n",
       "      <td>23.485134</td>\n",
       "      <td>22.451777</td>\n",
       "    </tr>\n",
       "  </tbody>\n",
       "</table>\n",
       "<p>5 rows × 28 columns</p>\n",
       "</div>"
      ],
      "text/plain": [
       "          0          1          2          3          4          5   \\\n",
       "0  27.773333  21.271492   7.017729  48.747475  42.277481  23.656282   \n",
       "1  34.319118  44.016266  16.454298  17.266167  25.914997  18.146740   \n",
       "2  43.871029  12.383644  34.497326  34.079227  30.555342  11.459092   \n",
       "3  23.186848  35.054733  17.826324  13.314231  15.150826  20.469898   \n",
       "4  19.152815  43.562790   5.547171  16.049757  46.884319  30.429159   \n",
       "\n",
       "          6          7          8          9   ...         18         19  \\\n",
       "0  32.074966  20.281408  30.789621  15.631498  ...  17.133747  22.606588   \n",
       "1  14.453725  24.174446  46.995750  23.783478  ...  18.546715  18.578320   \n",
       "2  11.628479  40.820404  16.642155  13.737366  ...  16.156406  19.722172   \n",
       "3  18.322334  19.529457  25.762020  35.788277  ...  21.751318  16.155315   \n",
       "4  23.046026  30.255316  17.863091  33.350670  ...  19.332420  22.224136   \n",
       "\n",
       "          20         21         22         23         24         25  \\\n",
       "0  16.506767  17.657707  20.342266  19.280014  18.021919  20.946796   \n",
       "1  21.150688  22.086393  22.551804  21.858662  22.579168  20.011345   \n",
       "2  18.197456  20.612267  18.325935  21.762630  18.969744  22.771824   \n",
       "3  18.032242  20.784483  16.300301  16.404156  20.576942  23.153093   \n",
       "4  17.573910  18.823631  17.627148  16.522755  21.472584  20.468658   \n",
       "\n",
       "          26         27  \n",
       "0  20.862022  17.425449  \n",
       "1  18.322826  20.263067  \n",
       "2  19.505348  16.862606  \n",
       "3  23.801273  18.555056  \n",
       "4  23.485134  22.451777  \n",
       "\n",
       "[5 rows x 28 columns]"
      ]
     },
     "execution_count": 7,
     "metadata": {},
     "output_type": "execute_result"
    }
   ],
   "source": [
    "df.head()"
   ]
  },
  {
   "cell_type": "code",
   "execution_count": 8,
   "id": "56842d44-da47-4178-8a9b-47eedd2bb7af",
   "metadata": {},
   "outputs": [
    {
     "data": {
      "text/plain": [
       "(168676, 28)"
      ]
     },
     "execution_count": 8,
     "metadata": {},
     "output_type": "execute_result"
    }
   ],
   "source": [
    "df.shape"
   ]
  },
  {
   "cell_type": "code",
   "execution_count": 9,
   "id": "24da86b3-b790-4ae3-98ab-77c71e67078b",
   "metadata": {},
   "outputs": [],
   "source": [
    "df.to_csv(\"params.csv\", index=False, header=False)"
   ]
  },
  {
   "cell_type": "code",
   "execution_count": 3,
   "id": "844ee209-9700-4a87-89a6-f59fd55ed086",
   "metadata": {},
   "outputs": [],
   "source": [
    "t = np.linspace(0, 120, 1000)"
   ]
  },
  {
   "cell_type": "code",
   "execution_count": 4,
   "id": "61e18b52-9d53-4e23-8df0-669061e8a53f",
   "metadata": {},
   "outputs": [],
   "source": [
    "df = pd.read_csv(\"params.csv\", header=None)"
   ]
  },
  {
   "cell_type": "code",
   "execution_count": 5,
   "id": "07adb304-9d73-468b-b3f7-7b1701d1b809",
   "metadata": {},
   "outputs": [],
   "source": [
    "good_params = df.to_numpy()\n",
    "good_params = [tf.constant(g, dtype=\"float32\") for g in good_params]"
   ]
  },
  {
   "cell_type": "code",
   "execution_count": 9,
   "id": "e76da5a8-b517-4f20-9e9e-63b5f8fffc7d",
   "metadata": {},
   "outputs": [
    {
     "name": "stdout",
     "output_type": "stream",
     "text": [
      "Collecting importnb\n",
      "  Downloading importnb-0.8.0-py3-none-any.whl (39 kB)\n",
      "Installing collected packages: importnb\n",
      "Successfully installed importnb-0.8.0\n",
      "\u001b[33mWARNING: Running pip as the 'root' user can result in broken permissions and conflicting behaviour with the system package manager. It is recommended to use a virtual environment instead: https://pip.pypa.io/warnings/venv\u001b[0m\u001b[33m\n",
      "\u001b[0m"
     ]
    }
   ],
   "source": [
    "!pip install importnb"
   ]
  },
  {
   "cell_type": "code",
   "execution_count": 21,
   "id": "50fe4d3a-4f4b-476e-922f-6188a78fa94a",
   "metadata": {},
   "outputs": [],
   "source": [
    "def calc_efficiency(index, chunk):\n",
    "    import tensorflow as tf\n",
    "    import importnb\n",
    "    import pandas as pd\n",
    "    import numpy as np\n",
    "    t = np.linspace(0, 120, 1000)\n",
    "    with importnb.Notebook():\n",
    "        import _phase_pm_engine_simulation as es\n",
    "        import center_of_mass_calculation as cmc\n",
    "        calculate_center_of_mass = cmc.calculate_center_of_mass\n",
    "        local_result = []\n",
    "        for i in range(len(chunk)):\n",
    "            eff = es.evaluate_efficiency(chunk[i], t)\n",
    "            print(eff)\n",
    "            local_result.append(eff.numpy())\n",
    "            df = pd.DataFrame(local_result)\n",
    "            df.to_csv(f\"eff_chunk_{index}.csv\", index=False, header=False)"
   ]
  },
  {
   "cell_type": "code",
   "execution_count": 22,
   "id": "2446a924-e53b-4298-a028-bc2d53971918",
   "metadata": {},
   "outputs": [
    {
     "name": "stderr",
     "output_type": "stream",
     "text": [
      "Process Process-86:\n",
      "Traceback (most recent call last):\n",
      "  File \"/usr/local/lib/python3.9/dist-packages/multiprocess/process.py\", line 315, in _bootstrap\n",
      "    self.run()\n",
      "  File \"/usr/local/lib/python3.9/dist-packages/multiprocess/process.py\", line 108, in run\n",
      "    self._target(*self._args, **self._kwargs)\n",
      "  File \"/tmp/ipykernel_2615/118926433.py\", line 13, in calc_efficiency\n",
      "  File \"/notebooks/3phase_pm_engine_simulation.ipynb\", line 125, in evaluate_efficiency\n",
      "    r, m = calculate_center_of_mass(parameters)\n",
      "NameError: name 'calculate_center_of_mass' is not defined\n"
     ]
    },
    {
     "name": "stdout",
     "output_type": "stream",
     "text": [
      "<Figure size 792x576 with 1 Axes>\n"
     ]
    },
    {
     "name": "stderr",
     "output_type": "stream",
     "text": [
      "Process Process-87:\n",
      "Traceback (most recent call last):\n",
      "  File \"/usr/local/lib/python3.9/dist-packages/multiprocess/process.py\", line 315, in _bootstrap\n",
      "    self.run()\n",
      "  File \"/usr/local/lib/python3.9/dist-packages/multiprocess/process.py\", line 108, in run\n",
      "    self._target(*self._args, **self._kwargs)\n",
      "  File \"/tmp/ipykernel_2615/118926433.py\", line 13, in calc_efficiency\n",
      "  File \"/notebooks/3phase_pm_engine_simulation.ipynb\", line 125, in evaluate_efficiency\n",
      "    r, m = calculate_center_of_mass(parameters)\n",
      "NameError: name 'calculate_center_of_mass' is not defined\n"
     ]
    },
    {
     "name": "stdout",
     "output_type": "stream",
     "text": [
      "<Figure size 792x576 with 1 Axes>\n"
     ]
    },
    {
     "name": "stderr",
     "output_type": "stream",
     "text": [
      "Process Process-88:\n",
      "Traceback (most recent call last):\n",
      "  File \"/usr/local/lib/python3.9/dist-packages/multiprocess/process.py\", line 315, in _bootstrap\n",
      "    self.run()\n",
      "  File \"/usr/local/lib/python3.9/dist-packages/multiprocess/process.py\", line 108, in run\n",
      "    self._target(*self._args, **self._kwargs)\n",
      "  File \"/tmp/ipykernel_2615/118926433.py\", line 13, in calc_efficiency\n",
      "  File \"/notebooks/3phase_pm_engine_simulation.ipynb\", line 125, in evaluate_efficiency\n",
      "    r, m = calculate_center_of_mass(parameters)\n",
      "NameError: name 'calculate_center_of_mass' is not defined\n"
     ]
    },
    {
     "name": "stdout",
     "output_type": "stream",
     "text": [
      "<Figure size 792x576 with 1 Axes>\n"
     ]
    },
    {
     "name": "stderr",
     "output_type": "stream",
     "text": [
      "Traceback (most recent call last):\n",
      "  File \"<string>\", line 1, in <module>\n"
     ]
    },
    {
     "ename": "KeyboardInterrupt",
     "evalue": "",
     "output_type": "error",
     "traceback": [
      "\u001b[0;31m---------------------------------------------------------------------------\u001b[0m",
      "\u001b[0;31mKeyboardInterrupt\u001b[0m                         Traceback (most recent call last)",
      "Input \u001b[0;32mIn [22]\u001b[0m, in \u001b[0;36m<cell line: 9>\u001b[0;34m()\u001b[0m\n\u001b[1;32m      7\u001b[0m     processes\u001b[38;5;241m.\u001b[39mappend(Process(target\u001b[38;5;241m=\u001b[39mcalc_efficiency, args\u001b[38;5;241m=\u001b[39mchunk))\n\u001b[1;32m      9\u001b[0m \u001b[38;5;28;01mfor\u001b[39;00m p \u001b[38;5;129;01min\u001b[39;00m processes:\n\u001b[0;32m---> 10\u001b[0m     \u001b[43mp\u001b[49m\u001b[38;5;241;43m.\u001b[39;49m\u001b[43mstart\u001b[49m\u001b[43m(\u001b[49m\u001b[43m)\u001b[49m\n\u001b[1;32m     12\u001b[0m \u001b[38;5;28;01mfor\u001b[39;00m p \u001b[38;5;129;01min\u001b[39;00m processes:\n\u001b[1;32m     13\u001b[0m     p\u001b[38;5;241m.\u001b[39mjoin()\n",
      "File \u001b[0;32m/usr/local/lib/python3.9/dist-packages/multiprocess/process.py:121\u001b[0m, in \u001b[0;36mBaseProcess.start\u001b[0;34m(self)\u001b[0m\n\u001b[1;32m    118\u001b[0m \u001b[38;5;28;01massert\u001b[39;00m \u001b[38;5;129;01mnot\u001b[39;00m _current_process\u001b[38;5;241m.\u001b[39m_config\u001b[38;5;241m.\u001b[39mget(\u001b[38;5;124m'\u001b[39m\u001b[38;5;124mdaemon\u001b[39m\u001b[38;5;124m'\u001b[39m), \\\n\u001b[1;32m    119\u001b[0m        \u001b[38;5;124m'\u001b[39m\u001b[38;5;124mdaemonic processes are not allowed to have children\u001b[39m\u001b[38;5;124m'\u001b[39m\n\u001b[1;32m    120\u001b[0m _cleanup()\n\u001b[0;32m--> 121\u001b[0m \u001b[38;5;28mself\u001b[39m\u001b[38;5;241m.\u001b[39m_popen \u001b[38;5;241m=\u001b[39m \u001b[38;5;28;43mself\u001b[39;49m\u001b[38;5;241;43m.\u001b[39;49m\u001b[43m_Popen\u001b[49m\u001b[43m(\u001b[49m\u001b[38;5;28;43mself\u001b[39;49m\u001b[43m)\u001b[49m\n\u001b[1;32m    122\u001b[0m \u001b[38;5;28mself\u001b[39m\u001b[38;5;241m.\u001b[39m_sentinel \u001b[38;5;241m=\u001b[39m \u001b[38;5;28mself\u001b[39m\u001b[38;5;241m.\u001b[39m_popen\u001b[38;5;241m.\u001b[39msentinel\n\u001b[1;32m    123\u001b[0m \u001b[38;5;66;03m# Avoid a refcycle if the target function holds an indirect\u001b[39;00m\n\u001b[1;32m    124\u001b[0m \u001b[38;5;66;03m# reference to the process object (see bpo-30775)\u001b[39;00m\n",
      "File \u001b[0;32m/usr/local/lib/python3.9/dist-packages/multiprocess/context.py:224\u001b[0m, in \u001b[0;36mProcess._Popen\u001b[0;34m(process_obj)\u001b[0m\n\u001b[1;32m    222\u001b[0m \u001b[38;5;129m@staticmethod\u001b[39m\n\u001b[1;32m    223\u001b[0m \u001b[38;5;28;01mdef\u001b[39;00m \u001b[38;5;21m_Popen\u001b[39m(process_obj):\n\u001b[0;32m--> 224\u001b[0m     \u001b[38;5;28;01mreturn\u001b[39;00m \u001b[43m_default_context\u001b[49m\u001b[38;5;241;43m.\u001b[39;49m\u001b[43mget_context\u001b[49m\u001b[43m(\u001b[49m\u001b[43m)\u001b[49m\u001b[38;5;241;43m.\u001b[39;49m\u001b[43mProcess\u001b[49m\u001b[38;5;241;43m.\u001b[39;49m\u001b[43m_Popen\u001b[49m\u001b[43m(\u001b[49m\u001b[43mprocess_obj\u001b[49m\u001b[43m)\u001b[49m\n",
      "File \u001b[0;32m/usr/local/lib/python3.9/dist-packages/multiprocess/context.py:284\u001b[0m, in \u001b[0;36mSpawnProcess._Popen\u001b[0;34m(process_obj)\u001b[0m\n\u001b[1;32m    281\u001b[0m \u001b[38;5;129m@staticmethod\u001b[39m\n\u001b[1;32m    282\u001b[0m \u001b[38;5;28;01mdef\u001b[39;00m \u001b[38;5;21m_Popen\u001b[39m(process_obj):\n\u001b[1;32m    283\u001b[0m     \u001b[38;5;28;01mfrom\u001b[39;00m \u001b[38;5;21;01m.\u001b[39;00m\u001b[38;5;21;01mpopen_spawn_posix\u001b[39;00m \u001b[38;5;28;01mimport\u001b[39;00m Popen\n\u001b[0;32m--> 284\u001b[0m     \u001b[38;5;28;01mreturn\u001b[39;00m \u001b[43mPopen\u001b[49m\u001b[43m(\u001b[49m\u001b[43mprocess_obj\u001b[49m\u001b[43m)\u001b[49m\n",
      "File \u001b[0;32m/usr/local/lib/python3.9/dist-packages/multiprocess/popen_spawn_posix.py:32\u001b[0m, in \u001b[0;36mPopen.__init__\u001b[0;34m(self, process_obj)\u001b[0m\n\u001b[1;32m     30\u001b[0m \u001b[38;5;28;01mdef\u001b[39;00m \u001b[38;5;21m__init__\u001b[39m(\u001b[38;5;28mself\u001b[39m, process_obj):\n\u001b[1;32m     31\u001b[0m     \u001b[38;5;28mself\u001b[39m\u001b[38;5;241m.\u001b[39m_fds \u001b[38;5;241m=\u001b[39m []\n\u001b[0;32m---> 32\u001b[0m     \u001b[38;5;28;43msuper\u001b[39;49m\u001b[43m(\u001b[49m\u001b[43m)\u001b[49m\u001b[38;5;241;43m.\u001b[39;49m\u001b[38;5;21;43m__init__\u001b[39;49m\u001b[43m(\u001b[49m\u001b[43mprocess_obj\u001b[49m\u001b[43m)\u001b[49m\n",
      "File \u001b[0;32m/usr/local/lib/python3.9/dist-packages/multiprocess/popen_fork.py:19\u001b[0m, in \u001b[0;36mPopen.__init__\u001b[0;34m(self, process_obj)\u001b[0m\n\u001b[1;32m     17\u001b[0m \u001b[38;5;28mself\u001b[39m\u001b[38;5;241m.\u001b[39mreturncode \u001b[38;5;241m=\u001b[39m \u001b[38;5;28;01mNone\u001b[39;00m\n\u001b[1;32m     18\u001b[0m \u001b[38;5;28mself\u001b[39m\u001b[38;5;241m.\u001b[39mfinalizer \u001b[38;5;241m=\u001b[39m \u001b[38;5;28;01mNone\u001b[39;00m\n\u001b[0;32m---> 19\u001b[0m \u001b[38;5;28;43mself\u001b[39;49m\u001b[38;5;241;43m.\u001b[39;49m\u001b[43m_launch\u001b[49m\u001b[43m(\u001b[49m\u001b[43mprocess_obj\u001b[49m\u001b[43m)\u001b[49m\n",
      "File \u001b[0;32m/usr/local/lib/python3.9/dist-packages/multiprocess/popen_spawn_posix.py:62\u001b[0m, in \u001b[0;36mPopen._launch\u001b[0;34m(self, process_obj)\u001b[0m\n\u001b[1;32m     60\u001b[0m     \u001b[38;5;28mself\u001b[39m\u001b[38;5;241m.\u001b[39msentinel \u001b[38;5;241m=\u001b[39m parent_r\n\u001b[1;32m     61\u001b[0m     \u001b[38;5;28;01mwith\u001b[39;00m \u001b[38;5;28mopen\u001b[39m(parent_w, \u001b[38;5;124m'\u001b[39m\u001b[38;5;124mwb\u001b[39m\u001b[38;5;124m'\u001b[39m, closefd\u001b[38;5;241m=\u001b[39m\u001b[38;5;28;01mFalse\u001b[39;00m) \u001b[38;5;28;01mas\u001b[39;00m f:\n\u001b[0;32m---> 62\u001b[0m         \u001b[43mf\u001b[49m\u001b[38;5;241;43m.\u001b[39;49m\u001b[43mwrite\u001b[49m\u001b[43m(\u001b[49m\u001b[43mfp\u001b[49m\u001b[38;5;241;43m.\u001b[39;49m\u001b[43mgetbuffer\u001b[49m\u001b[43m(\u001b[49m\u001b[43m)\u001b[49m\u001b[43m)\u001b[49m\n\u001b[1;32m     63\u001b[0m \u001b[38;5;28;01mfinally\u001b[39;00m:\n\u001b[1;32m     64\u001b[0m     fds_to_close \u001b[38;5;241m=\u001b[39m []\n",
      "\u001b[0;31mKeyboardInterrupt\u001b[0m: "
     ]
    },
    {
     "name": "stderr",
     "output_type": "stream",
     "text": [
      "  File \"/usr/local/lib/python3.9/dist-packages/multiprocess/spawn.py\", line 116, in spawn_main\n",
      "    exitcode = _main(fd, parent_sentinel)\n",
      "  File \"/usr/local/lib/python3.9/dist-packages/multiprocess/spawn.py\", line 126, in _main\n",
      "    self = reduction.pickle.load(from_parent)\n",
      "  File \"/usr/local/lib/python3.9/dist-packages/dill/_dill.py\", line 373, in load\n",
      "    return Unpickler(file, ignore=ignore, **kwds).load()\n",
      "  File \"/usr/local/lib/python3.9/dist-packages/dill/_dill.py\", line 646, in load\n",
      "    obj = StockUnpickler.load(self)\n",
      "  File \"/usr/local/lib/python3.9/dist-packages/dill/_dill.py\", line 636, in find_class\n",
      "    return StockUnpickler.find_class(self, module, name)\n",
      "  File \"/usr/local/lib/python3.9/dist-packages/tensorflow/__init__.py\", line 29, in <module>\n",
      "    import distutils as _distutils\n",
      "  File \"<frozen importlib._bootstrap>\", line 1007, in _find_and_load\n",
      "  File \"<frozen importlib._bootstrap>\", line 982, in _find_and_load_unlocked\n",
      "  File \"<frozen importlib._bootstrap>\", line 925, in _find_spec\n",
      "  File \"/usr/local/lib/python3.9/dist-packages/_distutils_hack/__init__.py\", line 97, in find_spec\n",
      "    return method()\n",
      "  File \"/usr/local/lib/python3.9/dist-packages/_distutils_hack/__init__.py\", line 108, in spec_for_distutils\n",
      "    mod = importlib.import_module('setuptools._distutils')\n",
      "  File \"/usr/lib/python3.9/importlib/__init__.py\", line 127, in import_module\n",
      "    return _bootstrap._gcd_import(name[level:], package, level)\n",
      "  File \"/usr/local/lib/python3.9/dist-packages/setuptools/__init__.py\", line 16, in <module>\n",
      "    import setuptools.version\n",
      "  File \"/usr/local/lib/python3.9/dist-packages/setuptools/version.py\", line 1, in <module>\n",
      "    import pkg_resources\n",
      "  File \"/usr/local/lib/python3.9/dist-packages/pkg_resources/__init__.py\", line 3260, in <module>\n",
      "    def _initialize_master_working_set():\n",
      "  File \"/usr/local/lib/python3.9/dist-packages/pkg_resources/__init__.py\", line 3234, in _call_aside\n",
      "    f(*args, **kwargs)\n",
      "  File \"/usr/local/lib/python3.9/dist-packages/pkg_resources/__init__.py\", line 3295, in _initialize_master_working_set\n",
      "    list(map(working_set.add_entry, sys.path))\n",
      "  File \"/usr/local/lib/python3.9/dist-packages/pkg_resources/__init__.py\", line 621, in add_entry\n",
      "    for dist in find_distributions(entry, True):\n",
      "  File \"/usr/local/lib/python3.9/dist-packages/pkg_resources/__init__.py\", line 2096, in find_on_path\n",
      "    for dist in factory(fullpath):\n",
      "  File \"/usr/local/lib/python3.9/dist-packages/pkg_resources/__init__.py\", line 2153, in distributions_from_metadata\n",
      "    if os.path.isdir(path):\n",
      "  File \"/usr/lib/python3.9/genericpath.py\", line 42, in isdir\n",
      "    st = os.stat(s)\n",
      "KeyboardInterrupt\n",
      "Process Process-89:\n",
      "Traceback (most recent call last):\n",
      "  File \"/usr/local/lib/python3.9/dist-packages/multiprocess/process.py\", line 315, in _bootstrap\n",
      "    self.run()\n",
      "  File \"/usr/local/lib/python3.9/dist-packages/multiprocess/process.py\", line 108, in run\n",
      "    self._target(*self._args, **self._kwargs)\n",
      "  File \"/tmp/ipykernel_2615/118926433.py\", line 9, in calc_efficiency\n",
      "  File \"<frozen importlib._bootstrap>\", line 1007, in _find_and_load\n",
      "  File \"<frozen importlib._bootstrap>\", line 986, in _find_and_load_unlocked\n",
      "  File \"<frozen importlib._bootstrap>\", line 680, in _load_unlocked\n",
      "  File \"<frozen importlib._bootstrap_external>\", line 846, in exec_module\n",
      "  File \"<frozen importlib._bootstrap_external>\", line 995, in get_code\n",
      "  File \"<frozen importlib._bootstrap_external>\", line 1085, in _cache_bytecode\n",
      "  File \"<frozen importlib._bootstrap_external>\", line 1110, in set_data\n",
      "  File \"<frozen importlib._bootstrap_external>\", line 192, in _write_atomic\n",
      "KeyboardInterrupt\n"
     ]
    },
    {
     "name": "stdout",
     "output_type": "stream",
     "text": [
      "<Figure size 792x576 with 1 Axes>\n"
     ]
    }
   ],
   "source": [
    "from multiprocess import Process\n",
    "import multiprocess\n",
    "# multiprocess.set_start_method('spawn')\n",
    "chunks = [(i, good_params[i*10_000:min(i*10_000 + 10_000, 168676)]) for i in range(17)]\n",
    "processes = []\n",
    "for chunk in chunks:\n",
    "    processes.append(Process(target=calc_efficiency, args=chunk))\n",
    "    \n",
    "for p in processes:\n",
    "    p.start()\n",
    "    \n",
    "for p in processes:\n",
    "    p.join()"
   ]
  },
  {
   "cell_type": "code",
   "execution_count": 16,
   "id": "754096c4-4a00-494e-b83e-e5666f0b545a",
   "metadata": {},
   "outputs": [],
   "source": [
    "efficiencies = []"
   ]
  },
  {
   "cell_type": "code",
   "execution_count": 6,
   "id": "c62ae8aa-4632-4592-aa09-86a2c6d0386e",
   "metadata": {},
   "outputs": [
    {
     "data": {
      "application/vnd.jupyter.widget-view+json": {
       "model_id": "6cbcc86d89e24f84ba5f066b538b4b9a",
       "version_major": 2,
       "version_minor": 0
      },
      "text/plain": [
       "  0%|          | 0/168676 [00:00<?, ?it/s]"
      ]
     },
     "metadata": {},
     "output_type": "display_data"
    },
    {
     "ename": "KeyboardInterrupt",
     "evalue": "",
     "output_type": "error",
     "traceback": [
      "\u001b[0;31m---------------------------------------------------------------------------\u001b[0m",
      "\u001b[0;31mKeyboardInterrupt\u001b[0m                         Traceback (most recent call last)",
      "Input \u001b[0;32mIn [6]\u001b[0m, in \u001b[0;36m<cell line: 1>\u001b[0;34m()\u001b[0m\n\u001b[1;32m      1\u001b[0m \u001b[38;5;28;01mfor\u001b[39;00m i \u001b[38;5;129;01min\u001b[39;00m trange(\u001b[38;5;28mlen\u001b[39m(good_params)):\n\u001b[0;32m----> 2\u001b[0m     eff \u001b[38;5;241m=\u001b[39m \u001b[43mevaluate_efficiency\u001b[49m\u001b[43m(\u001b[49m\u001b[43mgood_params\u001b[49m\u001b[43m[\u001b[49m\u001b[43mi\u001b[49m\u001b[43m]\u001b[49m\u001b[43m,\u001b[49m\u001b[43m \u001b[49m\u001b[43mt\u001b[49m\u001b[43m)\u001b[49m\n\u001b[1;32m      3\u001b[0m     efficiencies\u001b[38;5;241m.\u001b[39mappend(eff\u001b[38;5;241m.\u001b[39mnumpy())\n\u001b[1;32m      4\u001b[0m     \u001b[38;5;28;01mif\u001b[39;00m i \u001b[38;5;241m>\u001b[39m\u001b[38;5;241m=\u001b[39m \u001b[38;5;241m1000\u001b[39m \u001b[38;5;129;01mand\u001b[39;00m i \u001b[38;5;241m%\u001b[39m \u001b[38;5;241m1000\u001b[39m \u001b[38;5;241m==\u001b[39m \u001b[38;5;241m0\u001b[39m:\n",
      "File \u001b[0;32m/tmp/ipykernel_57/3454486912.py:3\u001b[0m, in \u001b[0;36mevaluate_efficiency\u001b[0;34m(parameters, t, show_plots)\u001b[0m\n\u001b[1;32m      1\u001b[0m \u001b[38;5;28;01mdef\u001b[39;00m \u001b[38;5;21mevaluate_efficiency\u001b[39m(parameters, t, show_plots\u001b[38;5;241m=\u001b[39m\u001b[38;5;28;01mFalse\u001b[39;00m):\n\u001b[1;32m      2\u001b[0m     r, m \u001b[38;5;241m=\u001b[39m calculate_center_of_mass(parameters)\n\u001b[0;32m----> 3\u001b[0m     omega \u001b[38;5;241m=\u001b[39m \u001b[43msolve_ivp\u001b[49m\u001b[43m(\u001b[49m\u001b[43mdomega_dt\u001b[49m\u001b[43m,\u001b[49m\u001b[43m \u001b[49m\u001b[43m[\u001b[49m\u001b[38;5;241;43m0\u001b[39;49m\u001b[43m,\u001b[49m\u001b[43m \u001b[49m\u001b[38;5;241;43m120\u001b[39;49m\u001b[43m]\u001b[49m\u001b[43m,\u001b[49m\u001b[43m \u001b[49m\u001b[43mnp\u001b[49m\u001b[38;5;241;43m.\u001b[39;49m\u001b[43marray\u001b[49m\u001b[43m(\u001b[49m\u001b[43m[\u001b[49m\u001b[38;5;241;43m0\u001b[39;49m\u001b[43m]\u001b[49m\u001b[43m)\u001b[49m\u001b[43m,\u001b[49m\u001b[43m \u001b[49m\u001b[43margs\u001b[49m\u001b[38;5;241;43m=\u001b[39;49m\u001b[38;5;28;43mtuple\u001b[39;49m\u001b[43m(\u001b[49m\u001b[43m[\u001b[49m\u001b[43mr\u001b[49m\u001b[43m,\u001b[49m\u001b[43m \u001b[49m\u001b[43mm\u001b[49m\u001b[43m]\u001b[49m\u001b[43m)\u001b[49m\u001b[43m,\u001b[49m\u001b[43m \u001b[49m\u001b[43mt_eval\u001b[49m\u001b[38;5;241;43m=\u001b[39;49m\u001b[43mt\u001b[49m\u001b[43m)\u001b[49m\u001b[38;5;241m.\u001b[39my[\u001b[38;5;241m0\u001b[39m]\n\u001b[1;32m      5\u001b[0m     \u001b[38;5;28;01mif\u001b[39;00m show_plots:\n\u001b[1;32m      6\u001b[0m         plt\u001b[38;5;241m.\u001b[39mfigure(figsize\u001b[38;5;241m=\u001b[39m(\u001b[38;5;241m7\u001b[39m, \u001b[38;5;241m7\u001b[39m))\n",
      "File \u001b[0;32m/usr/local/lib/python3.9/dist-packages/scipy/integrate/_ivp/ivp.py:546\u001b[0m, in \u001b[0;36msolve_ivp\u001b[0;34m(fun, t_span, y0, method, t_eval, dense_output, events, vectorized, args, **options)\u001b[0m\n\u001b[1;32m    543\u001b[0m \u001b[38;5;28;01mif\u001b[39;00m method \u001b[38;5;129;01min\u001b[39;00m METHODS:\n\u001b[1;32m    544\u001b[0m     method \u001b[38;5;241m=\u001b[39m METHODS[method]\n\u001b[0;32m--> 546\u001b[0m solver \u001b[38;5;241m=\u001b[39m \u001b[43mmethod\u001b[49m\u001b[43m(\u001b[49m\u001b[43mfun\u001b[49m\u001b[43m,\u001b[49m\u001b[43m \u001b[49m\u001b[43mt0\u001b[49m\u001b[43m,\u001b[49m\u001b[43m \u001b[49m\u001b[43my0\u001b[49m\u001b[43m,\u001b[49m\u001b[43m \u001b[49m\u001b[43mtf\u001b[49m\u001b[43m,\u001b[49m\u001b[43m \u001b[49m\u001b[43mvectorized\u001b[49m\u001b[38;5;241;43m=\u001b[39;49m\u001b[43mvectorized\u001b[49m\u001b[43m,\u001b[49m\u001b[43m \u001b[49m\u001b[38;5;241;43m*\u001b[39;49m\u001b[38;5;241;43m*\u001b[39;49m\u001b[43moptions\u001b[49m\u001b[43m)\u001b[49m\n\u001b[1;32m    548\u001b[0m \u001b[38;5;28;01mif\u001b[39;00m t_eval \u001b[38;5;129;01mis\u001b[39;00m \u001b[38;5;28;01mNone\u001b[39;00m:\n\u001b[1;32m    549\u001b[0m     ts \u001b[38;5;241m=\u001b[39m [t0]\n",
      "File \u001b[0;32m/usr/local/lib/python3.9/dist-packages/scipy/integrate/_ivp/rk.py:94\u001b[0m, in \u001b[0;36mRungeKutta.__init__\u001b[0;34m(self, fun, t0, y0, t_bound, max_step, rtol, atol, vectorized, first_step, **extraneous)\u001b[0m\n\u001b[1;32m     92\u001b[0m \u001b[38;5;28mself\u001b[39m\u001b[38;5;241m.\u001b[39mmax_step \u001b[38;5;241m=\u001b[39m validate_max_step(max_step)\n\u001b[1;32m     93\u001b[0m \u001b[38;5;28mself\u001b[39m\u001b[38;5;241m.\u001b[39mrtol, \u001b[38;5;28mself\u001b[39m\u001b[38;5;241m.\u001b[39matol \u001b[38;5;241m=\u001b[39m validate_tol(rtol, atol, \u001b[38;5;28mself\u001b[39m\u001b[38;5;241m.\u001b[39mn)\n\u001b[0;32m---> 94\u001b[0m \u001b[38;5;28mself\u001b[39m\u001b[38;5;241m.\u001b[39mf \u001b[38;5;241m=\u001b[39m \u001b[38;5;28;43mself\u001b[39;49m\u001b[38;5;241;43m.\u001b[39;49m\u001b[43mfun\u001b[49m\u001b[43m(\u001b[49m\u001b[38;5;28;43mself\u001b[39;49m\u001b[38;5;241;43m.\u001b[39;49m\u001b[43mt\u001b[49m\u001b[43m,\u001b[49m\u001b[43m \u001b[49m\u001b[38;5;28;43mself\u001b[39;49m\u001b[38;5;241;43m.\u001b[39;49m\u001b[43my\u001b[49m\u001b[43m)\u001b[49m\n\u001b[1;32m     95\u001b[0m \u001b[38;5;28;01mif\u001b[39;00m first_step \u001b[38;5;129;01mis\u001b[39;00m \u001b[38;5;28;01mNone\u001b[39;00m:\n\u001b[1;32m     96\u001b[0m     \u001b[38;5;28mself\u001b[39m\u001b[38;5;241m.\u001b[39mh_abs \u001b[38;5;241m=\u001b[39m select_initial_step(\n\u001b[1;32m     97\u001b[0m         \u001b[38;5;28mself\u001b[39m\u001b[38;5;241m.\u001b[39mfun, \u001b[38;5;28mself\u001b[39m\u001b[38;5;241m.\u001b[39mt, \u001b[38;5;28mself\u001b[39m\u001b[38;5;241m.\u001b[39my, \u001b[38;5;28mself\u001b[39m\u001b[38;5;241m.\u001b[39mf, \u001b[38;5;28mself\u001b[39m\u001b[38;5;241m.\u001b[39mdirection,\n\u001b[1;32m     98\u001b[0m         \u001b[38;5;28mself\u001b[39m\u001b[38;5;241m.\u001b[39merror_estimator_order, \u001b[38;5;28mself\u001b[39m\u001b[38;5;241m.\u001b[39mrtol, \u001b[38;5;28mself\u001b[39m\u001b[38;5;241m.\u001b[39matol)\n",
      "File \u001b[0;32m/usr/local/lib/python3.9/dist-packages/scipy/integrate/_ivp/base.py:138\u001b[0m, in \u001b[0;36mOdeSolver.__init__.<locals>.fun\u001b[0;34m(t, y)\u001b[0m\n\u001b[1;32m    136\u001b[0m \u001b[38;5;28;01mdef\u001b[39;00m \u001b[38;5;21mfun\u001b[39m(t, y):\n\u001b[1;32m    137\u001b[0m     \u001b[38;5;28mself\u001b[39m\u001b[38;5;241m.\u001b[39mnfev \u001b[38;5;241m+\u001b[39m\u001b[38;5;241m=\u001b[39m \u001b[38;5;241m1\u001b[39m\n\u001b[0;32m--> 138\u001b[0m     \u001b[38;5;28;01mreturn\u001b[39;00m \u001b[38;5;28;43mself\u001b[39;49m\u001b[38;5;241;43m.\u001b[39;49m\u001b[43mfun_single\u001b[49m\u001b[43m(\u001b[49m\u001b[43mt\u001b[49m\u001b[43m,\u001b[49m\u001b[43m \u001b[49m\u001b[43my\u001b[49m\u001b[43m)\u001b[49m\n",
      "File \u001b[0;32m/usr/local/lib/python3.9/dist-packages/scipy/integrate/_ivp/base.py:20\u001b[0m, in \u001b[0;36mcheck_arguments.<locals>.fun_wrapped\u001b[0;34m(t, y)\u001b[0m\n\u001b[1;32m     19\u001b[0m \u001b[38;5;28;01mdef\u001b[39;00m \u001b[38;5;21mfun_wrapped\u001b[39m(t, y):\n\u001b[0;32m---> 20\u001b[0m     \u001b[38;5;28;01mreturn\u001b[39;00m np\u001b[38;5;241m.\u001b[39masarray(\u001b[43mfun\u001b[49m\u001b[43m(\u001b[49m\u001b[43mt\u001b[49m\u001b[43m,\u001b[49m\u001b[43m \u001b[49m\u001b[43my\u001b[49m\u001b[43m)\u001b[49m, dtype\u001b[38;5;241m=\u001b[39mdtype)\n",
      "File \u001b[0;32m/usr/local/lib/python3.9/dist-packages/scipy/integrate/_ivp/ivp.py:518\u001b[0m, in \u001b[0;36msolve_ivp.<locals>.<lambda>\u001b[0;34m(t, x, fun)\u001b[0m\n\u001b[1;32m    512\u001b[0m t0, tf \u001b[38;5;241m=\u001b[39m \u001b[38;5;28mmap\u001b[39m(\u001b[38;5;28mfloat\u001b[39m, t_span)\n\u001b[1;32m    514\u001b[0m \u001b[38;5;28;01mif\u001b[39;00m args \u001b[38;5;129;01mis\u001b[39;00m \u001b[38;5;129;01mnot\u001b[39;00m \u001b[38;5;28;01mNone\u001b[39;00m:\n\u001b[1;32m    515\u001b[0m     \u001b[38;5;66;03m# Wrap the user's fun (and jac, if given) in lambdas to hide the\u001b[39;00m\n\u001b[1;32m    516\u001b[0m     \u001b[38;5;66;03m# additional parameters.  Pass in the original fun as a keyword\u001b[39;00m\n\u001b[1;32m    517\u001b[0m     \u001b[38;5;66;03m# argument to keep it in the scope of the lambda.\u001b[39;00m\n\u001b[0;32m--> 518\u001b[0m     fun \u001b[38;5;241m=\u001b[39m \u001b[38;5;28;01mlambda\u001b[39;00m t, x, fun\u001b[38;5;241m=\u001b[39mfun: \u001b[43mfun\u001b[49m\u001b[43m(\u001b[49m\u001b[43mt\u001b[49m\u001b[43m,\u001b[49m\u001b[43m \u001b[49m\u001b[43mx\u001b[49m\u001b[43m,\u001b[49m\u001b[43m \u001b[49m\u001b[38;5;241;43m*\u001b[39;49m\u001b[43margs\u001b[49m\u001b[43m)\u001b[49m\n\u001b[1;32m    519\u001b[0m     jac \u001b[38;5;241m=\u001b[39m options\u001b[38;5;241m.\u001b[39mget(\u001b[38;5;124m'\u001b[39m\u001b[38;5;124mjac\u001b[39m\u001b[38;5;124m'\u001b[39m)\n\u001b[1;32m    520\u001b[0m     \u001b[38;5;28;01mif\u001b[39;00m callable(jac):\n",
      "File \u001b[0;32m/tmp/ipykernel_57/3879634559.py:4\u001b[0m, in \u001b[0;36mdomega_dt\u001b[0;34m(t, omega, r, m)\u001b[0m\n\u001b[1;32m      2\u001b[0m r1 \u001b[38;5;241m=\u001b[39m tf\u001b[38;5;241m.\u001b[39mtensordot(tf\u001b[38;5;241m.\u001b[39mconstant(rotation_matrix(t, omega, \u001b[38;5;241m1\u001b[39m), dtype\u001b[38;5;241m=\u001b[39m\u001b[38;5;124m\"\u001b[39m\u001b[38;5;124mfloat32\u001b[39m\u001b[38;5;124m\"\u001b[39m), r, axes\u001b[38;5;241m=\u001b[39m[[\u001b[38;5;241m1\u001b[39m], [\u001b[38;5;241m0\u001b[39m]])\n\u001b[1;32m      3\u001b[0m r2 \u001b[38;5;241m=\u001b[39m tf\u001b[38;5;241m.\u001b[39mtensordot(tf\u001b[38;5;241m.\u001b[39mconstant(rotation_matrix(t, omega, \u001b[38;5;241m2\u001b[39m), dtype\u001b[38;5;241m=\u001b[39m\u001b[38;5;124m\"\u001b[39m\u001b[38;5;124mfloat32\u001b[39m\u001b[38;5;124m\"\u001b[39m), r, axes\u001b[38;5;241m=\u001b[39m[[\u001b[38;5;241m1\u001b[39m], [\u001b[38;5;241m0\u001b[39m]])\n\u001b[0;32m----> 4\u001b[0m r3 \u001b[38;5;241m=\u001b[39m \u001b[43mtf\u001b[49m\u001b[38;5;241;43m.\u001b[39;49m\u001b[43mtensordot\u001b[49m\u001b[43m(\u001b[49m\u001b[43mtf\u001b[49m\u001b[38;5;241;43m.\u001b[39;49m\u001b[43mconstant\u001b[49m\u001b[43m(\u001b[49m\u001b[43mrotation_matrix\u001b[49m\u001b[43m(\u001b[49m\u001b[43mt\u001b[49m\u001b[43m,\u001b[49m\u001b[43m \u001b[49m\u001b[43momega\u001b[49m\u001b[43m,\u001b[49m\u001b[43m \u001b[49m\u001b[38;5;241;43m3\u001b[39;49m\u001b[43m)\u001b[49m\u001b[43m,\u001b[49m\u001b[43m \u001b[49m\u001b[43mdtype\u001b[49m\u001b[38;5;241;43m=\u001b[39;49m\u001b[38;5;124;43m\"\u001b[39;49m\u001b[38;5;124;43mfloat32\u001b[39;49m\u001b[38;5;124;43m\"\u001b[39;49m\u001b[43m)\u001b[49m\u001b[43m,\u001b[49m\u001b[43m \u001b[49m\u001b[43mr\u001b[49m\u001b[43m,\u001b[49m\u001b[43m \u001b[49m\u001b[43maxes\u001b[49m\u001b[38;5;241;43m=\u001b[39;49m\u001b[43m[\u001b[49m\u001b[43m[\u001b[49m\u001b[38;5;241;43m1\u001b[39;49m\u001b[43m]\u001b[49m\u001b[43m,\u001b[49m\u001b[43m \u001b[49m\u001b[43m[\u001b[49m\u001b[38;5;241;43m0\u001b[39;49m\u001b[43m]\u001b[49m\u001b[43m]\u001b[49m\u001b[43m)\u001b[49m\n\u001b[1;32m      5\u001b[0m r1_dot \u001b[38;5;241m=\u001b[39m tf\u001b[38;5;241m.\u001b[39mreduce_sum(tf\u001b[38;5;241m.\u001b[39msquare(r1))\n\u001b[1;32m      6\u001b[0m r2_dot \u001b[38;5;241m=\u001b[39m tf\u001b[38;5;241m.\u001b[39mreduce_sum(tf\u001b[38;5;241m.\u001b[39msquare(r2))\n",
      "File \u001b[0;32m/usr/local/lib/python3.9/dist-packages/tensorflow/python/util/traceback_utils.py:150\u001b[0m, in \u001b[0;36mfilter_traceback.<locals>.error_handler\u001b[0;34m(*args, **kwargs)\u001b[0m\n\u001b[1;32m    148\u001b[0m filtered_tb \u001b[38;5;241m=\u001b[39m \u001b[38;5;28;01mNone\u001b[39;00m\n\u001b[1;32m    149\u001b[0m \u001b[38;5;28;01mtry\u001b[39;00m:\n\u001b[0;32m--> 150\u001b[0m   \u001b[38;5;28;01mreturn\u001b[39;00m \u001b[43mfn\u001b[49m\u001b[43m(\u001b[49m\u001b[38;5;241;43m*\u001b[39;49m\u001b[43margs\u001b[49m\u001b[43m,\u001b[49m\u001b[43m \u001b[49m\u001b[38;5;241;43m*\u001b[39;49m\u001b[38;5;241;43m*\u001b[39;49m\u001b[43mkwargs\u001b[49m\u001b[43m)\u001b[49m\n\u001b[1;32m    151\u001b[0m \u001b[38;5;28;01mexcept\u001b[39;00m \u001b[38;5;167;01mException\u001b[39;00m \u001b[38;5;28;01mas\u001b[39;00m e:\n\u001b[1;32m    152\u001b[0m   filtered_tb \u001b[38;5;241m=\u001b[39m _process_traceback_frames(e\u001b[38;5;241m.\u001b[39m__traceback__)\n",
      "File \u001b[0;32m/usr/local/lib/python3.9/dist-packages/tensorflow/python/util/dispatch.py:1082\u001b[0m, in \u001b[0;36madd_dispatch_support.<locals>.decorator.<locals>.op_dispatch_handler\u001b[0;34m(*args, **kwargs)\u001b[0m\n\u001b[1;32m   1080\u001b[0m \u001b[38;5;66;03m# Fallback dispatch system (dispatch v1):\u001b[39;00m\n\u001b[1;32m   1081\u001b[0m \u001b[38;5;28;01mtry\u001b[39;00m:\n\u001b[0;32m-> 1082\u001b[0m   \u001b[38;5;28;01mreturn\u001b[39;00m \u001b[43mdispatch_target\u001b[49m\u001b[43m(\u001b[49m\u001b[38;5;241;43m*\u001b[39;49m\u001b[43margs\u001b[49m\u001b[43m,\u001b[49m\u001b[43m \u001b[49m\u001b[38;5;241;43m*\u001b[39;49m\u001b[38;5;241;43m*\u001b[39;49m\u001b[43mkwargs\u001b[49m\u001b[43m)\u001b[49m\n\u001b[1;32m   1083\u001b[0m \u001b[38;5;28;01mexcept\u001b[39;00m (\u001b[38;5;167;01mTypeError\u001b[39;00m, \u001b[38;5;167;01mValueError\u001b[39;00m):\n\u001b[1;32m   1084\u001b[0m   \u001b[38;5;66;03m# Note: convert_to_eager_tensor currently raises a ValueError, not a\u001b[39;00m\n\u001b[1;32m   1085\u001b[0m   \u001b[38;5;66;03m# TypeError, when given unexpected types.  So we need to catch both.\u001b[39;00m\n\u001b[1;32m   1086\u001b[0m   result \u001b[38;5;241m=\u001b[39m dispatch(op_dispatch_handler, args, kwargs)\n",
      "File \u001b[0;32m/usr/local/lib/python3.9/dist-packages/tensorflow/python/ops/math_ops.py:5121\u001b[0m, in \u001b[0;36mtensordot\u001b[0;34m(a, b, axes, name)\u001b[0m\n\u001b[1;32m   5119\u001b[0m b \u001b[38;5;241m=\u001b[39m ops\u001b[38;5;241m.\u001b[39mconvert_to_tensor(b, name\u001b[38;5;241m=\u001b[39m\u001b[38;5;124m\"\u001b[39m\u001b[38;5;124mb\u001b[39m\u001b[38;5;124m\"\u001b[39m)\n\u001b[1;32m   5120\u001b[0m a_axes, b_axes \u001b[38;5;241m=\u001b[39m _tensordot_axes(a, axes)\n\u001b[0;32m-> 5121\u001b[0m a_reshape, a_free_dims, a_free_dims_static \u001b[38;5;241m=\u001b[39m \u001b[43m_tensordot_reshape\u001b[49m\u001b[43m(\u001b[49m\u001b[43ma\u001b[49m\u001b[43m,\u001b[49m\u001b[43m \u001b[49m\u001b[43ma_axes\u001b[49m\u001b[43m)\u001b[49m\n\u001b[1;32m   5122\u001b[0m b_reshape, b_free_dims, b_free_dims_static \u001b[38;5;241m=\u001b[39m _tensordot_reshape(\n\u001b[1;32m   5123\u001b[0m     b, b_axes, \u001b[38;5;28;01mTrue\u001b[39;00m)\n\u001b[1;32m   5124\u001b[0m ab_matmul \u001b[38;5;241m=\u001b[39m matmul(a_reshape, b_reshape)\n",
      "File \u001b[0;32m/usr/local/lib/python3.9/dist-packages/tensorflow/python/ops/math_ops.py:5043\u001b[0m, in \u001b[0;36mtensordot.<locals>._tensordot_reshape\u001b[0;34m(a, axes, flipped)\u001b[0m\n\u001b[1;32m   5041\u001b[0m new_shape \u001b[38;5;241m=\u001b[39m [prod_axes, prod_free] \u001b[38;5;28;01mif\u001b[39;00m flipped \u001b[38;5;28;01melse\u001b[39;00m [prod_free, prod_axes]\n\u001b[1;32m   5042\u001b[0m \u001b[38;5;28;01mif\u001b[39;00m (perm \u001b[38;5;241m!=\u001b[39m np\u001b[38;5;241m.\u001b[39marange(\u001b[38;5;28mlen\u001b[39m(shape_a)))\u001b[38;5;241m.\u001b[39many():\n\u001b[0;32m-> 5043\u001b[0m   a_trans \u001b[38;5;241m=\u001b[39m \u001b[43marray_ops\u001b[49m\u001b[38;5;241;43m.\u001b[39;49m\u001b[43mtranspose\u001b[49m\u001b[43m(\u001b[49m\u001b[43ma\u001b[49m\u001b[43m,\u001b[49m\u001b[43m \u001b[49m\u001b[43mperm\u001b[49m\u001b[43m)\u001b[49m\n\u001b[1;32m   5044\u001b[0m \u001b[38;5;28;01melse\u001b[39;00m:\n\u001b[1;32m   5045\u001b[0m   a_trans \u001b[38;5;241m=\u001b[39m a\n",
      "File \u001b[0;32m/usr/local/lib/python3.9/dist-packages/tensorflow/python/util/traceback_utils.py:150\u001b[0m, in \u001b[0;36mfilter_traceback.<locals>.error_handler\u001b[0;34m(*args, **kwargs)\u001b[0m\n\u001b[1;32m    148\u001b[0m filtered_tb \u001b[38;5;241m=\u001b[39m \u001b[38;5;28;01mNone\u001b[39;00m\n\u001b[1;32m    149\u001b[0m \u001b[38;5;28;01mtry\u001b[39;00m:\n\u001b[0;32m--> 150\u001b[0m   \u001b[38;5;28;01mreturn\u001b[39;00m \u001b[43mfn\u001b[49m\u001b[43m(\u001b[49m\u001b[38;5;241;43m*\u001b[39;49m\u001b[43margs\u001b[49m\u001b[43m,\u001b[49m\u001b[43m \u001b[49m\u001b[38;5;241;43m*\u001b[39;49m\u001b[38;5;241;43m*\u001b[39;49m\u001b[43mkwargs\u001b[49m\u001b[43m)\u001b[49m\n\u001b[1;32m    151\u001b[0m \u001b[38;5;28;01mexcept\u001b[39;00m \u001b[38;5;167;01mException\u001b[39;00m \u001b[38;5;28;01mas\u001b[39;00m e:\n\u001b[1;32m    152\u001b[0m   filtered_tb \u001b[38;5;241m=\u001b[39m _process_traceback_frames(e\u001b[38;5;241m.\u001b[39m__traceback__)\n",
      "File \u001b[0;32m/usr/local/lib/python3.9/dist-packages/tensorflow/python/util/dispatch.py:1082\u001b[0m, in \u001b[0;36madd_dispatch_support.<locals>.decorator.<locals>.op_dispatch_handler\u001b[0;34m(*args, **kwargs)\u001b[0m\n\u001b[1;32m   1080\u001b[0m \u001b[38;5;66;03m# Fallback dispatch system (dispatch v1):\u001b[39;00m\n\u001b[1;32m   1081\u001b[0m \u001b[38;5;28;01mtry\u001b[39;00m:\n\u001b[0;32m-> 1082\u001b[0m   \u001b[38;5;28;01mreturn\u001b[39;00m \u001b[43mdispatch_target\u001b[49m\u001b[43m(\u001b[49m\u001b[38;5;241;43m*\u001b[39;49m\u001b[43margs\u001b[49m\u001b[43m,\u001b[49m\u001b[43m \u001b[49m\u001b[38;5;241;43m*\u001b[39;49m\u001b[38;5;241;43m*\u001b[39;49m\u001b[43mkwargs\u001b[49m\u001b[43m)\u001b[49m\n\u001b[1;32m   1083\u001b[0m \u001b[38;5;28;01mexcept\u001b[39;00m (\u001b[38;5;167;01mTypeError\u001b[39;00m, \u001b[38;5;167;01mValueError\u001b[39;00m):\n\u001b[1;32m   1084\u001b[0m   \u001b[38;5;66;03m# Note: convert_to_eager_tensor currently raises a ValueError, not a\u001b[39;00m\n\u001b[1;32m   1085\u001b[0m   \u001b[38;5;66;03m# TypeError, when given unexpected types.  So we need to catch both.\u001b[39;00m\n\u001b[1;32m   1086\u001b[0m   result \u001b[38;5;241m=\u001b[39m dispatch(op_dispatch_handler, args, kwargs)\n",
      "File \u001b[0;32m/usr/local/lib/python3.9/dist-packages/tensorflow/python/ops/array_ops.py:2367\u001b[0m, in \u001b[0;36mtranspose\u001b[0;34m(a, perm, name, conjugate)\u001b[0m\n\u001b[1;32m   2364\u001b[0m   transpose_fn \u001b[38;5;241m=\u001b[39m gen_array_ops\u001b[38;5;241m.\u001b[39mtranspose\n\u001b[1;32m   2366\u001b[0m \u001b[38;5;28;01mif\u001b[39;00m perm \u001b[38;5;129;01mis\u001b[39;00m \u001b[38;5;129;01mnot\u001b[39;00m \u001b[38;5;28;01mNone\u001b[39;00m:\n\u001b[0;32m-> 2367\u001b[0m   \u001b[38;5;28;01mreturn\u001b[39;00m \u001b[43mtranspose_fn\u001b[49m\u001b[43m(\u001b[49m\u001b[43ma\u001b[49m\u001b[43m,\u001b[49m\u001b[43m \u001b[49m\u001b[43mperm\u001b[49m\u001b[43m,\u001b[49m\u001b[43m \u001b[49m\u001b[43mname\u001b[49m\u001b[38;5;241;43m=\u001b[39;49m\u001b[43mname\u001b[49m\u001b[43m)\u001b[49m\n\u001b[1;32m   2369\u001b[0m rank \u001b[38;5;241m=\u001b[39m a\u001b[38;5;241m.\u001b[39mshape\u001b[38;5;241m.\u001b[39mrank\n\u001b[1;32m   2370\u001b[0m \u001b[38;5;28;01mif\u001b[39;00m rank \u001b[38;5;129;01mis\u001b[39;00m \u001b[38;5;28;01mNone\u001b[39;00m:\n",
      "File \u001b[0;32m/usr/local/lib/python3.9/dist-packages/tensorflow/python/ops/gen_array_ops.py:11875\u001b[0m, in \u001b[0;36mtranspose\u001b[0;34m(x, perm, name)\u001b[0m\n\u001b[1;32m  11873\u001b[0m   \u001b[38;5;28;01mpass\u001b[39;00m\n\u001b[1;32m  11874\u001b[0m \u001b[38;5;28;01mtry\u001b[39;00m:\n\u001b[0;32m> 11875\u001b[0m   \u001b[38;5;28;01mreturn\u001b[39;00m \u001b[43mtranspose_eager_fallback\u001b[49m\u001b[43m(\u001b[49m\n\u001b[1;32m  11876\u001b[0m \u001b[43m      \u001b[49m\u001b[43mx\u001b[49m\u001b[43m,\u001b[49m\u001b[43m \u001b[49m\u001b[43mperm\u001b[49m\u001b[43m,\u001b[49m\u001b[43m \u001b[49m\u001b[43mname\u001b[49m\u001b[38;5;241;43m=\u001b[39;49m\u001b[43mname\u001b[49m\u001b[43m,\u001b[49m\u001b[43m \u001b[49m\u001b[43mctx\u001b[49m\u001b[38;5;241;43m=\u001b[39;49m\u001b[43m_ctx\u001b[49m\u001b[43m)\u001b[49m\n\u001b[1;32m  11877\u001b[0m \u001b[38;5;28;01mexcept\u001b[39;00m _core\u001b[38;5;241m.\u001b[39m_SymbolicException:\n\u001b[1;32m  11878\u001b[0m   \u001b[38;5;28;01mpass\u001b[39;00m  \u001b[38;5;66;03m# Add nodes to the TensorFlow graph.\u001b[39;00m\n",
      "File \u001b[0;32m/usr/local/lib/python3.9/dist-packages/tensorflow/python/ops/gen_array_ops.py:11900\u001b[0m, in \u001b[0;36mtranspose_eager_fallback\u001b[0;34m(x, perm, name, ctx)\u001b[0m\n\u001b[1;32m  11898\u001b[0m _inputs_flat \u001b[38;5;241m=\u001b[39m [x, perm]\n\u001b[1;32m  11899\u001b[0m _attrs \u001b[38;5;241m=\u001b[39m (\u001b[38;5;124m\"\u001b[39m\u001b[38;5;124mT\u001b[39m\u001b[38;5;124m\"\u001b[39m, _attr_T, \u001b[38;5;124m\"\u001b[39m\u001b[38;5;124mTperm\u001b[39m\u001b[38;5;124m\"\u001b[39m, _attr_Tperm)\n\u001b[0;32m> 11900\u001b[0m _result \u001b[38;5;241m=\u001b[39m \u001b[43m_execute\u001b[49m\u001b[38;5;241;43m.\u001b[39;49m\u001b[43mexecute\u001b[49m\u001b[43m(\u001b[49m\u001b[38;5;124;43mb\u001b[39;49m\u001b[38;5;124;43m\"\u001b[39;49m\u001b[38;5;124;43mTranspose\u001b[39;49m\u001b[38;5;124;43m\"\u001b[39;49m\u001b[43m,\u001b[49m\u001b[43m \u001b[49m\u001b[38;5;241;43m1\u001b[39;49m\u001b[43m,\u001b[49m\u001b[43m \u001b[49m\u001b[43minputs\u001b[49m\u001b[38;5;241;43m=\u001b[39;49m\u001b[43m_inputs_flat\u001b[49m\u001b[43m,\u001b[49m\n\u001b[1;32m  11901\u001b[0m \u001b[43m                           \u001b[49m\u001b[43mattrs\u001b[49m\u001b[38;5;241;43m=\u001b[39;49m\u001b[43m_attrs\u001b[49m\u001b[43m,\u001b[49m\u001b[43m \u001b[49m\u001b[43mctx\u001b[49m\u001b[38;5;241;43m=\u001b[39;49m\u001b[43mctx\u001b[49m\u001b[43m,\u001b[49m\u001b[43m \u001b[49m\u001b[43mname\u001b[49m\u001b[38;5;241;43m=\u001b[39;49m\u001b[43mname\u001b[49m\u001b[43m)\u001b[49m\n\u001b[1;32m  11902\u001b[0m \u001b[38;5;28;01mif\u001b[39;00m _execute\u001b[38;5;241m.\u001b[39mmust_record_gradient():\n\u001b[1;32m  11903\u001b[0m   _execute\u001b[38;5;241m.\u001b[39mrecord_gradient(\n\u001b[1;32m  11904\u001b[0m       \u001b[38;5;124m\"\u001b[39m\u001b[38;5;124mTranspose\u001b[39m\u001b[38;5;124m\"\u001b[39m, _inputs_flat, _attrs, _result)\n",
      "File \u001b[0;32m/usr/local/lib/python3.9/dist-packages/tensorflow/python/eager/execute.py:54\u001b[0m, in \u001b[0;36mquick_execute\u001b[0;34m(op_name, num_outputs, inputs, attrs, ctx, name)\u001b[0m\n\u001b[1;32m     52\u001b[0m \u001b[38;5;28;01mtry\u001b[39;00m:\n\u001b[1;32m     53\u001b[0m   ctx\u001b[38;5;241m.\u001b[39mensure_initialized()\n\u001b[0;32m---> 54\u001b[0m   tensors \u001b[38;5;241m=\u001b[39m \u001b[43mpywrap_tfe\u001b[49m\u001b[38;5;241;43m.\u001b[39;49m\u001b[43mTFE_Py_Execute\u001b[49m\u001b[43m(\u001b[49m\u001b[43mctx\u001b[49m\u001b[38;5;241;43m.\u001b[39;49m\u001b[43m_handle\u001b[49m\u001b[43m,\u001b[49m\u001b[43m \u001b[49m\u001b[43mdevice_name\u001b[49m\u001b[43m,\u001b[49m\u001b[43m \u001b[49m\u001b[43mop_name\u001b[49m\u001b[43m,\u001b[49m\n\u001b[1;32m     55\u001b[0m \u001b[43m                                      \u001b[49m\u001b[43minputs\u001b[49m\u001b[43m,\u001b[49m\u001b[43m \u001b[49m\u001b[43mattrs\u001b[49m\u001b[43m,\u001b[49m\u001b[43m \u001b[49m\u001b[43mnum_outputs\u001b[49m\u001b[43m)\u001b[49m\n\u001b[1;32m     56\u001b[0m \u001b[38;5;28;01mexcept\u001b[39;00m core\u001b[38;5;241m.\u001b[39m_NotOkStatusException \u001b[38;5;28;01mas\u001b[39;00m e:\n\u001b[1;32m     57\u001b[0m   \u001b[38;5;28;01mif\u001b[39;00m name \u001b[38;5;129;01mis\u001b[39;00m \u001b[38;5;129;01mnot\u001b[39;00m \u001b[38;5;28;01mNone\u001b[39;00m:\n",
      "\u001b[0;31mKeyboardInterrupt\u001b[0m: "
     ]
    }
   ],
   "source": [
    "for i in trange(len(good_params)):\n",
    "    eff = evaluate_efficiency(good_params[i], t)\n",
    "    efficiencies.append(eff.numpy())\n",
    "    if i >= 1000 and i % 1000 == 0:\n",
    "        df = pd.DataFrame(efficiencies)\n",
    "        df.to_csv(\"calculated_efficiencies.csv\", index=False, header=False)"
   ]
  },
  {
   "cell_type": "code",
   "execution_count": 55,
   "id": "bacad68b-2117-4b19-a4d0-026c62993f97",
   "metadata": {},
   "outputs": [],
   "source": [
    "df = pd.DataFrame(efficiencies)\n",
    "df.to_csv(\"calculated_efficiencies.csv\", index=False, header=False)"
   ]
  },
  {
   "cell_type": "code",
   "execution_count": 56,
   "id": "bd575993-a349-4d45-b402-5eb14e6927e7",
   "metadata": {},
   "outputs": [],
   "source": [
    "df = pd.DataFrame(np.array(efficiencies))"
   ]
  },
  {
   "cell_type": "code",
   "execution_count": 57,
   "id": "9d9c5cd8-85c2-446b-822e-fcd71bba0304",
   "metadata": {},
   "outputs": [
    {
     "data": {
      "text/plain": [
       "0    0.511146\n",
       "dtype: float32"
      ]
     },
     "execution_count": 57,
     "metadata": {},
     "output_type": "execute_result"
    }
   ],
   "source": [
    "df.mean()"
   ]
  },
  {
   "cell_type": "code",
   "execution_count": 58,
   "id": "9563c608-52f6-40c1-9dce-0ea5568b7cf6",
   "metadata": {},
   "outputs": [
    {
     "data": {
      "text/plain": [
       "0    0.067722\n",
       "dtype: float32"
      ]
     },
     "execution_count": 58,
     "metadata": {},
     "output_type": "execute_result"
    }
   ],
   "source": [
    "df.std()"
   ]
  },
  {
   "cell_type": "code",
   "execution_count": 59,
   "id": "c75ec526-98ef-4583-ad92-44eb1033742e",
   "metadata": {},
   "outputs": [
    {
     "data": {
      "text/plain": [
       "0    0.784475\n",
       "dtype: float32"
      ]
     },
     "execution_count": 59,
     "metadata": {},
     "output_type": "execute_result"
    }
   ],
   "source": [
    "df.max()"
   ]
  },
  {
   "cell_type": "code",
   "execution_count": 60,
   "id": "a686a285-2007-424f-a79d-1bb8a0052d91",
   "metadata": {},
   "outputs": [
    {
     "data": {
      "text/plain": [
       "0    1.565178e-08\n",
       "dtype: float32"
      ]
     },
     "execution_count": 60,
     "metadata": {},
     "output_type": "execute_result"
    }
   ],
   "source": [
    "df.min()"
   ]
  },
  {
   "cell_type": "code",
   "execution_count": 61,
   "id": "5fc37f88-5856-450c-a670-a98b80ec2546",
   "metadata": {},
   "outputs": [
    {
     "data": {
      "text/html": [
       "<div>\n",
       "<style scoped>\n",
       "    .dataframe tbody tr th:only-of-type {\n",
       "        vertical-align: middle;\n",
       "    }\n",
       "\n",
       "    .dataframe tbody tr th {\n",
       "        vertical-align: top;\n",
       "    }\n",
       "\n",
       "    .dataframe thead th {\n",
       "        text-align: right;\n",
       "    }\n",
       "</style>\n",
       "<table border=\"1\" class=\"dataframe\">\n",
       "  <thead>\n",
       "    <tr style=\"text-align: right;\">\n",
       "      <th></th>\n",
       "      <th>0</th>\n",
       "    </tr>\n",
       "  </thead>\n",
       "  <tbody>\n",
       "    <tr>\n",
       "      <th>0</th>\n",
       "      <td>0.567362</td>\n",
       "    </tr>\n",
       "    <tr>\n",
       "      <th>1</th>\n",
       "      <td>0.470978</td>\n",
       "    </tr>\n",
       "    <tr>\n",
       "      <th>2</th>\n",
       "      <td>0.551705</td>\n",
       "    </tr>\n",
       "    <tr>\n",
       "      <th>3</th>\n",
       "      <td>0.491741</td>\n",
       "    </tr>\n",
       "    <tr>\n",
       "      <th>4</th>\n",
       "      <td>0.520799</td>\n",
       "    </tr>\n",
       "  </tbody>\n",
       "</table>\n",
       "</div>"
      ],
      "text/plain": [
       "          0\n",
       "0  0.567362\n",
       "1  0.470978\n",
       "2  0.551705\n",
       "3  0.491741\n",
       "4  0.520799"
      ]
     },
     "execution_count": 61,
     "metadata": {},
     "output_type": "execute_result"
    }
   ],
   "source": [
    "df.head()"
   ]
  },
  {
   "cell_type": "code",
   "execution_count": 17,
   "id": "eafd1c16-de62-4ff3-9f40-f1e100220bdd",
   "metadata": {},
   "outputs": [],
   "source": [
    "pdf = pd.read_csv(\"params.csv\", header=None, index_col=False)\n",
    "pdf.reset_index(inplace=True, drop=True)"
   ]
  },
  {
   "cell_type": "code",
   "execution_count": 20,
   "id": "8f8f568c-d460-4cfd-93de-63c984634036",
   "metadata": {},
   "outputs": [],
   "source": [
    "chunks = []\n",
    "for i in range(8):\n",
    "    chunk_df = pd.read_csv(f\"eff_chunk_{i}.csv\", header=None, index_col=False)\n",
    "    chunks.append(chunk_df)\n",
    "    \n",
    "df = pd.concat(chunks, axis=0)\n",
    "df.reset_index(inplace=True, drop=True)"
   ]
  },
  {
   "cell_type": "code",
   "execution_count": 21,
   "id": "7ec46c2a-7085-40d2-9c54-ceefb76ee1b4",
   "metadata": {},
   "outputs": [
    {
     "data": {
      "text/plain": [
       "RangeIndex(start=0, stop=168676, step=1)"
      ]
     },
     "execution_count": 21,
     "metadata": {},
     "output_type": "execute_result"
    }
   ],
   "source": [
    "df.index"
   ]
  },
  {
   "cell_type": "code",
   "execution_count": 23,
   "id": "e1f05ba1-41a8-4147-8e94-d61aaa266932",
   "metadata": {},
   "outputs": [],
   "source": [
    "full_df = pd.concat([pdf, df], axis=1, ignore_index=True)\n",
    "full_df.columns = [i for i in range(29)]"
   ]
  },
  {
   "cell_type": "code",
   "execution_count": 31,
   "id": "af63bbad-bf3c-4b34-b35b-6e1b5930b1ee",
   "metadata": {},
   "outputs": [],
   "source": [
    "full_df.to_csv(\"full_df.csv\", index=False, header=False)"
   ]
  },
  {
   "cell_type": "code",
   "execution_count": 32,
   "id": "549fbc7b-1f1e-4f10-8d50-cd98cd5565b7",
   "metadata": {},
   "outputs": [],
   "source": [
    "full_df = pd.read_csv(\"full_df.csv\", header=None)"
   ]
  },
  {
   "cell_type": "code",
   "execution_count": 33,
   "id": "01f14404-7e37-4a00-a232-7bd339e33981",
   "metadata": {},
   "outputs": [
    {
     "data": {
      "text/html": [
       "<div>\n",
       "<style scoped>\n",
       "    .dataframe tbody tr th:only-of-type {\n",
       "        vertical-align: middle;\n",
       "    }\n",
       "\n",
       "    .dataframe tbody tr th {\n",
       "        vertical-align: top;\n",
       "    }\n",
       "\n",
       "    .dataframe thead th {\n",
       "        text-align: right;\n",
       "    }\n",
       "</style>\n",
       "<table border=\"1\" class=\"dataframe\">\n",
       "  <thead>\n",
       "    <tr style=\"text-align: right;\">\n",
       "      <th></th>\n",
       "      <th>0</th>\n",
       "      <th>1</th>\n",
       "      <th>2</th>\n",
       "      <th>3</th>\n",
       "      <th>4</th>\n",
       "      <th>5</th>\n",
       "      <th>6</th>\n",
       "      <th>7</th>\n",
       "      <th>8</th>\n",
       "      <th>9</th>\n",
       "      <th>...</th>\n",
       "      <th>19</th>\n",
       "      <th>20</th>\n",
       "      <th>21</th>\n",
       "      <th>22</th>\n",
       "      <th>23</th>\n",
       "      <th>24</th>\n",
       "      <th>25</th>\n",
       "      <th>26</th>\n",
       "      <th>27</th>\n",
       "      <th>28</th>\n",
       "    </tr>\n",
       "  </thead>\n",
       "  <tbody>\n",
       "    <tr>\n",
       "      <th>count</th>\n",
       "      <td>168676.000000</td>\n",
       "      <td>168676.000000</td>\n",
       "      <td>168676.000000</td>\n",
       "      <td>168676.000000</td>\n",
       "      <td>168676.000000</td>\n",
       "      <td>168676.000000</td>\n",
       "      <td>168676.000000</td>\n",
       "      <td>168676.000000</td>\n",
       "      <td>168676.000000</td>\n",
       "      <td>168676.000000</td>\n",
       "      <td>...</td>\n",
       "      <td>168676.000000</td>\n",
       "      <td>168676.000000</td>\n",
       "      <td>168676.000000</td>\n",
       "      <td>168676.000000</td>\n",
       "      <td>168676.000000</td>\n",
       "      <td>168676.000000</td>\n",
       "      <td>168676.000000</td>\n",
       "      <td>168676.000000</td>\n",
       "      <td>168676.000000</td>\n",
       "      <td>1.686760e+05</td>\n",
       "    </tr>\n",
       "    <tr>\n",
       "      <th>mean</th>\n",
       "      <td>25.474876</td>\n",
       "      <td>25.393624</td>\n",
       "      <td>25.458030</td>\n",
       "      <td>25.444342</td>\n",
       "      <td>25.416469</td>\n",
       "      <td>25.853215</td>\n",
       "      <td>25.876987</td>\n",
       "      <td>25.864601</td>\n",
       "      <td>25.779938</td>\n",
       "      <td>25.694248</td>\n",
       "      <td>...</td>\n",
       "      <td>20.004195</td>\n",
       "      <td>20.046714</td>\n",
       "      <td>20.329314</td>\n",
       "      <td>20.005894</td>\n",
       "      <td>20.005798</td>\n",
       "      <td>20.005070</td>\n",
       "      <td>20.020488</td>\n",
       "      <td>20.043900</td>\n",
       "      <td>20.334305</td>\n",
       "      <td>5.136112e-01</td>\n",
       "    </tr>\n",
       "    <tr>\n",
       "      <th>std</th>\n",
       "      <td>12.796902</td>\n",
       "      <td>12.767546</td>\n",
       "      <td>12.783671</td>\n",
       "      <td>12.801518</td>\n",
       "      <td>12.794439</td>\n",
       "      <td>12.867159</td>\n",
       "      <td>12.872714</td>\n",
       "      <td>12.864412</td>\n",
       "      <td>12.845241</td>\n",
       "      <td>12.853611</td>\n",
       "      <td>...</td>\n",
       "      <td>2.306808</td>\n",
       "      <td>2.287594</td>\n",
       "      <td>2.250637</td>\n",
       "      <td>2.311673</td>\n",
       "      <td>2.307875</td>\n",
       "      <td>2.311502</td>\n",
       "      <td>2.301031</td>\n",
       "      <td>2.290410</td>\n",
       "      <td>2.256245</td>\n",
       "      <td>6.173697e-02</td>\n",
       "    </tr>\n",
       "    <tr>\n",
       "      <th>min</th>\n",
       "      <td>5.000402</td>\n",
       "      <td>5.000150</td>\n",
       "      <td>5.000536</td>\n",
       "      <td>5.000011</td>\n",
       "      <td>5.000086</td>\n",
       "      <td>5.000231</td>\n",
       "      <td>5.000129</td>\n",
       "      <td>5.000021</td>\n",
       "      <td>5.000220</td>\n",
       "      <td>5.000408</td>\n",
       "      <td>...</td>\n",
       "      <td>16.000040</td>\n",
       "      <td>16.000013</td>\n",
       "      <td>16.000038</td>\n",
       "      <td>16.000063</td>\n",
       "      <td>16.000078</td>\n",
       "      <td>16.000027</td>\n",
       "      <td>16.000040</td>\n",
       "      <td>16.000038</td>\n",
       "      <td>16.000126</td>\n",
       "      <td>1.417582e-08</td>\n",
       "    </tr>\n",
       "    <tr>\n",
       "      <th>25%</th>\n",
       "      <td>14.315822</td>\n",
       "      <td>14.289331</td>\n",
       "      <td>14.334754</td>\n",
       "      <td>14.254733</td>\n",
       "      <td>14.253843</td>\n",
       "      <td>14.637273</td>\n",
       "      <td>14.667131</td>\n",
       "      <td>14.621394</td>\n",
       "      <td>14.604817</td>\n",
       "      <td>14.502232</td>\n",
       "      <td>...</td>\n",
       "      <td>18.010168</td>\n",
       "      <td>18.089337</td>\n",
       "      <td>18.478952</td>\n",
       "      <td>18.005521</td>\n",
       "      <td>18.012688</td>\n",
       "      <td>18.008364</td>\n",
       "      <td>18.032707</td>\n",
       "      <td>18.080129</td>\n",
       "      <td>18.462955</td>\n",
       "      <td>4.838380e-01</td>\n",
       "    </tr>\n",
       "    <tr>\n",
       "      <th>50%</th>\n",
       "      <td>24.517040</td>\n",
       "      <td>24.392945</td>\n",
       "      <td>24.498492</td>\n",
       "      <td>24.536768</td>\n",
       "      <td>24.447207</td>\n",
       "      <td>25.077008</td>\n",
       "      <td>25.077659</td>\n",
       "      <td>25.144688</td>\n",
       "      <td>24.941940</td>\n",
       "      <td>24.799024</td>\n",
       "      <td>...</td>\n",
       "      <td>20.002634</td>\n",
       "      <td>20.057126</td>\n",
       "      <td>20.470802</td>\n",
       "      <td>20.006597</td>\n",
       "      <td>19.998942</td>\n",
       "      <td>20.004051</td>\n",
       "      <td>20.029111</td>\n",
       "      <td>20.059674</td>\n",
       "      <td>20.482519</td>\n",
       "      <td>5.138777e-01</td>\n",
       "    </tr>\n",
       "    <tr>\n",
       "      <th>75%</th>\n",
       "      <td>36.078326</td>\n",
       "      <td>35.988966</td>\n",
       "      <td>36.068558</td>\n",
       "      <td>36.054601</td>\n",
       "      <td>36.035650</td>\n",
       "      <td>36.669046</td>\n",
       "      <td>36.677391</td>\n",
       "      <td>36.667465</td>\n",
       "      <td>36.536675</td>\n",
       "      <td>36.503062</td>\n",
       "      <td>...</td>\n",
       "      <td>22.005004</td>\n",
       "      <td>22.024314</td>\n",
       "      <td>22.270613</td>\n",
       "      <td>22.006491</td>\n",
       "      <td>22.007065</td>\n",
       "      <td>22.008914</td>\n",
       "      <td>22.014625</td>\n",
       "      <td>22.020444</td>\n",
       "      <td>22.292068</td>\n",
       "      <td>5.464295e-01</td>\n",
       "    </tr>\n",
       "    <tr>\n",
       "      <th>max</th>\n",
       "      <td>49.997710</td>\n",
       "      <td>49.999800</td>\n",
       "      <td>49.999878</td>\n",
       "      <td>49.999500</td>\n",
       "      <td>49.998325</td>\n",
       "      <td>49.999740</td>\n",
       "      <td>49.998604</td>\n",
       "      <td>49.999780</td>\n",
       "      <td>49.999996</td>\n",
       "      <td>49.999855</td>\n",
       "      <td>...</td>\n",
       "      <td>23.999882</td>\n",
       "      <td>23.999956</td>\n",
       "      <td>23.999977</td>\n",
       "      <td>23.999962</td>\n",
       "      <td>23.999996</td>\n",
       "      <td>23.999970</td>\n",
       "      <td>23.999992</td>\n",
       "      <td>23.999990</td>\n",
       "      <td>23.999973</td>\n",
       "      <td>8.224433e-01</td>\n",
       "    </tr>\n",
       "  </tbody>\n",
       "</table>\n",
       "<p>8 rows × 29 columns</p>\n",
       "</div>"
      ],
      "text/plain": [
       "                  0              1              2              3   \\\n",
       "count  168676.000000  168676.000000  168676.000000  168676.000000   \n",
       "mean       25.474876      25.393624      25.458030      25.444342   \n",
       "std        12.796902      12.767546      12.783671      12.801518   \n",
       "min         5.000402       5.000150       5.000536       5.000011   \n",
       "25%        14.315822      14.289331      14.334754      14.254733   \n",
       "50%        24.517040      24.392945      24.498492      24.536768   \n",
       "75%        36.078326      35.988966      36.068558      36.054601   \n",
       "max        49.997710      49.999800      49.999878      49.999500   \n",
       "\n",
       "                  4              5              6              7   \\\n",
       "count  168676.000000  168676.000000  168676.000000  168676.000000   \n",
       "mean       25.416469      25.853215      25.876987      25.864601   \n",
       "std        12.794439      12.867159      12.872714      12.864412   \n",
       "min         5.000086       5.000231       5.000129       5.000021   \n",
       "25%        14.253843      14.637273      14.667131      14.621394   \n",
       "50%        24.447207      25.077008      25.077659      25.144688   \n",
       "75%        36.035650      36.669046      36.677391      36.667465   \n",
       "max        49.998325      49.999740      49.998604      49.999780   \n",
       "\n",
       "                  8              9   ...             19             20  \\\n",
       "count  168676.000000  168676.000000  ...  168676.000000  168676.000000   \n",
       "mean       25.779938      25.694248  ...      20.004195      20.046714   \n",
       "std        12.845241      12.853611  ...       2.306808       2.287594   \n",
       "min         5.000220       5.000408  ...      16.000040      16.000013   \n",
       "25%        14.604817      14.502232  ...      18.010168      18.089337   \n",
       "50%        24.941940      24.799024  ...      20.002634      20.057126   \n",
       "75%        36.536675      36.503062  ...      22.005004      22.024314   \n",
       "max        49.999996      49.999855  ...      23.999882      23.999956   \n",
       "\n",
       "                  21             22             23             24  \\\n",
       "count  168676.000000  168676.000000  168676.000000  168676.000000   \n",
       "mean       20.329314      20.005894      20.005798      20.005070   \n",
       "std         2.250637       2.311673       2.307875       2.311502   \n",
       "min        16.000038      16.000063      16.000078      16.000027   \n",
       "25%        18.478952      18.005521      18.012688      18.008364   \n",
       "50%        20.470802      20.006597      19.998942      20.004051   \n",
       "75%        22.270613      22.006491      22.007065      22.008914   \n",
       "max        23.999977      23.999962      23.999996      23.999970   \n",
       "\n",
       "                  25             26             27            28  \n",
       "count  168676.000000  168676.000000  168676.000000  1.686760e+05  \n",
       "mean       20.020488      20.043900      20.334305  5.136112e-01  \n",
       "std         2.301031       2.290410       2.256245  6.173697e-02  \n",
       "min        16.000040      16.000038      16.000126  1.417582e-08  \n",
       "25%        18.032707      18.080129      18.462955  4.838380e-01  \n",
       "50%        20.029111      20.059674      20.482519  5.138777e-01  \n",
       "75%        22.014625      22.020444      22.292068  5.464295e-01  \n",
       "max        23.999992      23.999990      23.999973  8.224433e-01  \n",
       "\n",
       "[8 rows x 29 columns]"
      ]
     },
     "execution_count": 33,
     "metadata": {},
     "output_type": "execute_result"
    }
   ],
   "source": [
    "full_df.describe()"
   ]
  }
 ],
 "metadata": {
  "kernelspec": {
   "display_name": "Python 3 (ipykernel)",
   "language": "python",
   "name": "python3"
  },
  "language_info": {
   "codemirror_mode": {
    "name": "ipython",
    "version": 3
   },
   "file_extension": ".py",
   "mimetype": "text/x-python",
   "name": "python",
   "nbconvert_exporter": "python",
   "pygments_lexer": "ipython3",
   "version": "3.9.13"
  }
 },
 "nbformat": 4,
 "nbformat_minor": 5
}
